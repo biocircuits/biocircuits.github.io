{
 "cells": [
  {
   "cell_type": "markdown",
   "metadata": {},
   "source": [
    "# Appendix D: Regulatory functions and their derivatives\n",
    "\n",
    "<hr>"
   ]
  },
  {
   "cell_type": "markdown",
   "metadata": {},
   "source": [
    "Because we use certain functions to describe regulation of gene expression, it is useful to have a reference for the functions and their first derivatives (and also some second derivatives).\n",
    "\n",
    "**Dimensional forms**\n",
    "\n",
    "In all cases, the functions are dimensionless, and the arguments of the function are given in dimensionless form. To convert to a dimensional derivative, use the chain rule. Let $x_\\mathrm{dim}$ be the dimensional version of dimensionless $x$ such that $x_\\mathrm{dim} = a x$. Then,\n",
    "\n",
    "\\begin{align}\n",
    "\\frac{df}{\\mathrm{d}x_\\mathrm{dim}} = a \\,\\frac{\\mathrm{d}f}{\\mathrm{d}x}.\n",
    "\\end{align}\n",
    "\n",
    "<br />\n",
    "\n",
    "**Taylor series**\n",
    "\n",
    "In performing linear stability analysis, we need to express functions as Taylor series. For a univariate function (such a simple Hill functions), the Taylor series about the point $x_0$ is\n",
    "\n",
    "\\begin{align}\n",
    "f(x) = f(x_0) + \\left.\\frac{\\mathrm{d}f}{\\mathrm{d}x}\\right|_{x=x_0}\\,(x-x_0) + \\text{higher order terms.}\n",
    "\\end{align}\n",
    "\n",
    "For a bivariate function the Taylor series about point $(x_0, y_0)$ is\n",
    "\n",
    "\\begin{align}\n",
    "f(x, y) = f(x_0, y_0) + \\left.\\frac{\\partial f}{\\partial x}\\right|_{x=x_0, y=y_0}\\,(x-x_0) + \\left.\\frac{\\partial f}{\\partial y}\\right|_{x=x_0, y=y_0}\\,(y-y_0)+ \\text{higher order terms.}\n",
    "\\end{align}"
   ]
  },
  {
   "cell_type": "markdown",
   "metadata": {},
   "source": [
    "## Hill functions\n",
    "\n",
    "### Activating Hill function\n",
    "\n",
    "\\begin{align}\n",
    "&f(x) = \\frac{x^n}{1 + x^n}, \\\\[1em]\n",
    "&\\frac{\\mathrm{d}f}{\\mathrm{d}x} = \\frac{n x^{n-1}}{(1 + x^n)^2},\\\\[1em]\n",
    "&\\frac{\\mathrm{d}^2f}{\\mathrm{d}x^2} = -\\frac{n x^{n-2}\\left(1 - n + (1+n)x^n\\right)}{(1 + x^n)^3}.\n",
    "\\end{align}\n",
    "\n",
    "\n",
    "### Repressive Hill function\n",
    "\n",
    "\\begin{align}\n",
    "&f(x) = \\frac{1}{1 + x^n}, \\\\[1em]\n",
    "&\\frac{\\mathrm{d}f}{\\mathrm{d}x} = -\\frac{n x^{n-1}}{(1 + x^n)^2},\\\\[1em]\n",
    "&\\frac{\\mathrm{d}^2f}{\\mathrm{d}x^2} = \\frac{n x^{n-2}\\left(1 - n + (1+n)x^n\\right)}{(1 + x^n)^3}.\n",
    "\\end{align}\n"
   ]
  },
  {
   "cell_type": "markdown",
   "metadata": {},
   "source": [
    "## Two activators affecting the same gene\n",
    "\n",
    "### AND logic\n",
    "\n",
    "\\begin{align}\n",
    "&f(x, y) = \\frac{x^{n_x} y^{n_y}}{(1 + x^{n_x})\\,(1 + y^{n_y})},\\\\[1em]\n",
    "&\\frac{\\partial f}{\\partial x} = \\frac{n_x\\,x^{n_x-1} y^{n_y}}{(1 + x^{n_x})^2\\,(1 + y^{n_y})},\\\\[1em]\n",
    "&\\frac{\\partial f}{\\partial y} = \\frac{n_y\\,x^{n_x} y^{n_y-1}}{(1 + x^{n_x})\\,(1 + y^{n_y})^2}.\n",
    "\\end{align}\n",
    "\n",
    "### OR logic\n",
    "\n",
    "\\begin{align}\n",
    "&f(x,y) = \\frac{x^{n_x} + y^{n_y} + x^{n_x} y^{n_y}}{(1 + x^{n_x})\\,(1 + y^{n_y})},\\\\[1em]\n",
    "&\\frac{\\partial f}{\\partial x} = \\frac{n_x\\,x^{n_x-1}}{(1 + x^{n_x})^2\\,(1 + y^{n_y})},\\\\[1em]\n",
    "&\\frac{\\partial f}{\\partial y} = \\frac{n_y\\,y^{n_y-1}}{(1 + x^{n_x})\\,(1 + y^{n_y})^2}.\n",
    "\\end{align}\n",
    "\n",
    "### OR logic, single occupancy\n",
    "\n",
    "\\begin{align}\n",
    "&f(x,y) = \\frac{x^{n_x} + y^{n_y}}{1 + x^{n_x}+ y^{n_y}},\\\\[1em]\n",
    "&\\frac{\\partial f}{\\partial x} = \\frac{n_x\\,x^{n_x-1}}{(1 + x^{n_x} + y^{n_y})^2},\\\\[1em]\n",
    "&\\frac{\\partial f}{\\partial y} = \\frac{n_y\\,y^{n_y-1}}{(1 + x^{n_x}+ y^{n_y})^2}.\n",
    "\\end{align}\n"
   ]
  },
  {
   "cell_type": "markdown",
   "metadata": {},
   "source": [
    "## Two repressors affecting the same gene\n",
    "\n",
    "### AND logic\n",
    "\n",
    "\\begin{align}\n",
    "&f(x, y) = \\frac{1}{(1 + x^{n_x})\\,(1 + y^{n_y})},\\\\[1em]\n",
    "&\\frac{\\partial f}{\\partial x} = -\\frac{n_x\\,x^{n_x-1}}{(1 + x^{n_x})^2\\,(1 + y^{n_y})},\\\\[1em]\n",
    "&\\frac{\\partial f}{\\partial y} = -\\frac{n_y\\,y^{n_y-1}}{(1 + x^{n_x})\\,(1 + y^{n_y})^2}.\n",
    "\\end{align}\n",
    "\n",
    "### OR logic\n",
    "\n",
    "\\begin{align}\n",
    "&f(x, y) = \\frac{1 + x^{n_x} + y^{n_y}}{(1 + x^{n_x})\\,(1 + y^{n_y})},\\\\[1em]\n",
    "&\\frac{\\partial f}{\\partial x} = -\\frac{n_x\\,x^{n_x-1}\\,y^{n_y}}{(1 + x^{n_x})^2\\,(1 + y^{n_y})},\\\\[1em]\n",
    "&\\frac{\\partial f}{\\partial y} = -\\frac{n_y\\,x^{n_x}\\,y^{n_y-1}}{(1 + x^{n_x})\\,(1 + y^{n_y})^2}.\n",
    "\\end{align}\n",
    "\n",
    "### AND logic, single occupancy\n",
    "\n",
    "\\begin{align}\n",
    "&f(x, y) = \\frac{1}{(1 + x^{n_x} + y^{n_y})},\\\\[1em]\n",
    "&\\frac{\\partial f}{\\partial x} = -\\frac{n_x\\,x^{n_x-1}}{(1 + x^{n_x} + y^{n_y})^2},\\\\[1em]\n",
    "&\\frac{\\partial f}{\\partial y} = -\\frac{n_y\\,y^{n_y-1}}{(1 + x^{n_x} + y^{n_y})^2}.\n",
    "\\end{align}"
   ]
  },
  {
   "cell_type": "markdown",
   "metadata": {},
   "source": [
    "## One activator and one repressor affecting the same gene\n",
    "\n",
    "Here, we assign $x$ to be the concentration of the activator and $y$ to be the concentration of the repressor.\n",
    "\n",
    "### AND logic\n",
    "\n",
    "\\begin{align}\n",
    "&f(x, y) = \\frac{x^{n_x}}{(1 + x^{n_x})\\,(1 + y^{n_y})},\\\\[1em]\n",
    "&\\frac{\\partial f}{\\partial x} = \\frac{n_x\\,x^{n_x-1}}{(1 + x^{n_x})^2\\,(1 + y^{n_y})},\\\\[1em]\n",
    "&\\frac{\\partial f}{\\partial y} = -\\frac{n_y\\,x^{n_x}\\,y^{n_y-1}}{(1 + x^{n_x})\\,(1 + y^{n_y})^2}.\n",
    "\\end{align}\n",
    "\n",
    "### OR logic\n",
    "\n",
    "\\begin{align}\n",
    "&f(x, y) = \\frac{1 + x^{n_x} + x^{n_x}y^{n_y}}{(1 + x^{n_x})\\,(1 + y^{n_y})},\\\\[1em]\n",
    "&\\frac{\\partial f}{\\partial x} = \\frac{n_x\\,x^{n_x-1}\\,y^{n_y}}{(1 + x^{n_x})^2\\,(1 + y^{n_y})},\\\\[1em]\n",
    "&\\frac{\\partial f}{\\partial y} = -\\frac{n_y\\,y^{n_y-1}}{(1 + x^{n_x})\\,(1 + y^{n_y})^2}.\n",
    "\\end{align}\n",
    "\n",
    "### AND logic, single occupancy\n",
    "\n",
    "\\begin{align}\n",
    "&f(x, y) = \\frac{x^{n_x}}{1 + x^{n_x} + y^{n_y}},\\\\[1em]\n",
    "&\\frac{\\partial f}{\\partial x} = \\frac{n_x\\,x^{n_x-1}(1+y^{n_y})}{(1 + x^{n_x} + y^{n_y})^2},\\\\[1em]\n",
    "&\\frac{\\partial f}{\\partial y} = -\\frac{n_y\\,x^{n_x}\\,y^{n_y-1}}{(1 + x^{n_x} + y^{n_y})^2}.\n",
    "\\end{align}\n",
    "\n",
    "### OR logic, single occupancy\n",
    "\n",
    "\\begin{align}\n",
    "&f(x, y) = \\frac{1 + x^{n_x}}{1 + x^{n_x} + y^{n_y}},\\\\[1em]\n",
    "&\\frac{\\partial f}{\\partial x} = \\frac{n_x\\,x^{n_x-1}\\,y^{n_y}}{(1 + x^{n_x} + y^{n_y})^2},\\\\[1em]\n",
    "&\\frac{\\partial f}{\\partial y} = -\\frac{n_y\\,(1+x^{n_x})\\,y^{n_y-1}}{(1 + x^{n_x} + y^{n_y})^2}.\n",
    "\\end{align}\n"
   ]
  }
 ],
 "metadata": {
  "kernelspec": {
   "display_name": "Python 3 (ipykernel)",
   "language": "python",
   "name": "python3"
  },
  "language_info": {
   "codemirror_mode": {
    "name": "ipython",
    "version": 3
   },
   "file_extension": ".py",
   "mimetype": "text/x-python",
   "name": "python",
   "nbconvert_exporter": "python",
   "pygments_lexer": "ipython3",
   "version": "3.10.9"
  },
  "toc": {
   "base_numbering": 1,
   "nav_menu": {},
   "number_sections": true,
   "sideBar": true,
   "skip_h1_title": false,
   "title_cell": "Table of Contents",
   "title_sidebar": "Contents",
   "toc_cell": false,
   "toc_position": {},
   "toc_section_display": true,
   "toc_window_display": false
  },
  "varInspector": {
   "cols": {
    "lenName": 16,
    "lenType": 16,
    "lenVar": 40
   },
   "kernels_config": {
    "python": {
     "delete_cmd_postfix": "",
     "delete_cmd_prefix": "del ",
     "library": "var_list.py",
     "varRefreshCmd": "print(var_dic_list())"
    },
    "r": {
     "delete_cmd_postfix": ") ",
     "delete_cmd_prefix": "rm(",
     "library": "var_list.r",
     "varRefreshCmd": "cat(var_dic_list()) "
    }
   },
   "types_to_exclude": [
    "module",
    "function",
    "builtin_function_or_method",
    "instance",
    "_Feature"
   ],
   "window_display": false
  }
 },
 "nbformat": 4,
 "nbformat_minor": 4
}
