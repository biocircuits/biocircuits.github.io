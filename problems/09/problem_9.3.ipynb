{
 "cells": [
  {
   "cell_type": "markdown",
   "id": "1114843e-744c-4a86-8639-9d793cad18c1",
   "metadata": {},
   "source": [
    "# Problem 9.3: Linear stability analysis of the repressilator with mRNA\n",
    "\n",
    "<hr>"
   ]
  },
  {
   "cell_type": "markdown",
   "id": "4e5edb6e-c4dd-477d-8705-3d3343bc8f1d",
   "metadata": {},
   "source": [
    "The dimensionless dynamical equations we used for the repressilator system including mRNA are\n",
    "\n",
    "\\begin{align}\n",
    "\\frac{\\mathrm{d}m_i}{\\mathrm{d}t} &= \\beta\\left(\\rho + \\frac{1}{1 + x_j^n}\\right) - m_i, \\\\[1em]\n",
    "\\gamma^{-1}\\,\\frac{\\mathrm{d}x_i}{\\mathrm{d}t} &= m_i - x_i.\n",
    "\\end{align}\n",
    "\n",
    "**a)** Show that the fixed point is unique and satisfies\n",
    "\n",
    "\\begin{align}\n",
    "(x_0 - \\beta\\rho)(1+x_0^n) = \\beta.\n",
    "\\end{align}\n",
    "\n",
    "\n",
    "**b)** Perform linear stability analysis to show that when the fixed point is unstable, it is an oscillatory instability and that the instability occurs when\n",
    "\n",
    "\\begin{align}\n",
    "\\left(\\sqrt{\\gamma} + \\sqrt{\\gamma^{-1}}\\right)^2 < \\frac{3f_0^2}{4+2f_0},\n",
    "\\end{align}\n",
    "\n",
    "where\n",
    "\n",
    "\\begin{align}\n",
    "f_0 = \\frac{\\beta n x_0^{n-1}}{(1+x_0^n)^2}.\n",
    "\\end{align}\n"
   ]
  },
  {
   "cell_type": "markdown",
   "id": "5d47ca1b-6b7b-446e-87f7-b7a283a50b71",
   "metadata": {},
   "source": [
    "<br />"
   ]
  }
 ],
 "metadata": {
  "kernelspec": {
   "display_name": "Python 3 (ipykernel)",
   "language": "python",
   "name": "python3"
  },
  "language_info": {
   "codemirror_mode": {
    "name": "ipython",
    "version": 3
   },
   "file_extension": ".py",
   "mimetype": "text/x-python",
   "name": "python",
   "nbconvert_exporter": "python",
   "pygments_lexer": "ipython3",
   "version": "3.10.10"
  }
 },
 "nbformat": 4,
 "nbformat_minor": 5
}
