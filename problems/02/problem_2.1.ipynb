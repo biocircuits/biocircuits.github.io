{
 "cells": [
  {
   "cell_type": "markdown",
   "metadata": {},
   "source": [
    "# Problem 2.1: Cost of a steady state\n",
    "\n",
    "<hr>"
   ]
  },
  {
   "cell_type": "markdown",
   "metadata": {},
   "source": [
    "*This problem is still a draft.*\n",
    "\n",
    "We worked out that for unregulated gene expression, the steady state level of gene product is $\\beta/\\gamma$, where $\\beta$ is the production rate and $\\gamma$ is the degradation rate. A steady state may be achieved for low $\\beta$ and low $\\gamma$, for high $\\beta$ and high $\\gamma$, and everything in between, provided the ratio $\\beta/\\gamma$ is the same.\n",
    "\n",
    "A **loss function**, also known as a **cost function**, takes as input an operating parameter or set of parameters and returns the \"cost\" associated operating with the given parameter value(s). Sketch a loss function $L(\\beta)$ as a function of $\\beta$, assuming $\\beta/\\gamma$ is held constant. Describe why the curve might have the shape it does. Note that there is no right answer, or even a quantitative one, for this problem. It is meant to get you thinking about what some of the costs may be that are associated with different operating regimes."
   ]
  },
  {
   "cell_type": "markdown",
   "metadata": {},
   "source": [
    "<br />"
   ]
  }
 ],
 "metadata": {
  "anaconda-cloud": {},
  "kernelspec": {
   "display_name": "Python 3",
   "language": "python",
   "name": "python3"
  },
  "language_info": {
   "codemirror_mode": {
    "name": "ipython",
    "version": 3
   },
   "file_extension": ".py",
   "mimetype": "text/x-python",
   "name": "python",
   "nbconvert_exporter": "python",
   "pygments_lexer": "ipython3",
   "version": "3.8.8"
  }
 },
 "nbformat": 4,
 "nbformat_minor": 4
}
