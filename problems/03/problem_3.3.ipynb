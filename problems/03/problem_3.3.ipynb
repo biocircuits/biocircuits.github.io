{
 "cells": [
  {
   "cell_type": "markdown",
   "metadata": {},
   "source": [
    "# Problem 3.3: Autoactivation, bistability, and the importance of leakage\n",
    "\n",
    "<hr>"
   ]
  },
  {
   "cell_type": "markdown",
   "metadata": {},
   "source": [
    "In this problem, we will explore a very simple circuit: autoactivation of a single gene, shown in the figure below.  We will assume a separation of time scales in mRNA and protein degradation/dilution such that we only need to consider the dynamics of the protein, and we will call its concentration $x$.  We will further assume that the autoactivation effect can be modeled as a Hill function with Hill coefficient $n$.\n",
    "\n",
    "<div style=\"width: 225px; margin: auto\">\n",
    "\n",
    "![autoactivator](autoactivator.png)\n",
    "\n",
    "</div>\n",
    "\n",
    "**a)** Write down an ODE describing the dynamics of $x$. Include leakage parametrized by $\\alpha$. (This is the same model for an autoactivating circuit we used in the chapter, but now including leakage.)\n",
    "\n",
    "**b)** Show that in the absence of ultrasensitivity ($0 < n \\le 1$), only one steady state exists for $\\alpha > 0$. Show further that when $\\alpha = 0$, two steady states may exist, and when they do exists, only one is stable and the stable one has $x > 0$.\n",
    "\n",
    "**c)** In part (b), we considered the case where activation is not ultrasensitive. We now consider the other extreme, where activation is infinitely ultrasensitive. Derive the condition for bistability when $n\\to\\infty$.  In other words, for what parameter values does the circuit exhibit two stable steady states? Discuss this condition as it relates to design principles for bistability."
   ]
  },
  {
   "cell_type": "markdown",
   "metadata": {},
   "source": [
    "<br />"
   ]
  }
 ],
 "metadata": {
  "anaconda-cloud": {},
  "kernelspec": {
   "display_name": "Python 3 (ipykernel)",
   "language": "python",
   "name": "python3"
  },
  "language_info": {
   "codemirror_mode": {
    "name": "ipython",
    "version": 3
   },
   "file_extension": ".py",
   "mimetype": "text/x-python",
   "name": "python",
   "nbconvert_exporter": "python",
   "pygments_lexer": "ipython3",
   "version": "3.10.10"
  }
 },
 "nbformat": 4,
 "nbformat_minor": 4
}
