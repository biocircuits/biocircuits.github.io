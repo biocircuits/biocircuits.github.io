{
 "cells": [
  {
   "cell_type": "markdown",
   "metadata": {},
   "source": [
    "# Problem 3.6: Noncooperative bistability with a growth-determined positive feedback circuit\n",
    "\n",
    "*This problem was proposed by Ankita Roychoudhury.*\n",
    "\n",
    "<hr>"
   ]
  },
  {
   "cell_type": "markdown",
   "metadata": {},
   "source": [
    "Consider a single gene X that is autoactivating. We have modeled this circuit as\n",
    "\n",
    "\\begin{align}\n",
    "\\frac{\\mathrm{d}x}{\\mathrm{d}t} = \\beta\\,\\frac{(x/k)^n}{1+(x/k)^n} - \\gamma\\,x.\n",
    "\\end{align}\n",
    "\n",
    "We saw that for some parameter values this circuit displays bistability. Importantly, ultrasensitivity ($n > 1$) is a requirement for bistability.\n",
    "\n",
    "In the circuits we have analyzed so far, we have neglected the extra effort a cell must exert to express genes within the circuit. Some gene products may be more expensive to make and maintain than others. If a cell is expending resources to make a gene product that does not contribute to growth (or if the gene product is toxic), growth will be slowed as more of the gene product is made. \n",
    "\n",
    "[Tan and coworkers](https://dx.doi.org/10.1038%2Fnchembio.218) explored the possibility of bistability if the autoactivation is *not* ultrasensitive by considering the case where the dilution/degradation rate $\\gamma$ is not constant, slowing as more gene product, in this case the activator, is made. In practice, Tan, et al., used a mutant T7 RNA polymerase as the autoactivator, but in theory, any autoactivator that reduces growth rate will suffice.\n",
    "\n",
    "Let us write the dynamical equation for the autoactivator more generally, allowing for leakage and explicitly writing degradation and dilution rates, but specifying $n=1$ in the autoactivation term. \n",
    "\n",
    "\\begin{align}\n",
    "\\frac{\\mathrm{d}x}{\\mathrm{d}t} = \\alpha + \\beta\\,\\frac{x/k}{1+x/k} - (\\gamma_\\mathrm{degradation} + \\gamma_\\mathrm{dilution})\\,x.\n",
    "\\end{align}\n",
    "\n",
    "We will take the degradation rate to be a constant; $\\gamma_\\mathrm{degradation} = \\gamma_0$. The dilution rate is proportional to the growth rate, $r$,\n",
    "\n",
    "\\begin{align}\n",
    "\\gamma_\\mathrm{dilution} = \\zeta\\,r,\n",
    "\\end{align}\n",
    "\n",
    "where $\\zeta$ is the constant of proportionality. We assume that accumulation of X taxes the cellular resources and slows down growth. We model this with a non-ultrasensitive Hill function.\n",
    "\n",
    "\\begin{align}\n",
    "r = \\frac{r_\\mathrm{max}}{1 + x/k_r}.\n",
    "\\end{align}\n",
    "\n",
    "Thus, the dynamical equation for $x$ is\n",
    "\n",
    "\\begin{align}\n",
    "\\frac{\\mathrm{d}x}{\\mathrm{d}t} &= \\alpha + \\beta\\,\\frac{x/k}{1+x/k} - \\gamma_0\\,x - \\gamma_1\\,\\frac{x}{1 + x/k_r},\n",
    "\\end{align}\n",
    "\n",
    "where $\\gamma_1 = \\zeta r_\\mathrm{max}$.\n",
    "\n",
    "\n",
    "**a)** Nondimensionalize the dynamical equation to give\n",
    "\n",
    "\\begin{align}\n",
    "\\frac{\\mathrm{d}x}{\\mathrm{d}t} &= \\alpha + \\beta\\,\\frac{x}{1+x} - x - \\gamma\\,\\frac{x}{1 + \\kappa x},\n",
    "\\end{align}\n",
    "\n",
    "where $t$ and $x$ are now dimensionless and the parameters $\\alpha$ and $\\beta$ been redefined."
   ]
  },
  {
   "cell_type": "markdown",
   "metadata": {},
   "source": [
    "**b)** Show that a necessary condition for bistability is $\\alpha(1+\\kappa) + \\beta < 1 + \\gamma < (\\alpha + \\beta - 1)\\kappa$. (This condition is not sufficient.) Discuss what this means physiologically, i.e., describe in words in what regimes we can get bistability.\n",
    "\n",
    "Hint: It may be useful to use the Descartes rule of signs."
   ]
  },
  {
   "cell_type": "markdown",
   "metadata": {},
   "source": [
    "**c)** Choose a set of parameters that satisfy the above relations. Make a plot that demonstrates bistability."
   ]
  },
  {
   "cell_type": "markdown",
   "metadata": {},
   "source": [
    "**d)** Imagine this auto-activation-with-growth-inhibition circuit is in a bacterium you can grow in the lab and you have a fluorescent marker for the activator. You do a set of growth experiments where you start with a single bacterium and you use fluorescence microscopy to watch a colony grow. Describe in words (and/or draw pictures) what growth of a colony would look like."
   ]
  },
  {
   "cell_type": "markdown",
   "metadata": {},
   "source": [
    "<br />"
   ]
  }
 ],
 "metadata": {
  "kernelspec": {
   "display_name": "Python 3 (ipykernel)",
   "language": "python",
   "name": "python3"
  },
  "language_info": {
   "codemirror_mode": {
    "name": "ipython",
    "version": 3
   },
   "file_extension": ".py",
   "mimetype": "text/x-python",
   "name": "python",
   "nbconvert_exporter": "python",
   "pygments_lexer": "ipython3",
   "version": "3.9.7"
  }
 },
 "nbformat": 4,
 "nbformat_minor": 4
}
