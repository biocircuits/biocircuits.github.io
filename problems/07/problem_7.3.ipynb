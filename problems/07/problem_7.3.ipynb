{
 "cells": [
  {
   "cell_type": "markdown",
   "metadata": {},
   "source": [
    "# Problem 7.3: Dependence of signaling response on total histidine kinase and response regulator concentrations\n",
    "\n",
    "<hr>"
   ]
  },
  {
   "cell_type": "markdown",
   "metadata": {},
   "source": [
    "Consider again the simpler of the two models of a signaling circuit presented in Chapter 7.\n",
    "\n",
    "<div style=\"width: 400px; margin: auto\">\n",
    "    \n",
    "![nonparadoxical signaling](../../chapters/figs/Two-component-system_minimal_v2.png)\n",
    "    \n",
    "</div>\n",
    "\n",
    "The chapter featured a figure, shown below, that gave the steady-state output (which is proportional to $y_p$) as a function of signal concentration, $s$.  The figure depicts dependence of the steady-state output on the level of signal for various dimensionless parameters depending on the total amount of histidine kinase X and response regulator Y in the system."
   ]
  },
  {
   "cell_type": "code",
   "execution_count": 1,
   "metadata": {
    "tags": [
     "hide-input"
    ]
   },
   "outputs": [
    {
     "data": {
      "text/html": [
       "<!DOCTYPE html>\n",
       "<html lang=\"en\">\n",
       "  <head>\n",
       "    <meta charset=\"utf-8\">\n",
       "    <title>Monovalent kinase signal response</title>\n",
       "    <style>\n",
       "      html, body {\n",
       "        box-sizing: border-box;\n",
       "        display: flow-root;\n",
       "        height: 100%;\n",
       "        margin: 0;\n",
       "        padding: 0;\n",
       "      }\n",
       "    </style>\n",
       "    <script type=\"text/javascript\" src=\"https://cdn.bokeh.org/bokeh/release/bokeh-3.2.0.min.js\"></script>\n",
       "    <script type=\"text/javascript\" src=\"https://cdn.bokeh.org/bokeh/release/bokeh-widgets-3.2.0.min.js\"></script>\n",
       "    <script type=\"text/javascript\" src=\"https://cdn.bokeh.org/bokeh/release/bokeh-mathjax-3.2.0.min.js\"></script>\n",
       "    <script type=\"text/javascript\">\n",
       "        Bokeh.set_log_level(\"info\");\n",
       "    </script>\n",
       "  </head>\n",
       "  <body>\n",
       "    <div id=\"c19a6ee0-8575-4d4c-a05b-c8f75261536e\" data-root-id=\"p3109\" style=\"display: contents;\"></div>\n",
       "  \n",
       "    <script type=\"application/json\" id=\"p3120\">\n",
       "      {\"d9fe758d-e3d3-4340-b39e-9a5738456bfa\":{\"version\":\"3.2.0\",\"title\":\"Bokeh Application\",\"roots\":[{\"type\":\"object\",\"name\":\"Row\",\"id\":\"p3109\",\"attributes\":{\"children\":[{\"type\":\"object\",\"name\":\"Figure\",\"id\":\"p3061\",\"attributes\":{\"x_range\":{\"type\":\"object\",\"name\":\"Range1d\",\"id\":\"p3071\",\"attributes\":{\"end\":3}},\"y_range\":{\"type\":\"object\",\"name\":\"DataRange1d\",\"id\":\"p3063\"},\"x_scale\":{\"type\":\"object\",\"name\":\"LinearScale\",\"id\":\"p3072\"},\"y_scale\":{\"type\":\"object\",\"name\":\"LinearScale\",\"id\":\"p3073\"},\"title\":{\"type\":\"object\",\"name\":\"Title\",\"id\":\"p3064\",\"attributes\":{\"text\":\"Simple Two-Component System\"}},\"renderers\":[{\"type\":\"object\",\"name\":\"GlyphRenderer\",\"id\":\"p3091\",\"attributes\":{\"data_source\":{\"type\":\"object\",\"name\":\"ColumnDataSource\",\"id\":\"p3058\",\"attributes\":{\"selected\":{\"type\":\"object\",\"name\":\"Selection\",\"id\":\"p3059\",\"attributes\":{\"indices\":[],\"line_indices\":[]}},\"selection_policy\":{\"type\":\"object\",\"name\":\"UnionRenderers\",\"id\":\"p3060\"},\"data\":{\"type\":\"map\",\"entries\":[[\"s\",[0,1.0,3]],[\"yp\",[0,1,1]]]}}},\"view\":{\"type\":\"object\",\"name\":\"CDSView\",\"id\":\"p3092\",\"attributes\":{\"filter\":{\"type\":\"object\",\"name\":\"AllIndices\",\"id\":\"p3093\"}}},\"glyph\":{\"type\":\"object\",\"name\":\"Line\",\"id\":\"p3088\",\"attributes\":{\"x\":{\"type\":\"field\",\"field\":\"s\"},\"y\":{\"type\":\"field\",\"field\":\"yp\"},\"line_color\":\"gray\",\"line_width\":2}},\"nonselection_glyph\":{\"type\":\"object\",\"name\":\"Line\",\"id\":\"p3089\",\"attributes\":{\"x\":{\"type\":\"field\",\"field\":\"s\"},\"y\":{\"type\":\"field\",\"field\":\"yp\"},\"line_color\":\"gray\",\"line_alpha\":0.1,\"line_width\":2}},\"muted_glyph\":{\"type\":\"object\",\"name\":\"Line\",\"id\":\"p3090\",\"attributes\":{\"x\":{\"type\":\"field\",\"field\":\"s\"},\"y\":{\"type\":\"field\",\"field\":\"yp\"},\"line_color\":\"gray\",\"line_alpha\":0.2,\"line_width\":2}}}},{\"type\":\"object\",\"name\":\"GlyphRenderer\",\"id\":\"p3100\",\"attributes\":{\"data_source\":{\"type\":\"object\",\"name\":\"ColumnDataSource\",\"id\":\"p3055\",\"attributes\":{\"selected\":{\"type\":\"object\",\"name\":\"Selection\",\"id\":\"p3056\",\"attributes\":{\"indices\":[],\"line_indices\":[]}},\"selection_policy\":{\"type\":\"object\",\"name\":\"UnionRenderers\",\"id\":\"p3057\"},\"data\":{\"type\":\"map\",\"entries\":[[\"s\",{\"type\":\"ndarray\",\"array\":{\"type\":\"bytes\",\"data\":\"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\"},\"shape\":[200],\"dtype\":\"float64\",\"order\":\"little\"}],[\"yp\",{\"type\":\"ndarray\",\"array\":{\"type\":\"bytes\",\"data\":\"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\"},\"shape\":[200],\"dtype\":\"float64\",\"order\":\"little\"}]]}}},\"view\":{\"type\":\"object\",\"name\":\"CDSView\",\"id\":\"p3101\",\"attributes\":{\"filter\":{\"type\":\"object\",\"name\":\"AllIndices\",\"id\":\"p3102\"}}},\"glyph\":{\"type\":\"object\",\"name\":\"Line\",\"id\":\"p3097\",\"attributes\":{\"x\":{\"type\":\"field\",\"field\":\"s\"},\"y\":{\"type\":\"field\",\"field\":\"yp\"},\"line_color\":\"#1f77b4\",\"line_width\":2}},\"nonselection_glyph\":{\"type\":\"object\",\"name\":\"Line\",\"id\":\"p3098\",\"attributes\":{\"x\":{\"type\":\"field\",\"field\":\"s\"},\"y\":{\"type\":\"field\",\"field\":\"yp\"},\"line_color\":\"#1f77b4\",\"line_alpha\":0.1,\"line_width\":2}},\"muted_glyph\":{\"type\":\"object\",\"name\":\"Line\",\"id\":\"p3099\",\"attributes\":{\"x\":{\"type\":\"field\",\"field\":\"s\"},\"y\":{\"type\":\"field\",\"field\":\"yp\"},\"line_color\":\"#1f77b4\",\"line_alpha\":0.2,\"line_width\":2}}}}],\"toolbar\":{\"type\":\"object\",\"name\":\"Toolbar\",\"id\":\"p3070\",\"attributes\":{\"tools\":[{\"type\":\"object\",\"name\":\"SaveTool\",\"id\":\"p3084\"}]}},\"left\":[{\"type\":\"object\",\"name\":\"LinearAxis\",\"id\":\"p3079\",\"attributes\":{\"ticker\":{\"type\":\"object\",\"name\":\"BasicTicker\",\"id\":\"p3080\",\"attributes\":{\"mantissas\":[1,2,5]}},\"formatter\":{\"type\":\"object\",\"name\":\"BasicTickFormatter\",\"id\":\"p3081\"},\"axis_label\":\"$$k_3 y_p / k_2$$\",\"major_label_policy\":{\"type\":\"object\",\"name\":\"AllLabels\",\"id\":\"p3082\"}}}],\"below\":[{\"type\":\"object\",\"name\":\"LinearAxis\",\"id\":\"p3074\",\"attributes\":{\"ticker\":{\"type\":\"object\",\"name\":\"BasicTicker\",\"id\":\"p3075\",\"attributes\":{\"mantissas\":[1,2,5]}},\"formatter\":{\"type\":\"object\",\"name\":\"BasicTickFormatter\",\"id\":\"p3076\"},\"axis_label\":\"$$k_1 s / k_2$$\",\"major_label_policy\":{\"type\":\"object\",\"name\":\"AllLabels\",\"id\":\"p3077\"}}}],\"center\":[{\"type\":\"object\",\"name\":\"Grid\",\"id\":\"p3078\",\"attributes\":{\"axis\":{\"id\":\"p3074\"}}},{\"type\":\"object\",\"name\":\"Grid\",\"id\":\"p3083\",\"attributes\":{\"dimension\":1,\"axis\":{\"id\":\"p3079\"}}}],\"frame_width\":300,\"frame_height\":150}},{\"type\":\"object\",\"name\":\"Spacer\",\"id\":\"p3106\",\"attributes\":{\"width\":30}},{\"type\":\"object\",\"name\":\"Column\",\"id\":\"p3108\",\"attributes\":{\"children\":[{\"type\":\"object\",\"name\":\"Spacer\",\"id\":\"p3107\",\"attributes\":{\"height\":15}},{\"type\":\"object\",\"name\":\"Slider\",\"id\":\"p3103\",\"attributes\":{\"js_property_callbacks\":{\"type\":\"map\",\"entries\":[[\"change:value\",[{\"type\":\"object\",\"name\":\"CustomJS\",\"id\":\"p3105\",\"attributes\":{\"args\":{\"type\":\"map\",\"entries\":[[\"cds\",{\"id\":\"p3055\"}],[\"cdsLine\",{\"id\":\"p3058\"}],[\"x_slider\",{\"id\":\"p3103\"}],[\"y_slider\",{\"type\":\"object\",\"name\":\"Slider\",\"id\":\"p3104\",\"attributes\":{\"js_property_callbacks\":{\"type\":\"map\",\"entries\":[[\"change:value\",[{\"id\":\"p3105\"}]]]},\"width\":150,\"title\":\"$$k_3 y_\\\\mathrm{tot} / k_2$$\",\"start\":0.01,\"end\":10,\"value\":1,\"step\":0.01}}]]},\"code\":\"\\nlet yp = cds.data['yp'];\\nlet s = cds.data['s'];\\nlet xtot = x_slider.value;\\nlet ytot = y_slider.value;\\n\\nfor (let i = 0; i &lt; yp.length; i++) {\\n  let b = ytot + s[i] * (1 + xtot);\\n  yp[i] = (b - Math.sqrt(Math.pow(b, 2) - 4 * xtot * ytot * s[i])) / 2;\\n}\\n\\ncdsLine.data['s'] = [0, ytot / xtot, 3];\\ncdsLine.data['yp'] = [0, ytot, ytot];\\n\\ncds.change.emit();\\ncdsLine.change.emit();\\n\"}}]]]},\"width\":150,\"title\":\"$$k_3 x_\\\\mathrm{tot} / k_2$$\",\"start\":0.01,\"end\":10,\"value\":1,\"step\":0.01}},{\"id\":\"p3104\"}]}}]}}]}}\n",
       "    </script>\n",
       "    <script type=\"text/javascript\">\n",
       "      (function() {\n",
       "        const fn = function() {\n",
       "          Bokeh.safely(function() {\n",
       "            (function(root) {\n",
       "              function embed_document(root) {\n",
       "              const docs_json = document.getElementById('p3120').textContent;\n",
       "              const render_items = [{\"docid\":\"d9fe758d-e3d3-4340-b39e-9a5738456bfa\",\"roots\":{\"p3109\":\"c19a6ee0-8575-4d4c-a05b-c8f75261536e\"},\"root_ids\":[\"p3109\"]}];\n",
       "              root.Bokeh.embed.embed_items(docs_json, render_items);\n",
       "              }\n",
       "              if (root.Bokeh !== undefined) {\n",
       "                embed_document(root);\n",
       "              } else {\n",
       "                let attempts = 0;\n",
       "                const timer = setInterval(function(root) {\n",
       "                  if (root.Bokeh !== undefined) {\n",
       "                    clearInterval(timer);\n",
       "                    embed_document(root);\n",
       "                  } else {\n",
       "                    attempts++;\n",
       "                    if (attempts > 100) {\n",
       "                      clearInterval(timer);\n",
       "                      console.log(\"Bokeh: ERROR: Unable to run BokehJS code because BokehJS library is missing\");\n",
       "                    }\n",
       "                  }\n",
       "                }, 10, root)\n",
       "              }\n",
       "            })(window);\n",
       "          });\n",
       "        };\n",
       "        if (document.readyState != \"loading\") fn();\n",
       "        else document.addEventListener(\"DOMContentLoaded\", fn);\n",
       "      })();\n",
       "    </script>\n",
       "  </body>\n",
       "</html>"
      ],
      "text/plain": [
       "<IPython.core.display.HTML object>"
      ]
     },
     "execution_count": 1,
     "metadata": {},
     "output_type": "execute_result"
    }
   ],
   "source": [
    "from IPython.display import HTML\n",
    "HTML(filename='../../chapters/figs/monofunctional_kinase_signal.html')"
   ]
  },
  {
   "cell_type": "markdown",
   "metadata": {},
   "source": [
    "**a)** Derive an expression for the steady-state concentration of response regulator, $y_p$.\n",
    "\n",
    "**b)** Make a plot like the one above using the expression you derived in part (a)."
   ]
  }
 ],
 "metadata": {
  "anaconda-cloud": {},
  "kernelspec": {
   "display_name": "Python 3 (ipykernel)",
   "language": "python",
   "name": "python3"
  },
  "language_info": {
   "codemirror_mode": {
    "name": "ipython",
    "version": 3
   },
   "file_extension": ".py",
   "mimetype": "text/x-python",
   "name": "python",
   "nbconvert_exporter": "python",
   "pygments_lexer": "ipython3",
   "version": "3.11.3"
  }
 },
 "nbformat": 4,
 "nbformat_minor": 4
}
