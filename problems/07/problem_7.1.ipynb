{
 "cells": [
  {
   "cell_type": "markdown",
   "metadata": {},
   "source": [
    "# Problem 7.1: Interpretations of sensitivity\n",
    "\n",
    "<hr>"
   ]
  },
  {
   "cell_type": "markdown",
   "metadata": {},
   "source": [
    "Sensitivity, as explored in Chapter 7, is a metric defined as the ratio of the fractional change in output to the fractional change in input.\n",
    "\n",
    "**a)** Following the definition, derive the formula for sensitivity \n",
    "\n",
    "\\begin{align}\n",
    "S =  \\frac{\\mathrm{d}\\ln y}{\\mathrm{d}\\ln x}.\n",
    "\\end{align}\n",
    "\n",
    "**b)** Some references describe sensitivity as a relationship between the fold-change in output, $y/y_0$, and the fold-change in input, $x/x_0$, where $x_0$ and $y_0$ are respectively the input and output values before a change in input value, and $x$ is the updated input value and $y$ is the updated output value. Write $S$ in terms of these respective fold changes."
   ]
  },
  {
   "cell_type": "markdown",
   "metadata": {
    "tags": []
   },
   "source": [
    "<br />"
   ]
  }
 ],
 "metadata": {
  "anaconda-cloud": {},
  "kernelspec": {
   "display_name": "Python 3 (ipykernel)",
   "language": "python",
   "name": "python3"
  },
  "language_info": {
   "codemirror_mode": {
    "name": "ipython",
    "version": 3
   },
   "file_extension": ".py",
   "mimetype": "text/x-python",
   "name": "python",
   "nbconvert_exporter": "python",
   "pygments_lexer": "ipython3",
   "version": "3.11.3"
  }
 },
 "nbformat": 4,
 "nbformat_minor": 4
}
