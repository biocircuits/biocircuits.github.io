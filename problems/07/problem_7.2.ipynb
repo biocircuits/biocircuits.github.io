{
 "cells": [
  {
   "cell_type": "markdown",
   "metadata": {},
   "source": [
    "# Problem 7.2: Signal propagation in a kinase cascade\n",
    "\n",
    "<hr>"
   ]
  },
  {
   "attachments": {},
   "cell_type": "markdown",
   "metadata": {},
   "source": [
    "Consider a sequential activation cascade involving three kinases labeled A, B, and C. Each kinase activates the next in the series, with kinase C subsequently activating a target substrate denoted as S. We assume the activation reactions follow mass action kinetics. We can represent the fraction of activated kinase B at steady-state as a function of the fraction of activated kinase A:\n",
    "\n",
    "\\begin{align}\n",
    "B^*=\\frac{A^*}{K_{1}+A^*}.\n",
    "\\end{align}\n",
    "\n",
    "Here, $K_{1}$ is analogous to the dissociation constant.\n",
    "\n",
    "The fractions of activated kinase C and substrate S can be represented similarly:\n",
    "\n",
    "\\begin{align}\n",
    "C^*=\\frac{B^*}{K_{2}+B^*},\n",
    "\\end{align}\n",
    "\n",
    "and:\n",
    "\n",
    "\\begin{align}\n",
    "S^*=\\frac{C^*}{K_{3}+C^*}.\n",
    "\\end{align}\n",
    "\n",
    "a) Imagine a signal causing the fraction of activated kinase A ($A^*$) to increase 9-fold from an initial baseline level. To maximize the absolute change in $A^*$ (the difference between the final and initial numbers of activated molecules), what should be the initial (and final) value of $A^*$ relative to $K_1$? What is the fold-change in signal with the calculated initial and final concentrations?\n",
    "\n",
    "b) Using your answer from part a), carry out the same procedure along the cascade, incrementing the activating molecule by the fold obtained in the previous reaction. As in part a), assume that the cell maintains optimal baseline levels of $B^*$*,* $C^*$, and $S^*$ **to maximize the absolute change in activation. At the end of the cascade, what is the fold-change in substrate activation resulting from a 9-fold increase in $A^*$? Does this cascade amplify the signal?\n",
    "\n",
    "c) The sensitivity function is given by:\n",
    "\n",
    "\\begin{align}\n",
    "\\text{S} = \\frac{\\text{d}y}{\\text{d}x} \\frac{x}{y} = \\frac{\\text{d}\\ln y}{\\text{d}\\ln x} = \\frac{\\text{d}\\ln \\text{(output)}}{\\text{d}\\ln \\text{(input)}}.\n",
    "\\end{align}\n",
    "\n",
    "Analyze the sensitivity function for the full cascade.\n",
    "\n",
    "\\begin{align}\n",
    "\\text{S} = \\frac{\\text{d}\\ln S^*}{\\text{d}\\ln A^*}.\n",
    "\\end{align}\n",
    "\n",
    "Discuss any relevant limits on signal transduction.\n",
    "\n",
    "d) Suppose now that the response at each step is ultra-sensitive (with $n>1$), as often observed in biochemical cascades where multiple sites are cooperatively phosphorylated for full target protein activation:\n",
    "\n",
    "\\begin{align}\n",
    "B^*=\\frac{A^{*n}}{K_{1}^n+A^{*n}}.\n",
    "\\end{align}\n",
    "\n",
    "We can similarly express each other step in the cascade. Use the same fold-change, initial and final concentrations as in parts a) and b) to calculate how the signal is propagated for $n=2$ and $n=3$. Discuss the results. Is there an observable amplification of the signal?\n",
    "\n",
    "e) In part d), you should conclude that for $n=2$ the cascade neither amplifies nor degrades the signal. However, many kinase-based cascades have observable $n \\approx 2$ and still amplify the signal. Analyze the sensitivity function for the ultra-sensitive response with $n=2$. Can you identify a different initial fraction of activated $A^*$ **relative to $K_1$ that results in a substantial fold-change in the fraction of activated $B^*$, given a 9-fold increase in $A^*$."
   ]
  }
 ],
 "metadata": {
  "anaconda-cloud": {},
  "kernelspec": {
   "display_name": "Python 3 (ipykernel)",
   "language": "python",
   "name": "python3"
  },
  "language_info": {
   "codemirror_mode": {
    "name": "ipython",
    "version": 3
   },
   "file_extension": ".py",
   "mimetype": "text/x-python",
   "name": "python",
   "nbconvert_exporter": "python",
   "pygments_lexer": "ipython3",
   "version": "3.11.3"
  }
 },
 "nbformat": 4,
 "nbformat_minor": 4
}
