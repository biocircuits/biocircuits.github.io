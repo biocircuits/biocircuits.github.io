{
 "cells": [
  {
   "cell_type": "markdown",
   "metadata": {},
   "source": [
    "# 15. The noisy, noisy nature of gene expression: How stochastic fluctuations create variation\n",
    "\n",
    "<hr>"
   ]
  },
  {
   "cell_type": "markdown",
   "metadata": {},
   "source": [
    "#### Concepts\n",
    "- Intrinsic and extrinsic noise\n",
    "\n",
    "#### Techniques\n",
    "- Plug-in estimates\n",
    "- Pairs bootstrap\n",
    "- Generative Bayesian modeling\n",
    "<br />\n",
    "\n",
    "<hr>"
   ]
  },
  {
   "cell_type": "code",
   "execution_count": 1,
   "metadata": {
    "tags": [
     "hide-input"
    ]
   },
   "outputs": [
    {
     "data": {
      "text/html": [
       "<style>\n",
       "        .bk-notebook-logo {\n",
       "            display: block;\n",
       "            width: 20px;\n",
       "            height: 20px;\n",
       "            background-image: url(data:image/png;base64,iVBORw0KGgoAAAANSUhEUgAAABQAAAAUCAYAAACNiR0NAAAABHNCSVQICAgIfAhkiAAAAAlwSFlzAAALEgAACxIB0t1+/AAAABx0RVh0U29mdHdhcmUAQWRvYmUgRmlyZXdvcmtzIENTNui8sowAAAOkSURBVDiNjZRtaJVlGMd/1/08zzln5zjP1LWcU9N0NkN8m2CYjpgQYQXqSs0I84OLIC0hkEKoPtiH3gmKoiJDU7QpLgoLjLIQCpEsNJ1vqUOdO7ppbuec5+V+rj4ctwzd8IIbbi6u+8f1539dt3A78eXC7QizUF7gyV1fD1Yqg4JWz84yffhm0qkFqBogB9rM8tZdtwVsPUhWhGcFJngGeWrPzHm5oaMmkfEg1usvLFyc8jLRqDOMru7AyC8saQr7GG7f5fvDeH7Ej8CM66nIF+8yngt6HWaKh7k49Soy9nXurCi1o3qUbS3zWfrYeQDTB/Qj6kX6Ybhw4B+bOYoLKCC9H3Nu/leUTZ1JdRWkkn2ldcCamzrcf47KKXdAJllSlxAOkRgyHsGC/zRday5Qld9DyoM4/q/rUoy/CXh3jzOu3bHUVZeU+DEn8FInkPBFlu3+nW3Nw0mk6vCDiWg8CeJaxEwuHS3+z5RgY+YBR6V1Z1nxSOfoaPa4LASWxxdNp+VWTk7+4vzaou8v8PN+xo+KY2xsw6une2frhw05CTYOmQvsEhjhWjn0bmXPjpE1+kplmmkP3suftwTubK9Vq22qKmrBhpY4jvd5afdRA3wGjFAgcnTK2s4hY0/GPNIb0nErGMCRxWOOX64Z8RAC4oCXdklmEvcL8o0BfkNK4lUg9HTl+oPlQxdNo3Mg4Nv175e/1LDGzZen30MEjRUtmXSfiTVu1kK8W4txyV6BMKlbgk3lMwYCiusNy9fVfvvwMxv8Ynl6vxoByANLTWplvuj/nF9m2+PDtt1eiHPBr1oIfhCChQMBw6Aw0UulqTKZdfVvfG7VcfIqLG9bcldL/+pdWTLxLUy8Qq38heUIjh4XlzZxzQm19lLFlr8vdQ97rjZVOLf8nclzckbcD4wxXMidpX30sFd37Fv/GtwwhzhxGVAprjbg0gCAEeIgwCZyTV2Z1REEW8O4py0wsjeloKoMr6iCY6dP92H6Vw/oTyICIthibxjm/DfN9lVz8IqtqKYLUXfoKVMVQVVJOElGjrnnUt9T9wbgp8AyYKaGlqingHZU/uG2NTZSVqwHQTWkx9hxjkpWDaCg6Ckj5qebgBVbT3V3NNXMSiWSDdGV3hrtzla7J+duwPOToIg42ChPQOQjspnSlp1V+Gjdged7+8UN5CRAV7a5EdFNwCjEaBR27b3W890TE7g24NAP/mMDXRWrGoFPQI9ls/MWO2dWFAar/xcOIImbbpA3zgAAAABJRU5ErkJggg==);\n",
       "        }\n",
       "    </style>\n",
       "    <div>\n",
       "        <a href=\"https://bokeh.org\" target=\"_blank\" class=\"bk-notebook-logo\"></a>\n",
       "        <span id=\"p1001\">Loading BokehJS ...</span>\n",
       "    </div>\n"
      ]
     },
     "metadata": {},
     "output_type": "display_data"
    },
    {
     "data": {
      "application/javascript": [
       "(function(root) {\n",
       "  function now() {\n",
       "    return new Date();\n",
       "  }\n",
       "\n",
       "  const force = true;\n",
       "\n",
       "  if (typeof root._bokeh_onload_callbacks === \"undefined\" || force === true) {\n",
       "    root._bokeh_onload_callbacks = [];\n",
       "    root._bokeh_is_loading = undefined;\n",
       "  }\n",
       "\n",
       "const JS_MIME_TYPE = 'application/javascript';\n",
       "  const HTML_MIME_TYPE = 'text/html';\n",
       "  const EXEC_MIME_TYPE = 'application/vnd.bokehjs_exec.v0+json';\n",
       "  const CLASS_NAME = 'output_bokeh rendered_html';\n",
       "\n",
       "  /**\n",
       "   * Render data to the DOM node\n",
       "   */\n",
       "  function render(props, node) {\n",
       "    const script = document.createElement(\"script\");\n",
       "    node.appendChild(script);\n",
       "  }\n",
       "\n",
       "  /**\n",
       "   * Handle when an output is cleared or removed\n",
       "   */\n",
       "  function handleClearOutput(event, handle) {\n",
       "    const cell = handle.cell;\n",
       "\n",
       "    const id = cell.output_area._bokeh_element_id;\n",
       "    const server_id = cell.output_area._bokeh_server_id;\n",
       "    // Clean up Bokeh references\n",
       "    if (id != null && id in Bokeh.index) {\n",
       "      Bokeh.index[id].model.document.clear();\n",
       "      delete Bokeh.index[id];\n",
       "    }\n",
       "\n",
       "    if (server_id !== undefined) {\n",
       "      // Clean up Bokeh references\n",
       "      const cmd_clean = \"from bokeh.io.state import curstate; print(curstate().uuid_to_server['\" + server_id + \"'].get_sessions()[0].document.roots[0]._id)\";\n",
       "      cell.notebook.kernel.execute(cmd_clean, {\n",
       "        iopub: {\n",
       "          output: function(msg) {\n",
       "            const id = msg.content.text.trim();\n",
       "            if (id in Bokeh.index) {\n",
       "              Bokeh.index[id].model.document.clear();\n",
       "              delete Bokeh.index[id];\n",
       "            }\n",
       "          }\n",
       "        }\n",
       "      });\n",
       "      // Destroy server and session\n",
       "      const cmd_destroy = \"import bokeh.io.notebook as ion; ion.destroy_server('\" + server_id + \"')\";\n",
       "      cell.notebook.kernel.execute(cmd_destroy);\n",
       "    }\n",
       "  }\n",
       "\n",
       "  /**\n",
       "   * Handle when a new output is added\n",
       "   */\n",
       "  function handleAddOutput(event, handle) {\n",
       "    const output_area = handle.output_area;\n",
       "    const output = handle.output;\n",
       "\n",
       "    // limit handleAddOutput to display_data with EXEC_MIME_TYPE content only\n",
       "    if ((output.output_type != \"display_data\") || (!Object.prototype.hasOwnProperty.call(output.data, EXEC_MIME_TYPE))) {\n",
       "      return\n",
       "    }\n",
       "\n",
       "    const toinsert = output_area.element.find(\".\" + CLASS_NAME.split(' ')[0]);\n",
       "\n",
       "    if (output.metadata[EXEC_MIME_TYPE][\"id\"] !== undefined) {\n",
       "      toinsert[toinsert.length - 1].firstChild.textContent = output.data[JS_MIME_TYPE];\n",
       "      // store reference to embed id on output_area\n",
       "      output_area._bokeh_element_id = output.metadata[EXEC_MIME_TYPE][\"id\"];\n",
       "    }\n",
       "    if (output.metadata[EXEC_MIME_TYPE][\"server_id\"] !== undefined) {\n",
       "      const bk_div = document.createElement(\"div\");\n",
       "      bk_div.innerHTML = output.data[HTML_MIME_TYPE];\n",
       "      const script_attrs = bk_div.children[0].attributes;\n",
       "      for (let i = 0; i < script_attrs.length; i++) {\n",
       "        toinsert[toinsert.length - 1].firstChild.setAttribute(script_attrs[i].name, script_attrs[i].value);\n",
       "        toinsert[toinsert.length - 1].firstChild.textContent = bk_div.children[0].textContent\n",
       "      }\n",
       "      // store reference to server id on output_area\n",
       "      output_area._bokeh_server_id = output.metadata[EXEC_MIME_TYPE][\"server_id\"];\n",
       "    }\n",
       "  }\n",
       "\n",
       "  function register_renderer(events, OutputArea) {\n",
       "\n",
       "    function append_mime(data, metadata, element) {\n",
       "      // create a DOM node to render to\n",
       "      const toinsert = this.create_output_subarea(\n",
       "        metadata,\n",
       "        CLASS_NAME,\n",
       "        EXEC_MIME_TYPE\n",
       "      );\n",
       "      this.keyboard_manager.register_events(toinsert);\n",
       "      // Render to node\n",
       "      const props = {data: data, metadata: metadata[EXEC_MIME_TYPE]};\n",
       "      render(props, toinsert[toinsert.length - 1]);\n",
       "      element.append(toinsert);\n",
       "      return toinsert\n",
       "    }\n",
       "\n",
       "    /* Handle when an output is cleared or removed */\n",
       "    events.on('clear_output.CodeCell', handleClearOutput);\n",
       "    events.on('delete.Cell', handleClearOutput);\n",
       "\n",
       "    /* Handle when a new output is added */\n",
       "    events.on('output_added.OutputArea', handleAddOutput);\n",
       "\n",
       "    /**\n",
       "     * Register the mime type and append_mime function with output_area\n",
       "     */\n",
       "    OutputArea.prototype.register_mime_type(EXEC_MIME_TYPE, append_mime, {\n",
       "      /* Is output safe? */\n",
       "      safe: true,\n",
       "      /* Index of renderer in `output_area.display_order` */\n",
       "      index: 0\n",
       "    });\n",
       "  }\n",
       "\n",
       "  // register the mime type if in Jupyter Notebook environment and previously unregistered\n",
       "  if (root.Jupyter !== undefined) {\n",
       "    const events = require('base/js/events');\n",
       "    const OutputArea = require('notebook/js/outputarea').OutputArea;\n",
       "\n",
       "    if (OutputArea.prototype.mime_types().indexOf(EXEC_MIME_TYPE) == -1) {\n",
       "      register_renderer(events, OutputArea);\n",
       "    }\n",
       "  }\n",
       "  if (typeof (root._bokeh_timeout) === \"undefined\" || force === true) {\n",
       "    root._bokeh_timeout = Date.now() + 5000;\n",
       "    root._bokeh_failed_load = false;\n",
       "  }\n",
       "\n",
       "  const NB_LOAD_WARNING = {'data': {'text/html':\n",
       "     \"<div style='background-color: #fdd'>\\n\"+\n",
       "     \"<p>\\n\"+\n",
       "     \"BokehJS does not appear to have successfully loaded. If loading BokehJS from CDN, this \\n\"+\n",
       "     \"may be due to a slow or bad network connection. Possible fixes:\\n\"+\n",
       "     \"</p>\\n\"+\n",
       "     \"<ul>\\n\"+\n",
       "     \"<li>re-rerun `output_notebook()` to attempt to load from CDN again, or</li>\\n\"+\n",
       "     \"<li>use INLINE resources instead, as so:</li>\\n\"+\n",
       "     \"</ul>\\n\"+\n",
       "     \"<code>\\n\"+\n",
       "     \"from bokeh.resources import INLINE\\n\"+\n",
       "     \"output_notebook(resources=INLINE)\\n\"+\n",
       "     \"</code>\\n\"+\n",
       "     \"</div>\"}};\n",
       "\n",
       "  function display_loaded() {\n",
       "    const el = document.getElementById(\"p1001\");\n",
       "    if (el != null) {\n",
       "      el.textContent = \"BokehJS is loading...\";\n",
       "    }\n",
       "    if (root.Bokeh !== undefined) {\n",
       "      if (el != null) {\n",
       "        el.textContent = \"BokehJS \" + root.Bokeh.version + \" successfully loaded.\";\n",
       "      }\n",
       "    } else if (Date.now() < root._bokeh_timeout) {\n",
       "      setTimeout(display_loaded, 100)\n",
       "    }\n",
       "  }\n",
       "\n",
       "  function run_callbacks() {\n",
       "    try {\n",
       "      root._bokeh_onload_callbacks.forEach(function(callback) {\n",
       "        if (callback != null)\n",
       "          callback();\n",
       "      });\n",
       "    } finally {\n",
       "      delete root._bokeh_onload_callbacks\n",
       "    }\n",
       "    console.debug(\"Bokeh: all callbacks have finished\");\n",
       "  }\n",
       "\n",
       "  function load_libs(css_urls, js_urls, callback) {\n",
       "    if (css_urls == null) css_urls = [];\n",
       "    if (js_urls == null) js_urls = [];\n",
       "\n",
       "    root._bokeh_onload_callbacks.push(callback);\n",
       "    if (root._bokeh_is_loading > 0) {\n",
       "      console.debug(\"Bokeh: BokehJS is being loaded, scheduling callback at\", now());\n",
       "      return null;\n",
       "    }\n",
       "    if (js_urls == null || js_urls.length === 0) {\n",
       "      run_callbacks();\n",
       "      return null;\n",
       "    }\n",
       "    console.debug(\"Bokeh: BokehJS not loaded, scheduling load and callback at\", now());\n",
       "    root._bokeh_is_loading = css_urls.length + js_urls.length;\n",
       "\n",
       "    function on_load() {\n",
       "      root._bokeh_is_loading--;\n",
       "      if (root._bokeh_is_loading === 0) {\n",
       "        console.debug(\"Bokeh: all BokehJS libraries/stylesheets loaded\");\n",
       "        run_callbacks()\n",
       "      }\n",
       "    }\n",
       "\n",
       "    function on_error(url) {\n",
       "      console.error(\"failed to load \" + url);\n",
       "    }\n",
       "\n",
       "    for (let i = 0; i < css_urls.length; i++) {\n",
       "      const url = css_urls[i];\n",
       "      const element = document.createElement(\"link\");\n",
       "      element.onload = on_load;\n",
       "      element.onerror = on_error.bind(null, url);\n",
       "      element.rel = \"stylesheet\";\n",
       "      element.type = \"text/css\";\n",
       "      element.href = url;\n",
       "      console.debug(\"Bokeh: injecting link tag for BokehJS stylesheet: \", url);\n",
       "      document.body.appendChild(element);\n",
       "    }\n",
       "\n",
       "    for (let i = 0; i < js_urls.length; i++) {\n",
       "      const url = js_urls[i];\n",
       "      const element = document.createElement('script');\n",
       "      element.onload = on_load;\n",
       "      element.onerror = on_error.bind(null, url);\n",
       "      element.async = false;\n",
       "      element.src = url;\n",
       "      console.debug(\"Bokeh: injecting script tag for BokehJS library: \", url);\n",
       "      document.head.appendChild(element);\n",
       "    }\n",
       "  };\n",
       "\n",
       "  function inject_raw_css(css) {\n",
       "    const element = document.createElement(\"style\");\n",
       "    element.appendChild(document.createTextNode(css));\n",
       "    document.body.appendChild(element);\n",
       "  }\n",
       "\n",
       "  const js_urls = [\"https://cdn.bokeh.org/bokeh/release/bokeh-3.1.0.min.js\", \"https://cdn.bokeh.org/bokeh/release/bokeh-gl-3.1.0.min.js\", \"https://cdn.bokeh.org/bokeh/release/bokeh-widgets-3.1.0.min.js\", \"https://cdn.bokeh.org/bokeh/release/bokeh-tables-3.1.0.min.js\", \"https://cdn.bokeh.org/bokeh/release/bokeh-mathjax-3.1.0.min.js\"];\n",
       "  const css_urls = [];\n",
       "\n",
       "  const inline_js = [    function(Bokeh) {\n",
       "      Bokeh.set_log_level(\"info\");\n",
       "    },\n",
       "function(Bokeh) {\n",
       "    }\n",
       "  ];\n",
       "\n",
       "  function run_inline_js() {\n",
       "    if (root.Bokeh !== undefined || force === true) {\n",
       "          for (let i = 0; i < inline_js.length; i++) {\n",
       "      inline_js[i].call(root, root.Bokeh);\n",
       "    }\n",
       "if (force === true) {\n",
       "        display_loaded();\n",
       "      }} else if (Date.now() < root._bokeh_timeout) {\n",
       "      setTimeout(run_inline_js, 100);\n",
       "    } else if (!root._bokeh_failed_load) {\n",
       "      console.log(\"Bokeh: BokehJS failed to load within specified timeout.\");\n",
       "      root._bokeh_failed_load = true;\n",
       "    } else if (force !== true) {\n",
       "      const cell = $(document.getElementById(\"p1001\")).parents('.cell').data().cell;\n",
       "      cell.output_area.append_execute_result(NB_LOAD_WARNING)\n",
       "    }\n",
       "  }\n",
       "\n",
       "  if (root._bokeh_is_loading === 0) {\n",
       "    console.debug(\"Bokeh: BokehJS loaded, going straight to plotting\");\n",
       "    run_inline_js();\n",
       "  } else {\n",
       "    load_libs(css_urls, js_urls, function() {\n",
       "      console.debug(\"Bokeh: BokehJS plotting callback run at\", now());\n",
       "      run_inline_js();\n",
       "    });\n",
       "  }\n",
       "}(window));"
      ],
      "application/vnd.bokehjs_load.v0+json": "(function(root) {\n  function now() {\n    return new Date();\n  }\n\n  const force = true;\n\n  if (typeof root._bokeh_onload_callbacks === \"undefined\" || force === true) {\n    root._bokeh_onload_callbacks = [];\n    root._bokeh_is_loading = undefined;\n  }\n\n\n  if (typeof (root._bokeh_timeout) === \"undefined\" || force === true) {\n    root._bokeh_timeout = Date.now() + 5000;\n    root._bokeh_failed_load = false;\n  }\n\n  const NB_LOAD_WARNING = {'data': {'text/html':\n     \"<div style='background-color: #fdd'>\\n\"+\n     \"<p>\\n\"+\n     \"BokehJS does not appear to have successfully loaded. If loading BokehJS from CDN, this \\n\"+\n     \"may be due to a slow or bad network connection. Possible fixes:\\n\"+\n     \"</p>\\n\"+\n     \"<ul>\\n\"+\n     \"<li>re-rerun `output_notebook()` to attempt to load from CDN again, or</li>\\n\"+\n     \"<li>use INLINE resources instead, as so:</li>\\n\"+\n     \"</ul>\\n\"+\n     \"<code>\\n\"+\n     \"from bokeh.resources import INLINE\\n\"+\n     \"output_notebook(resources=INLINE)\\n\"+\n     \"</code>\\n\"+\n     \"</div>\"}};\n\n  function display_loaded() {\n    const el = document.getElementById(\"p1001\");\n    if (el != null) {\n      el.textContent = \"BokehJS is loading...\";\n    }\n    if (root.Bokeh !== undefined) {\n      if (el != null) {\n        el.textContent = \"BokehJS \" + root.Bokeh.version + \" successfully loaded.\";\n      }\n    } else if (Date.now() < root._bokeh_timeout) {\n      setTimeout(display_loaded, 100)\n    }\n  }\n\n  function run_callbacks() {\n    try {\n      root._bokeh_onload_callbacks.forEach(function(callback) {\n        if (callback != null)\n          callback();\n      });\n    } finally {\n      delete root._bokeh_onload_callbacks\n    }\n    console.debug(\"Bokeh: all callbacks have finished\");\n  }\n\n  function load_libs(css_urls, js_urls, callback) {\n    if (css_urls == null) css_urls = [];\n    if (js_urls == null) js_urls = [];\n\n    root._bokeh_onload_callbacks.push(callback);\n    if (root._bokeh_is_loading > 0) {\n      console.debug(\"Bokeh: BokehJS is being loaded, scheduling callback at\", now());\n      return null;\n    }\n    if (js_urls == null || js_urls.length === 0) {\n      run_callbacks();\n      return null;\n    }\n    console.debug(\"Bokeh: BokehJS not loaded, scheduling load and callback at\", now());\n    root._bokeh_is_loading = css_urls.length + js_urls.length;\n\n    function on_load() {\n      root._bokeh_is_loading--;\n      if (root._bokeh_is_loading === 0) {\n        console.debug(\"Bokeh: all BokehJS libraries/stylesheets loaded\");\n        run_callbacks()\n      }\n    }\n\n    function on_error(url) {\n      console.error(\"failed to load \" + url);\n    }\n\n    for (let i = 0; i < css_urls.length; i++) {\n      const url = css_urls[i];\n      const element = document.createElement(\"link\");\n      element.onload = on_load;\n      element.onerror = on_error.bind(null, url);\n      element.rel = \"stylesheet\";\n      element.type = \"text/css\";\n      element.href = url;\n      console.debug(\"Bokeh: injecting link tag for BokehJS stylesheet: \", url);\n      document.body.appendChild(element);\n    }\n\n    for (let i = 0; i < js_urls.length; i++) {\n      const url = js_urls[i];\n      const element = document.createElement('script');\n      element.onload = on_load;\n      element.onerror = on_error.bind(null, url);\n      element.async = false;\n      element.src = url;\n      console.debug(\"Bokeh: injecting script tag for BokehJS library: \", url);\n      document.head.appendChild(element);\n    }\n  };\n\n  function inject_raw_css(css) {\n    const element = document.createElement(\"style\");\n    element.appendChild(document.createTextNode(css));\n    document.body.appendChild(element);\n  }\n\n  const js_urls = [\"https://cdn.bokeh.org/bokeh/release/bokeh-3.1.0.min.js\", \"https://cdn.bokeh.org/bokeh/release/bokeh-gl-3.1.0.min.js\", \"https://cdn.bokeh.org/bokeh/release/bokeh-widgets-3.1.0.min.js\", \"https://cdn.bokeh.org/bokeh/release/bokeh-tables-3.1.0.min.js\", \"https://cdn.bokeh.org/bokeh/release/bokeh-mathjax-3.1.0.min.js\"];\n  const css_urls = [];\n\n  const inline_js = [    function(Bokeh) {\n      Bokeh.set_log_level(\"info\");\n    },\nfunction(Bokeh) {\n    }\n  ];\n\n  function run_inline_js() {\n    if (root.Bokeh !== undefined || force === true) {\n          for (let i = 0; i < inline_js.length; i++) {\n      inline_js[i].call(root, root.Bokeh);\n    }\nif (force === true) {\n        display_loaded();\n      }} else if (Date.now() < root._bokeh_timeout) {\n      setTimeout(run_inline_js, 100);\n    } else if (!root._bokeh_failed_load) {\n      console.log(\"Bokeh: BokehJS failed to load within specified timeout.\");\n      root._bokeh_failed_load = true;\n    } else if (force !== true) {\n      const cell = $(document.getElementById(\"p1001\")).parents('.cell').data().cell;\n      cell.output_area.append_execute_result(NB_LOAD_WARNING)\n    }\n  }\n\n  if (root._bokeh_is_loading === 0) {\n    console.debug(\"Bokeh: BokehJS loaded, going straight to plotting\");\n    run_inline_js();\n  } else {\n    load_libs(css_urls, js_urls, function() {\n      console.debug(\"Bokeh: BokehJS plotting callback run at\", now());\n      run_inline_js();\n    });\n  }\n}(window));"
     },
     "metadata": {},
     "output_type": "display_data"
    }
   ],
   "source": [
    "# Colab setup ------------------\n",
    "import os, sys\n",
    "if \"google.colab\" in sys.modules:\n",
    "    data_path = \"https://biocircuits.github.io/chapters/data/\"\n",
    "else:\n",
    "    data_path = \"data/\"\n",
    "# ------------------------------\n",
    "\n",
    "import numpy as np\n",
    "import pandas as pd\n",
    "\n",
    "import bokeh.models\n",
    "import bokeh.plotting\n",
    "import bokeh.io\n",
    "\n",
    "bokeh.io.output_notebook()"
   ]
  },
  {
   "cell_type": "markdown",
   "metadata": {},
   "source": [
    "<hr>"
   ]
  },
  {
   "cell_type": "markdown",
   "metadata": {},
   "source": [
    "Thus far, we have written deterministic systems of ordinary differential equations to describe the dynamics of mRNA and protein concentrations in cells. These expressions assume that there are enough of all the components, and enough time, to sample all of the many available molecular states. As such, we were looking at rates of gene expression considering large numbers of the molecular constituents. However biochemical processes within a cell can be stochastic (a term meaning intrinsically random) or \"noisy.\"\n",
    "\n",
    "Over the next chapters we will focus on understanding the sources and dynamics of noise, methods to analyze noise, and the functional roles of noise in biological systems. To do so, we will use the mathematical machinery of probability, an important tool for every biologist and bioengineer to have in their toolbox."
   ]
  },
  {
   "cell_type": "markdown",
   "metadata": {},
   "source": [
    "## Noise is present in genetic circuits, and cells are like burritos\n",
    "\n",
    "One cell may seem at first glance identical to any other cell living alongside it in the same conditions. However, the inside of cells are heterogeneous and may be highly variable. Furthermore, the copy numbers of many proteins and mRNA molecules are small in a given cell. [Wi and coworkers (_Cell_, 2014)](http://dx.doi.org/10.1016/j.cell.2014.02.033) used ribosome profiling to obtain estimates for absolute protein counts of various transcription factors. They found that half of repressors have copy numbers below 100 per genome equivalent and 90% of activators do as well. About 10% of repressors and 50% of activators have copy numbers of 10 or below. These are small numbers! This means that they are susceptible to fluctuations.\n",
    "\n",
    "\n",
    "<!--\n",
    "Their counts are shown in the empirical cumulative distribution function below, adapted from the paper.\n",
    "\n",
    "\n",
    "<div style=\"margin: auto; width: 250px\">\n",
    "    \n",
    "![Wi copy numbers](figs/wi_copy_number.png)\n",
    "\n",
    "</div>\n",
    "\n",
    "\n",
    "As evident in the figure, half of repressors have copy numbers below 100 and 90% of activators do as well. \n",
    "-->\n",
    "\n",
    "\n",
    "\n",
    "Generally speaking, we call deviations from what we might expect from our deterministic view of gene expression **stochasticity**, or **noise**. This is a key concept, because nearly all cellular processes are susceptible to noise for a host of reasons, especially low copy numbers of molecular regulators of gene expression. We will provide a more careful definition of noise momentarily.\n",
    "\n",
    "Consider the \"model\" of an *E. coli* cell depicted below. From the outside (left image), it appears as a simple cylindrical container, encapsulating what one might incorrectly assume is a homogeneous well-mixed continuum of biochemical mush inside. However, if we were to slice open the cell (right image), the low copy numbers of certain molecules and their spatial heterogenetiy become apparent. Within each cell, the copy numbers and locations of different molecules can vary dramatically over time, just as they vary from cell to cell. Like burritos, no two are truly identical. (Unlike this burrito, most bacteria do not include cheese in the periplasm.)\n",
    "\n",
    "\n",
    "<div style=\"margin: auto; width: 500px\">\n",
    "    \n",
    "![Michael's epiphanic burrito](figs/burrito.jpg)    \n",
    "    \n",
    "</div>"
   ]
  },
  {
   "cell_type": "markdown",
   "metadata": {},
   "source": [
    "## Looking at heterogeneity\n",
    "\n",
    "To demonstrate the heterogeneity that may arise from small copy numbers, Boris Rotman ([PNAS, 1961](https://doi.org/10.1073/pnas.47.12.1981)) performed a classic experiment in which he put small numbers (on average one) of β-D-galactosidase in droplets containing a fluorescent substrate 6HFP, which glows green when it is cleaved by β-D-galactosidase.\n",
    "\n",
    "<div style=\"margin: auto; width: 250px\">\n",
    "    \n",
    "![Rotman drops](figs/rotman_drops.png)    \n",
    "    \n",
    "</div>\n",
    "\n",
    "The heterogeneity in the drops is obvious. Drops showed quantized activities proportional to the number of enzyme copies in the droplet. \n",
    "\n",
    "We can also see heterogeneity if we look at gene expression in bacterial cells. In the image below, we see an image of _E. coli_ cells expressing yellow fluorescent protein (YFP) under control of the LacI promoter. The variation in fluorescent intensity, and therefore gene expression level, is apparent.\n",
    "\n",
    "<div style=\"margin: auto; width: 350px\">\n",
    "    \n",
    "![YFP noise](figs/yfp_noise.png)    \n",
    "    \n",
    "</div>\n"
   ]
  },
  {
   "cell_type": "markdown",
   "metadata": {},
   "source": [
    "## Types of noise\n",
    "\n",
    "To quantitatively define noise, it helps to perform a thought experiment. Say we have many exactly identical cells. At some point in the future, as gene expression, responses to the environment (which we assume is the same for each cell), etc. proceed, the cells will no longer be identical due to stochasticity in all of these processes involving small numbers of molecules. Consider one gene product of interest in these cells (such as YFP in the image above). We can define the **total noise**, $\\eta_\\mathrm{tot}$, as the **coefficient of variation** of the copy numbers of the gene product. The coefficient of variation is the standard deviation of the copy number divided by the mean copy number, or\n",
    "\n",
    "\\begin{align}\n",
    "\\eta_\\mathrm{tot}^2 = \\frac{\\left\\langle n^2\\right\\rangle  - \\left\\langle n\\right\\rangle ^2}{\\left\\langle n\\right\\rangle ^2},\n",
    "\\end{align}\n",
    "\n",
    "where $n$ is the copy number and where $\\langle n \\rangle$ denotes the expectation value of $n$. If the standard deviation is comparable to the mean, as we would expect in the case of large copy numbers, we have low noise, but if it is large compared to the mean, we have high noise.\n",
    "\n",
    "Continuing with the thought experiment, let's ponder how variations in gene expression might come about. We might have fluctuations in environmental conditions that might change the expression level of the gene of interest, either directly, or indirectly through expression of other genes in any given cell. We might also have fluctuations in gene expression due to the inherent stochasticity present in cellular processes, such as in those involved in the Central Dogma. This leads us to categorize the noise according to **intrinsic** and **extrinsic** noise.\n",
    "\n",
    "- **Intrinsic noise**: Transcription and translation can occur at different times and rates in otherwise identical systems. This results in fluctuations in $n(t)$. The fluctuations in the copy number of the protein of interest are due to fluctuations that affect _only_ the gene of interest. Operationally, intrinsic noise causes the failure of identical genes in identical environments to correlate. This fundamentally limits the precision of regulation.\n",
    "- **Extrinsic noise**: Other molecular species, such as RNA polymerase, ribosomes, and chemical species in the cell's environment, vary over time and affect the gene of interest. The fluctuations in the copy number of the protein of interest are due to fluctuations that affect _all_ genes in a cell."
   ]
  },
  {
   "cell_type": "markdown",
   "metadata": {},
   "source": [
    "## Experimentally determining intrinsic and extrinsic noise\n",
    "\n",
    "It is difficult to know a priori how intrinsically noisy gene expression will be without measuring it. The problem is that just measuring cell-cell variation does not separate intrinsic noise in the process of gene expression from extrinsic cell-cell variation in key cellular components. Moreover, even if there were no extrinsic noise at all, intrinsic noise can still depend on the relative transcription, translation, and degradation rates, or other factors we are not aware of. Thus, it is critical to actually measure noise to see how it behaves.\n",
    "\n",
    "Delineating intrinsic and extrinsic noise is difficult, if not impossible, by measuring expression of a single gene in a cell. To construct an experiment to study this, we can conduct another thought experiment. Say we put two perfectly molecularly identical cells in the exact same environment and see if they behave similarly. Unfortunately, we cannot do this, because we cannot prepare two perfectly identical cells. However, we can put two (nearly) identical _genes_ in the _same_ cell. This is conceptually related, and allows us to think of these two genes as two independent stochastic samples of the same underlying process. If everything behaved deterministically and was only influenced by extrinsic noise, we would expect strongly correlated variation in both genes, as in panel A of the image below. If, however, expression is non-deterministic then variation will be uncorrelated, as in panel B, below.\n",
    "\n",
    "<div style=\"margin: auto; width: 450px\">\n",
    "    \n",
    "![intrinsic/extrinsic noise](figs/int_ext.png)    \n",
    "    \n",
    "</div>\n",
    "\n",
    "\n",
    "To perform this experiment [Elowitz and coworkers (_Science_, 2002)](https://doi.org/10.1126/science.1070919) developed a system in which identical promoters were used to express fluorescent proteins of different color, cyan fluorescent protein (CFP) and YFP. The promoters were repressed by the LacI protein. They could tune the repression by changing concentration of IPTG, since IPTG inhibits LacI's ability to act as a repressor.\n",
    "\n",
    "<div style=\"margin: auto; width: 100px\">\n",
    "    \n",
    "![LacI-CFP-YFP circuit](figs/laci_cfp_yfp_circuit.png)    \n",
    "    \n",
    "</div>\n",
    "\n",
    "\n",
    "They were also careful to integrate the promoters into the genome at loci that were equidistant from the origin of replication so that the copy number of each on the chromosome remains the same as the genome is replicated. They then could measure the expression level for identical promoters under identical conditions, since the promoters are in the same cell. A typical result is shown in the images below.\n",
    "\n",
    "<div style=\"margin: auto; width: 450px\">\n",
    "    \n",
    "![cell noise](figs/cell_noise.png)    \n",
    "    \n",
    "</div>\n",
    "\n",
    "\n",
    "We can see that in some cells, both the CFP and YFP levels are high (yellow in the merge), but in other cases, they CFP and YFP levels differ (green or red in the merge).\n",
    "\n",
    "The rest of this chapter addresses how we can separate intrinsic from extrinsic noise from images like these."
   ]
  },
  {
   "cell_type": "markdown",
   "metadata": {},
   "source": [
    "### Segmentation and scaling of fluorescence\n",
    "\n",
    "First, the images must be **segmented**, which means that each pixel in the image needs to be labeled with a unique number corresponding to which bacterium (or background) it belongs. The phase contrast image is used for this purpose because it is generally bad practice to use the signal you are trying to measure in segmentation. Next, the intensities of the pixels in each channel (CFP and YFP) for each bacterium are summed to give a total intensity. The integrated CFP intensity for cell $i$ is\n",
    "\n",
    "\\begin{align}\n",
    "c_i = c_0 n_{c,i},\n",
    "\\end{align}\n",
    "\n",
    "where $n_{c,i}$ is the copy number of CFP in cell $i$. The constant $c_0$ is determined by the fluorescent yield of YFP, microscope settings, etc. Similarly, the integrated YFP intensity for cell $i$ is\n",
    "\n",
    "\\begin{align}\n",
    "y_i = y_0 n_{y,i}.\n",
    "\\end{align}\n",
    "\n",
    "It is in general very difficult to measure $c_0$ or $y_0$. While we could have more sophisticated statistical models to try to ascertain them, we will instead _scale_ the YFP intensity in our image processing such that\n",
    "\n",
    "\\begin{align}\n",
    "\\langle y \\rangle = \\langle c \\rangle.\n",
    "\\end{align}\n",
    "\n",
    "The _assumption_ in doing so is that the mean copy number of YFP and CFP are equal. This is an important assumption, which hopefully holds because of the careful construction of the promoters on the chromosome, and is one we will rely on going forward.\n",
    "\n",
    "Do do the scaling in practice, if $\\{c_i, y_i\\}$ is the set of $N$ cellular CFP and YFP integrated intensities we measured and \n",
    "\n",
    "\\begin{align}\n",
    "\\bar{c} = \\frac{1}{N}\\sum_{i=1}^N c_i, \\\\[1em]\n",
    "\\bar{y} = \\frac{1}{N}\\sum_{i=1}^N y_i\n",
    "\\end{align}\n",
    "\n",
    "are the arithmetic mean of the CFP and YFP intensities, we adjust\n",
    "\n",
    "\\begin{align}\n",
    "c_i \\leftarrow c_i / \\bar{c},\\\\[1em]\n",
    "y_i \\leftarrow y_i / \\bar{y},\n",
    "\\end{align}\n",
    "\n",
    "which enforces that the means are equal (and both arbitrarily equal to one). With these rescaled intensities, the prefactors connecting the fluorescent intensity to copy number are equal, or $c_0 = y_0$."
   ]
  },
  {
   "cell_type": "markdown",
   "metadata": {},
   "source": [
    "### Plug-in estimates for intrinsic, extrinsic, and total noise\n",
    "\n",
    "As our first approach to estimating the intrinsic and extrinsic noise from our data set $\\{c_i, y_i\\}$, let us assume that we do not know the probability distribution describing $\\{c_i, y_i\\}$. Since we do not know the distribution, we will resort to making **plug-in estimates** of the moments of the distribution to estimate quantities such as $\\langle n^2 \\rangle$. Remember that going forward, we assume that the data have already been properly scaled to have the same mean.\n",
    "\n",
    "To compute the total noise, we need to compute the variance in gene expression. Since both CFP and YFP are on identical promoters, we can group them together as a single species in this calculation. The plug-in estimate for the total variance is then\n",
    "\n",
    "\\begin{align}\n",
    "V_\\mathrm{tot} = \\frac{1}{2N}\\sum_{i=1}^N\\left[\\left(c_i - \\bar{c}\\right)^2 + \\left(y_i - \\bar{y}\\right)^2\\right] = \\frac{1}{2}\\left(\\overline{c^2} - \\bar{c}^2 + \\overline{y^2} - \\bar{y}^2\\right).\n",
    "\\end{align}\n",
    "\n",
    "The factor in the denominator is $2N$ because we have two fluorescent species in each cell.\n",
    "\n",
    "The intrinsic noise comes from within-cell variation. This is quantified by the difference in fluorescence between the CFP and YFP fluorescence in each cell. This variation is quantified by the mean-square difference,\n",
    "\n",
    "\\begin{align}\n",
    "V_\\mathrm{int} = \\frac{1}{2N}\\sum_{i=1}^N\\left(c_i - y_i\\right)^2 = \\frac{1}{2}\\left(\\overline{c^2} + \\overline{y^2}\\right) - \\overline{cy}.\n",
    "\\end{align}\n",
    "\n",
    "Note that we again divide by two because both the CFP and YFP expression are subjected to the same intrinsic noise. Since $V_\\mathrm{int}$ accounts for the intrinsic variance, we define the remainder of the variance to be due to extrinsic noise,\n",
    "\n",
    "\\begin{align}\n",
    "V_\\mathrm{ext} = V_\\mathrm{tot} - V_\\mathrm{int} = \\overline{cy} - \\frac{1}{2}\\left(\\bar{c}^2 + \\bar{y}^2\\right) = \\overline{cy} - \\bar{c}\\bar{y},\n",
    "\\end{align}\n",
    "\n",
    "where in the last equality we have used the fact that $\\bar{c} = \\bar{y}$. We recognize that the extrinsic noise is given by the plug-in estimate for the covariance. We can now write expressions for the plug-in estimates for the noise by dividing these variances by the square of the mean expression, $\\bar{c}\\bar{y}$ (again, because $\\bar{c} = \\bar{y}$).\n",
    "\n",
    "\\begin{align}\n",
    "&\\eta_\\mathrm{tot}^2 = \\frac{V_\\mathrm{tot}}{\\bar{c}\\bar{y}} = \\frac{1}{2\\bar{c}\\bar{y}}\\left(\\overline{c^2} - \\bar{c}^2 + \\overline{y^2} - \\bar{y}^2\\right),\\\\[1em]\n",
    "&\\eta_\\mathrm{int}^2 = \\frac{V_\\mathrm{int}}{\\bar{c}\\bar{y}} = \\frac{1}{2\\bar{c}\\bar{y}}\\left(\\overline{c^2} + \\overline{y^2}\\right) - \\overline{cy}\\\\[1em]\n",
    "&\\eta_\\mathrm{ext}^2 = \\frac{V_\\mathrm{ext}}{\\bar{c}\\bar{y}} = \\frac{\\overline{cy} - \\bar{c}\\bar{y}}{\\bar{c}\\bar{y}}.\n",
    "\\end{align}"
   ]
  },
  {
   "cell_type": "markdown",
   "metadata": {},
   "source": [
    "### Computing the intrinsic and extrinsic noise from experimental data\n",
    "\n",
    "As an example, let us compute the intrinsic and extrinsic noise from experimental data. We will consider two data sets from the [Elowitz, et al. paper](https://doi.org/10.1126/science.1070919), both of which are contained in [this CSV file](data/elowitz_et_al_2002_fig_3a.csv). One set of measurements is for the M22 strain, which has the CFP/YFP under control of LacI setup in _E. coli_ we have previously described. The other set of measurements is for the D22 strain, which has a deletion of the _recA_ gene, which is responsible for rescuing stalled replication forks.\n",
    "\n",
    "Let's plot the two data sets and compare."
   ]
  },
  {
   "cell_type": "code",
   "execution_count": 13,
   "metadata": {
    "tags": [
     "hide-input"
    ]
   },
   "outputs": [
    {
     "data": {
      "text/html": [
       "\n",
       "  <div id=\"a8f11863-464c-4439-b9bf-c71f6b26bd0d\" data-root-id=\"p2709\" style=\"display: contents;\"></div>\n"
      ]
     },
     "metadata": {},
     "output_type": "display_data"
    },
    {
     "data": {
      "application/javascript": [
       "(function(root) {\n",
       "  function embed_document(root) {\n",
       "  const docs_json = {\"4df656e4-971d-4bda-ab94-1b784622759c\":{\"version\":\"3.1.0\",\"title\":\"Bokeh Application\",\"defs\":[],\"roots\":[{\"type\":\"object\",\"name\":\"Figure\",\"id\":\"p2709\",\"attributes\":{\"x_range\":{\"type\":\"object\",\"name\":\"Range1d\",\"id\":\"p2718\",\"attributes\":{\"start\":0.675,\"end\":1.4}},\"y_range\":{\"type\":\"object\",\"name\":\"Range1d\",\"id\":\"p2720\",\"attributes\":{\"start\":0.675,\"end\":1.4}},\"x_scale\":{\"type\":\"object\",\"name\":\"LinearScale\",\"id\":\"p2722\"},\"y_scale\":{\"type\":\"object\",\"name\":\"LinearScale\",\"id\":\"p2724\"},\"title\":{\"type\":\"object\",\"name\":\"Title\",\"id\":\"p2712\"},\"renderers\":[{\"type\":\"object\",\"name\":\"GlyphRenderer\",\"id\":\"p2761\",\"attributes\":{\"data_source\":{\"type\":\"object\",\"name\":\"ColumnDataSource\",\"id\":\"p2755\",\"attributes\":{\"selected\":{\"type\":\"object\",\"name\":\"Selection\",\"id\":\"p2756\",\"attributes\":{\"indices\":[],\"line_indices\":[]}},\"selection_policy\":{\"type\":\"object\",\"name\":\"UnionRenderers\",\"id\":\"p2757\"},\"data\":{\"type\":\"map\",\"entries\":[[\"x\",{\"type\":\"ndarray\",\"array\":{\"type\":\"bytes\",\"data\":\"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\"},\"shape\":[250],\"dtype\":\"float64\",\"order\":\"little\"}],[\"y\",{\"type\":\"ndarray\",\"array\":{\"type\":\"bytes\",\"data\":\"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\"},\"shape\":[250],\"dtype\":\"float64\",\"order\":\"little\"}]]}}},\"view\":{\"type\":\"object\",\"name\":\"CDSView\",\"id\":\"p2762\",\"attributes\":{\"filter\":{\"type\":\"object\",\"name\":\"AllIndices\",\"id\":\"p2763\"}}},\"glyph\":{\"type\":\"object\",\"name\":\"Circle\",\"id\":\"p2758\",\"attributes\":{\"x\":{\"type\":\"field\",\"field\":\"x\"},\"y\":{\"type\":\"field\",\"field\":\"y\"},\"line_color\":{\"type\":\"value\",\"value\":\"#1f77b4\"},\"line_alpha\":{\"type\":\"value\",\"value\":0.3},\"fill_color\":{\"type\":\"value\",\"value\":\"#1f77b4\"},\"fill_alpha\":{\"type\":\"value\",\"value\":0.3},\"hatch_alpha\":{\"type\":\"value\",\"value\":0.3}}},\"nonselection_glyph\":{\"type\":\"object\",\"name\":\"Circle\",\"id\":\"p2759\",\"attributes\":{\"x\":{\"type\":\"field\",\"field\":\"x\"},\"y\":{\"type\":\"field\",\"field\":\"y\"},\"line_color\":{\"type\":\"value\",\"value\":\"#1f77b4\"},\"line_alpha\":{\"type\":\"value\",\"value\":0.1},\"fill_color\":{\"type\":\"value\",\"value\":\"#1f77b4\"},\"fill_alpha\":{\"type\":\"value\",\"value\":0.1},\"hatch_alpha\":{\"type\":\"value\",\"value\":0.1}}},\"muted_glyph\":{\"type\":\"object\",\"name\":\"Circle\",\"id\":\"p2760\",\"attributes\":{\"x\":{\"type\":\"field\",\"field\":\"x\"},\"y\":{\"type\":\"field\",\"field\":\"y\"},\"line_color\":{\"type\":\"value\",\"value\":\"#1f77b4\"},\"line_alpha\":{\"type\":\"value\",\"value\":0.2},\"fill_color\":{\"type\":\"value\",\"value\":\"#1f77b4\"},\"fill_alpha\":{\"type\":\"value\",\"value\":0.2},\"hatch_alpha\":{\"type\":\"value\",\"value\":0.2}}}}},{\"type\":\"object\",\"name\":\"GlyphRenderer\",\"id\":\"p2772\",\"attributes\":{\"data_source\":{\"type\":\"object\",\"name\":\"ColumnDataSource\",\"id\":\"p2766\",\"attributes\":{\"selected\":{\"type\":\"object\",\"name\":\"Selection\",\"id\":\"p2767\",\"attributes\":{\"indices\":[],\"line_indices\":[]}},\"selection_policy\":{\"type\":\"object\",\"name\":\"UnionRenderers\",\"id\":\"p2768\"},\"data\":{\"type\":\"map\",\"entries\":[[\"x\",{\"type\":\"ndarray\",\"array\":{\"type\":\"bytes\",\"data\":\"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\"},\"shape\":[284],\"dtype\":\"float64\",\"order\":\"little\"}],[\"y\",{\"type\":\"ndarray\",\"array\":{\"type\":\"bytes\",\"data\":\"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\"},\"shape\":[284],\"dtype\":\"float64\",\"order\":\"little\"}]]}}},\"view\":{\"type\":\"object\",\"name\":\"CDSView\",\"id\":\"p2773\",\"attributes\":{\"filter\":{\"type\":\"object\",\"name\":\"AllIndices\",\"id\":\"p2774\"}}},\"glyph\":{\"type\":\"object\",\"name\":\"Circle\",\"id\":\"p2769\",\"attributes\":{\"x\":{\"type\":\"field\",\"field\":\"x\"},\"y\":{\"type\":\"field\",\"field\":\"y\"},\"line_color\":{\"type\":\"value\",\"value\":\"orange\"},\"line_alpha\":{\"type\":\"value\",\"value\":0.3},\"fill_color\":{\"type\":\"value\",\"value\":\"orange\"},\"fill_alpha\":{\"type\":\"value\",\"value\":0.3},\"hatch_color\":{\"type\":\"value\",\"value\":\"orange\"},\"hatch_alpha\":{\"type\":\"value\",\"value\":0.3}}},\"nonselection_glyph\":{\"type\":\"object\",\"name\":\"Circle\",\"id\":\"p2770\",\"attributes\":{\"x\":{\"type\":\"field\",\"field\":\"x\"},\"y\":{\"type\":\"field\",\"field\":\"y\"},\"line_color\":{\"type\":\"value\",\"value\":\"orange\"},\"line_alpha\":{\"type\":\"value\",\"value\":0.1},\"fill_color\":{\"type\":\"value\",\"value\":\"orange\"},\"fill_alpha\":{\"type\":\"value\",\"value\":0.1},\"hatch_color\":{\"type\":\"value\",\"value\":\"orange\"},\"hatch_alpha\":{\"type\":\"value\",\"value\":0.1}}},\"muted_glyph\":{\"type\":\"object\",\"name\":\"Circle\",\"id\":\"p2771\",\"attributes\":{\"x\":{\"type\":\"field\",\"field\":\"x\"},\"y\":{\"type\":\"field\",\"field\":\"y\"},\"line_color\":{\"type\":\"value\",\"value\":\"orange\"},\"line_alpha\":{\"type\":\"value\",\"value\":0.2},\"fill_color\":{\"type\":\"value\",\"value\":\"orange\"},\"fill_alpha\":{\"type\":\"value\",\"value\":0.2},\"hatch_color\":{\"type\":\"value\",\"value\":\"orange\"},\"hatch_alpha\":{\"type\":\"value\",\"value\":0.2}}}}}],\"toolbar\":{\"type\":\"object\",\"name\":\"Toolbar\",\"id\":\"p2714\",\"attributes\":{\"tools\":[{\"type\":\"object\",\"name\":\"PanTool\",\"id\":\"p2740\"},{\"type\":\"object\",\"name\":\"WheelZoomTool\",\"id\":\"p2741\"},{\"type\":\"object\",\"name\":\"BoxZoomTool\",\"id\":\"p2742\",\"attributes\":{\"overlay\":{\"type\":\"object\",\"name\":\"BoxAnnotation\",\"id\":\"p2743\",\"attributes\":{\"syncable\":false,\"level\":\"overlay\",\"visible\":false,\"left_units\":\"canvas\",\"right_units\":\"canvas\",\"bottom_units\":\"canvas\",\"top_units\":\"canvas\",\"line_color\":\"black\",\"line_alpha\":1.0,\"line_width\":2,\"line_dash\":[4,4],\"fill_color\":\"lightgrey\",\"fill_alpha\":0.5}}}},{\"type\":\"object\",\"name\":\"SaveTool\",\"id\":\"p2744\"},{\"type\":\"object\",\"name\":\"ResetTool\",\"id\":\"p2745\"},{\"type\":\"object\",\"name\":\"HelpTool\",\"id\":\"p2746\"}]}},\"left\":[{\"type\":\"object\",\"name\":\"LinearAxis\",\"id\":\"p2733\",\"attributes\":{\"ticker\":{\"type\":\"object\",\"name\":\"BasicTicker\",\"id\":\"p2736\",\"attributes\":{\"mantissas\":[1,2,5]}},\"formatter\":{\"type\":\"object\",\"name\":\"BasicTickFormatter\",\"id\":\"p2734\"},\"axis_label\":\"YFP\",\"major_label_policy\":{\"type\":\"object\",\"name\":\"AllLabels\",\"id\":\"p2735\"}}}],\"below\":[{\"type\":\"object\",\"name\":\"LinearAxis\",\"id\":\"p2726\",\"attributes\":{\"ticker\":{\"type\":\"object\",\"name\":\"BasicTicker\",\"id\":\"p2729\",\"attributes\":{\"mantissas\":[1,2,5]}},\"formatter\":{\"type\":\"object\",\"name\":\"BasicTickFormatter\",\"id\":\"p2727\"},\"axis_label\":\"CFP\",\"major_label_policy\":{\"type\":\"object\",\"name\":\"AllLabels\",\"id\":\"p2728\"}}}],\"center\":[{\"type\":\"object\",\"name\":\"Grid\",\"id\":\"p2732\",\"attributes\":{\"axis\":{\"id\":\"p2726\"}}},{\"type\":\"object\",\"name\":\"Grid\",\"id\":\"p2739\",\"attributes\":{\"dimension\":1,\"axis\":{\"id\":\"p2733\"}}},{\"type\":\"object\",\"name\":\"Legend\",\"id\":\"p2764\",\"attributes\":{\"location\":\"bottom_right\",\"background_fill_alpha\":0.7,\"click_policy\":\"hide\",\"items\":[{\"type\":\"object\",\"name\":\"LegendItem\",\"id\":\"p2765\",\"attributes\":{\"label\":{\"type\":\"value\",\"value\":\"M22\"},\"renderers\":[{\"id\":\"p2761\"}]}},{\"type\":\"object\",\"name\":\"LegendItem\",\"id\":\"p2775\",\"attributes\":{\"label\":{\"type\":\"value\",\"value\":\"D22\"},\"renderers\":[{\"id\":\"p2772\"}]}}]}}],\"frame_width\":250,\"frame_height\":250}}],\"callbacks\":{\"type\":\"map\"}}};\n",
       "  const render_items = [{\"docid\":\"4df656e4-971d-4bda-ab94-1b784622759c\",\"roots\":{\"p2709\":\"a8f11863-464c-4439-b9bf-c71f6b26bd0d\"},\"root_ids\":[\"p2709\"]}];\n",
       "  root.Bokeh.embed.embed_items_notebook(docs_json, render_items);\n",
       "  }\n",
       "  if (root.Bokeh !== undefined) {\n",
       "    embed_document(root);\n",
       "  } else {\n",
       "    let attempts = 0;\n",
       "    const timer = setInterval(function(root) {\n",
       "      if (root.Bokeh !== undefined) {\n",
       "        clearInterval(timer);\n",
       "        embed_document(root);\n",
       "      } else {\n",
       "        attempts++;\n",
       "        if (attempts > 100) {\n",
       "          clearInterval(timer);\n",
       "          console.log(\"Bokeh: ERROR: Unable to run BokehJS code because BokehJS library is missing\");\n",
       "        }\n",
       "      }\n",
       "    }, 10, root)\n",
       "  }\n",
       "})(window);"
      ],
      "application/vnd.bokehjs_exec.v0+json": ""
     },
     "metadata": {
      "application/vnd.bokehjs_exec.v0+json": {
       "id": "p2709"
      }
     },
     "output_type": "display_data"
    }
   ],
   "source": [
    "# Read in the data set\n",
    "df = pd.read_csv(os.path.join(data_path, \"elowitz_et_al_2002_fig_3a.csv\"))\n",
    "\n",
    "# Extract measurements into Numpy arrays\n",
    "m22_cfp = df.loc[\n",
    "    (df[\"strain\"] == \"m22\") & (df[\"fluorophore\"] == \"cfp\"), \"intensity\"\n",
    "].values\n",
    "m22_yfp = df.loc[\n",
    "    (df[\"strain\"] == \"m22\") & (df[\"fluorophore\"] == \"yfp\"), \"intensity\"\n",
    "].values\n",
    "d22_cfp = df.loc[\n",
    "    (df[\"strain\"] == \"d22\") & (df[\"fluorophore\"] == \"cfp\"), \"intensity\"\n",
    "].values\n",
    "d22_yfp = df.loc[\n",
    "    (df[\"strain\"] == \"d22\") & (df[\"fluorophore\"] == \"yfp\"), \"intensity\"\n",
    "].values\n",
    "\n",
    "# Scale the measurements by their means\n",
    "m22_cfp /= m22_cfp.mean()\n",
    "m22_yfp /= m22_yfp.mean()\n",
    "d22_cfp /= d22_cfp.mean()\n",
    "d22_yfp /= d22_yfp.mean()\n",
    "\n",
    "# Generate plot\n",
    "p = bokeh.plotting.figure(\n",
    "    frame_width=250,\n",
    "    frame_height=250,\n",
    "    x_axis_label=\"CFP\",\n",
    "    y_axis_label=\"YFP\",\n",
    "    x_range=[0.675, 1.4],\n",
    "    y_range=[0.675, 1.4],\n",
    ")\n",
    "p.circle(m22_cfp, m22_yfp, alpha=0.3, legend_label=\"M22\")\n",
    "p.circle(d22_cfp, d22_yfp, color=\"orange\", alpha=0.3, legend_label=\"D22\")\n",
    "p.legend.location = \"bottom_right\"\n",
    "p.legend.click_policy = \"hide\"\n",
    "p.legend.background_fill_alpha = 0.7\n",
    "\n",
    "bokeh.io.show(p)"
   ]
  },
  {
   "cell_type": "markdown",
   "metadata": {},
   "source": [
    "The apparent positive covariance is indicative of the presence of extrinsic noise. We will now proceed to compute plug-in estimates for the intrinsic, extrinsic, and total noise."
   ]
  },
  {
   "cell_type": "code",
   "execution_count": 3,
   "metadata": {},
   "outputs": [
    {
     "name": "stdout",
     "output_type": "stream",
     "text": [
      "\n",
      "M22\n",
      "---\n",
      "intrinsic: 0.0554\n",
      "extrincic: 0.0540\n",
      "total:     0.0774\n",
      "\n",
      "D22\n",
      "---\n",
      "intrinsic: 0.0814\n",
      "extrincic: 0.0809\n",
      "total:     0.1147\n",
      "\n"
     ]
    }
   ],
   "source": [
    "def plugin_noise(c, y):\n",
    "    \"\"\"Plug-in estimates for noise\"\"\"\n",
    "    Vtot = np.var(np.concatenate((c, y)), ddof=0)\n",
    "    Vext = np.cov(c, y, ddof=0)[0, 1]\n",
    "    Vint = Vtot - Vext\n",
    "\n",
    "    return np.sqrt(np.array([Vint, Vext, Vtot]) / c.mean() / y.mean())\n",
    "\n",
    "\n",
    "# Compute plug-in estimates\n",
    "m22_noise = plugin_noise(m22_cfp, m22_yfp)\n",
    "d22_noise = plugin_noise(d22_cfp, d22_yfp)\n",
    "\n",
    "# Print the result\n",
    "print(\n",
    "    \"\"\"\n",
    "M22\n",
    "---\n",
    "intrinsic: {0:.4f}\n",
    "extrincic: {1:.4f}\n",
    "total:     {2:.4f}\n",
    "\n",
    "D22\n",
    "---\n",
    "intrinsic: {3:.4f}\n",
    "extrincic: {4:.4f}\n",
    "total:     {5:.4f}\n",
    "\"\"\".format(\n",
    "        *m22_noise, *d22_noise\n",
    "    )\n",
    ")"
   ]
  },
  {
   "cell_type": "markdown",
   "metadata": {},
   "source": [
    "We can compute confidence intervals on these values using pairs bootstrap."
   ]
  },
  {
   "cell_type": "code",
   "execution_count": 5,
   "metadata": {},
   "outputs": [],
   "source": [
    "# Random number generator for resampling\n",
    "rng = np.random.default_rng()\n",
    "\n",
    "# Function to draw a pairs bootstrap replicate\n",
    "def draw_bs_rep(c, y):\n",
    "    bs_inds = rng.choice(np.arange(len(c)), len(c))\n",
    "    bs_c, bs_y = c[bs_inds], y[bs_inds]\n",
    "    return plugin_noise(bs_c, bs_y)\n",
    "\n",
    "\n",
    "# Generate bootstrap replicates\n",
    "n_reps = 100000\n",
    "m22_reps = np.array([draw_bs_rep(m22_cfp, m22_yfp) for _ in range(n_reps)])\n",
    "d22_reps = np.array([draw_bs_rep(d22_cfp, d22_yfp) for _ in range(n_reps)])\n",
    "\n",
    "# Compute 95% confidence interval\n",
    "m22_confint = np.percentile(m22_reps, [2.5, 97.5], axis=0)\n",
    "d22_confint = np.percentile(d22_reps, [2.5, 97.5], axis=0)"
   ]
  },
  {
   "cell_type": "markdown",
   "metadata": {},
   "source": [
    "Now that we have the confidence intervals, we can plot our estimates for the noise with the 95% confidence interval."
   ]
  },
  {
   "cell_type": "code",
   "execution_count": 6,
   "metadata": {
    "tags": [
     "hide-input"
    ]
   },
   "outputs": [
    {
     "data": {
      "text/html": [
       "\n",
       "  <div id=\"f7908b7b-0390-4c15-9087-3dc234a780cd\" data-root-id=\"p1191\" style=\"display: contents;\"></div>\n"
      ]
     },
     "metadata": {},
     "output_type": "display_data"
    },
    {
     "data": {
      "application/javascript": [
       "(function(root) {\n",
       "  function embed_document(root) {\n",
       "  const docs_json = {\"6fa9a633-e5f5-4310-8e28-a0645a36f945\":{\"version\":\"3.1.0\",\"title\":\"Bokeh Application\",\"defs\":[],\"roots\":[{\"type\":\"object\",\"name\":\"Figure\",\"id\":\"p1191\",\"attributes\":{\"height\":200,\"x_range\":{\"type\":\"object\",\"name\":\"DataRange1d\",\"id\":\"p1193\"},\"y_range\":{\"type\":\"object\",\"name\":\"FactorRange\",\"id\":\"p1187\",\"attributes\":{\"factors\":[[\"D22\",\"total\"],[\"D22\",\"extrinsic\"],[\"D22\",\"intrinsic\"],[\"M22\",\"total\"],[\"M22\",\"extrinsic\"],[\"M22\",\"intrinsic\"]]}},\"x_scale\":{\"type\":\"object\",\"name\":\"LinearScale\",\"id\":\"p1203\"},\"y_scale\":{\"type\":\"object\",\"name\":\"CategoricalScale\",\"id\":\"p1205\"},\"title\":{\"type\":\"object\",\"name\":\"Title\",\"id\":\"p1194\"},\"renderers\":[{\"type\":\"object\",\"name\":\"GlyphRenderer\",\"id\":\"p1241\",\"attributes\":{\"data_source\":{\"type\":\"object\",\"name\":\"ColumnDataSource\",\"id\":\"p1188\",\"attributes\":{\"selected\":{\"type\":\"object\",\"name\":\"Selection\",\"id\":\"p1189\",\"attributes\":{\"indices\":[],\"line_indices\":[]}},\"selection_policy\":{\"type\":\"object\",\"name\":\"UnionRenderers\",\"id\":\"p1190\"},\"data\":{\"type\":\"map\",\"entries\":[[\"index\",{\"type\":\"ndarray\",\"array\":{\"type\":\"bytes\",\"data\":\"AAAAAAEAAAACAAAAAwAAAAQAAAAFAAAA\"},\"shape\":[6],\"dtype\":\"int32\",\"order\":\"little\"}],[\"strain_noise\",{\"type\":\"ndarray\",\"array\":[[\"M22\",\"intrinsic\"],[\"M22\",\"extrinsic\"],[\"M22\",\"total\"],[\"D22\",\"intrinsic\"],[\"D22\",\"extrinsic\"],[\"D22\",\"total\"]],\"shape\":[6],\"dtype\":\"object\",\"order\":\"little\"}],[\"2.5\",{\"type\":\"ndarray\",\"array\":{\"type\":\"bytes\",\"data\":\"xBu37F2aqT+nM30nfumnP7BJAauClbI/fDw1nyqCsj/VrRbp76uxPxAR7f10Xbs/\"},\"shape\":[6],\"dtype\":\"float64\",\"order\":\"little\"}],[\"97.5\",{\"type\":\"ndarray\",\"array\":{\"type\":\"bytes\",\"data\":\"3tNdbY4Yrz8vCB5nVOKuP6p3LhD68LQ/DZ2kCokltz9o8QQr+l+3P3/lZc+hSL8/\"},\"shape\":[6],\"dtype\":\"float64\",\"order\":\"little\"}],[\"plugin\",{\"type\":\"ndarray\",\"array\":{\"type\":\"bytes\",\"data\":\"TJdQm/lirD+Z1q+bGaOrP8I7kJ0kz7M/Wjza0wrUtD9OK83peLa0P0jVKjfEX70/\"},\"shape\":[6],\"dtype\":\"float64\",\"order\":\"little\"}]]}}},\"view\":{\"type\":\"object\",\"name\":\"CDSView\",\"id\":\"p1242\",\"attributes\":{\"filter\":{\"type\":\"object\",\"name\":\"AllIndices\",\"id\":\"p1243\"}}},\"glyph\":{\"type\":\"object\",\"name\":\"Circle\",\"id\":\"p1238\",\"attributes\":{\"x\":{\"type\":\"field\",\"field\":\"plugin\"},\"y\":{\"type\":\"field\",\"field\":\"strain_noise\"},\"line_color\":{\"type\":\"value\",\"value\":\"#1f77b4\"},\"fill_color\":{\"type\":\"value\",\"value\":\"#1f77b4\"}}},\"nonselection_glyph\":{\"type\":\"object\",\"name\":\"Circle\",\"id\":\"p1239\",\"attributes\":{\"x\":{\"type\":\"field\",\"field\":\"plugin\"},\"y\":{\"type\":\"field\",\"field\":\"strain_noise\"},\"line_color\":{\"type\":\"value\",\"value\":\"#1f77b4\"},\"line_alpha\":{\"type\":\"value\",\"value\":0.1},\"fill_color\":{\"type\":\"value\",\"value\":\"#1f77b4\"},\"fill_alpha\":{\"type\":\"value\",\"value\":0.1},\"hatch_alpha\":{\"type\":\"value\",\"value\":0.1}}},\"muted_glyph\":{\"type\":\"object\",\"name\":\"Circle\",\"id\":\"p1240\",\"attributes\":{\"x\":{\"type\":\"field\",\"field\":\"plugin\"},\"y\":{\"type\":\"field\",\"field\":\"strain_noise\"},\"line_color\":{\"type\":\"value\",\"value\":\"#1f77b4\"},\"line_alpha\":{\"type\":\"value\",\"value\":0.2},\"fill_color\":{\"type\":\"value\",\"value\":\"#1f77b4\"},\"fill_alpha\":{\"type\":\"value\",\"value\":0.2},\"hatch_alpha\":{\"type\":\"value\",\"value\":0.2}}}}},{\"type\":\"object\",\"name\":\"GlyphRenderer\",\"id\":\"p1250\",\"attributes\":{\"data_source\":{\"type\":\"object\",\"name\":\"ColumnDataSource\",\"id\":\"p1244\",\"attributes\":{\"selected\":{\"type\":\"object\",\"name\":\"Selection\",\"id\":\"p1245\",\"attributes\":{\"indices\":[],\"line_indices\":[]}},\"selection_policy\":{\"type\":\"object\",\"name\":\"UnionRenderers\",\"id\":\"p1246\"},\"data\":{\"type\":\"map\",\"entries\":[[\"x\",[0.050005850931078594,0.06073422513046699]],[\"y\",[[\"M22\",\"intrinsic\"],[\"M22\",\"intrinsic\"]]]]}}},\"view\":{\"type\":\"object\",\"name\":\"CDSView\",\"id\":\"p1251\",\"attributes\":{\"filter\":{\"type\":\"object\",\"name\":\"AllIndices\",\"id\":\"p1252\"}}},\"glyph\":{\"type\":\"object\",\"name\":\"Line\",\"id\":\"p1247\",\"attributes\":{\"x\":{\"type\":\"field\",\"field\":\"x\"},\"y\":{\"type\":\"field\",\"field\":\"y\"},\"line_color\":\"#1f77b4\",\"line_width\":2}},\"nonselection_glyph\":{\"type\":\"object\",\"name\":\"Line\",\"id\":\"p1248\",\"attributes\":{\"x\":{\"type\":\"field\",\"field\":\"x\"},\"y\":{\"type\":\"field\",\"field\":\"y\"},\"line_color\":\"#1f77b4\",\"line_alpha\":0.1,\"line_width\":2}},\"muted_glyph\":{\"type\":\"object\",\"name\":\"Line\",\"id\":\"p1249\",\"attributes\":{\"x\":{\"type\":\"field\",\"field\":\"x\"},\"y\":{\"type\":\"field\",\"field\":\"y\"},\"line_color\":\"#1f77b4\",\"line_alpha\":0.2,\"line_width\":2}}}},{\"type\":\"object\",\"name\":\"GlyphRenderer\",\"id\":\"p1259\",\"attributes\":{\"data_source\":{\"type\":\"object\",\"name\":\"ColumnDataSource\",\"id\":\"p1253\",\"attributes\":{\"selected\":{\"type\":\"object\",\"name\":\"Selection\",\"id\":\"p1254\",\"attributes\":{\"indices\":[],\"line_indices\":[]}},\"selection_policy\":{\"type\":\"object\",\"name\":\"UnionRenderers\",\"id\":\"p1255\"},\"data\":{\"type\":\"map\",\"entries\":[[\"x\",[0.04670328361553482,0.06032050856357817]],[\"y\",[[\"M22\",\"extrinsic\"],[\"M22\",\"extrinsic\"]]]]}}},\"view\":{\"type\":\"object\",\"name\":\"CDSView\",\"id\":\"p1260\",\"attributes\":{\"filter\":{\"type\":\"object\",\"name\":\"AllIndices\",\"id\":\"p1261\"}}},\"glyph\":{\"type\":\"object\",\"name\":\"Line\",\"id\":\"p1256\",\"attributes\":{\"x\":{\"type\":\"field\",\"field\":\"x\"},\"y\":{\"type\":\"field\",\"field\":\"y\"},\"line_color\":\"#1f77b4\",\"line_width\":2}},\"nonselection_glyph\":{\"type\":\"object\",\"name\":\"Line\",\"id\":\"p1257\",\"attributes\":{\"x\":{\"type\":\"field\",\"field\":\"x\"},\"y\":{\"type\":\"field\",\"field\":\"y\"},\"line_color\":\"#1f77b4\",\"line_alpha\":0.1,\"line_width\":2}},\"muted_glyph\":{\"type\":\"object\",\"name\":\"Line\",\"id\":\"p1258\",\"attributes\":{\"x\":{\"type\":\"field\",\"field\":\"x\"},\"y\":{\"type\":\"field\",\"field\":\"y\"},\"line_color\":\"#1f77b4\",\"line_alpha\":0.2,\"line_width\":2}}}},{\"type\":\"object\",\"name\":\"GlyphRenderer\",\"id\":\"p1268\",\"attributes\":{\"data_source\":{\"type\":\"object\",\"name\":\"ColumnDataSource\",\"id\":\"p1262\",\"attributes\":{\"selected\":{\"type\":\"object\",\"name\":\"Selection\",\"id\":\"p1263\",\"attributes\":{\"indices\":[],\"line_indices\":[]}},\"selection_policy\":{\"type\":\"object\",\"name\":\"UnionRenderers\",\"id\":\"p1264\"},\"data\":{\"type\":\"map\",\"entries\":[[\"x\",[0.07259384798934465,0.08180201430374603]],[\"y\",[[\"M22\",\"total\"],[\"M22\",\"total\"]]]]}}},\"view\":{\"type\":\"object\",\"name\":\"CDSView\",\"id\":\"p1269\",\"attributes\":{\"filter\":{\"type\":\"object\",\"name\":\"AllIndices\",\"id\":\"p1270\"}}},\"glyph\":{\"type\":\"object\",\"name\":\"Line\",\"id\":\"p1265\",\"attributes\":{\"x\":{\"type\":\"field\",\"field\":\"x\"},\"y\":{\"type\":\"field\",\"field\":\"y\"},\"line_color\":\"#1f77b4\",\"line_width\":2}},\"nonselection_glyph\":{\"type\":\"object\",\"name\":\"Line\",\"id\":\"p1266\",\"attributes\":{\"x\":{\"type\":\"field\",\"field\":\"x\"},\"y\":{\"type\":\"field\",\"field\":\"y\"},\"line_color\":\"#1f77b4\",\"line_alpha\":0.1,\"line_width\":2}},\"muted_glyph\":{\"type\":\"object\",\"name\":\"Line\",\"id\":\"p1267\",\"attributes\":{\"x\":{\"type\":\"field\",\"field\":\"x\"},\"y\":{\"type\":\"field\",\"field\":\"y\"},\"line_color\":\"#1f77b4\",\"line_alpha\":0.2,\"line_width\":2}}}},{\"type\":\"object\",\"name\":\"GlyphRenderer\",\"id\":\"p1277\",\"attributes\":{\"data_source\":{\"type\":\"object\",\"name\":\"ColumnDataSource\",\"id\":\"p1271\",\"attributes\":{\"selected\":{\"type\":\"object\",\"name\":\"Selection\",\"id\":\"p1272\",\"attributes\":{\"indices\":[],\"line_indices\":[]}},\"selection_policy\":{\"type\":\"object\",\"name\":\"UnionRenderers\",\"id\":\"p1273\"},\"data\":{\"type\":\"map\",\"entries\":[[\"x\",[0.07229868304169601,0.09041649350966825]],[\"y\",[[\"D22\",\"intrinsic\"],[\"D22\",\"intrinsic\"]]]]}}},\"view\":{\"type\":\"object\",\"name\":\"CDSView\",\"id\":\"p1278\",\"attributes\":{\"filter\":{\"type\":\"object\",\"name\":\"AllIndices\",\"id\":\"p1279\"}}},\"glyph\":{\"type\":\"object\",\"name\":\"Line\",\"id\":\"p1274\",\"attributes\":{\"x\":{\"type\":\"field\",\"field\":\"x\"},\"y\":{\"type\":\"field\",\"field\":\"y\"},\"line_color\":\"#1f77b4\",\"line_width\":2}},\"nonselection_glyph\":{\"type\":\"object\",\"name\":\"Line\",\"id\":\"p1275\",\"attributes\":{\"x\":{\"type\":\"field\",\"field\":\"x\"},\"y\":{\"type\":\"field\",\"field\":\"y\"},\"line_color\":\"#1f77b4\",\"line_alpha\":0.1,\"line_width\":2}},\"muted_glyph\":{\"type\":\"object\",\"name\":\"Line\",\"id\":\"p1276\",\"attributes\":{\"x\":{\"type\":\"field\",\"field\":\"x\"},\"y\":{\"type\":\"field\",\"field\":\"y\"},\"line_color\":\"#1f77b4\",\"line_alpha\":0.2,\"line_width\":2}}}},{\"type\":\"object\",\"name\":\"GlyphRenderer\",\"id\":\"p1286\",\"attributes\":{\"data_source\":{\"type\":\"object\",\"name\":\"ColumnDataSource\",\"id\":\"p1280\",\"attributes\":{\"selected\":{\"type\":\"object\",\"name\":\"Selection\",\"id\":\"p1281\",\"attributes\":{\"indices\":[],\"line_indices\":[]}},\"selection_policy\":{\"type\":\"object\",\"name\":\"UnionRenderers\",\"id\":\"p1282\"},\"data\":{\"type\":\"map\",\"entries\":[[\"x\",[0.06902980270995525,0.09130824613834465]],[\"y\",[[\"D22\",\"extrinsic\"],[\"D22\",\"extrinsic\"]]]]}}},\"view\":{\"type\":\"object\",\"name\":\"CDSView\",\"id\":\"p1287\",\"attributes\":{\"filter\":{\"type\":\"object\",\"name\":\"AllIndices\",\"id\":\"p1288\"}}},\"glyph\":{\"type\":\"object\",\"name\":\"Line\",\"id\":\"p1283\",\"attributes\":{\"x\":{\"type\":\"field\",\"field\":\"x\"},\"y\":{\"type\":\"field\",\"field\":\"y\"},\"line_color\":\"#1f77b4\",\"line_width\":2}},\"nonselection_glyph\":{\"type\":\"object\",\"name\":\"Line\",\"id\":\"p1284\",\"attributes\":{\"x\":{\"type\":\"field\",\"field\":\"x\"},\"y\":{\"type\":\"field\",\"field\":\"y\"},\"line_color\":\"#1f77b4\",\"line_alpha\":0.1,\"line_width\":2}},\"muted_glyph\":{\"type\":\"object\",\"name\":\"Line\",\"id\":\"p1285\",\"attributes\":{\"x\":{\"type\":\"field\",\"field\":\"x\"},\"y\":{\"type\":\"field\",\"field\":\"y\"},\"line_color\":\"#1f77b4\",\"line_alpha\":0.2,\"line_width\":2}}}},{\"type\":\"object\",\"name\":\"GlyphRenderer\",\"id\":\"p1295\",\"attributes\":{\"data_source\":{\"type\":\"object\",\"name\":\"ColumnDataSource\",\"id\":\"p1289\",\"attributes\":{\"selected\":{\"type\":\"object\",\"name\":\"Selection\",\"id\":\"p1290\",\"attributes\":{\"indices\":[],\"line_indices\":[]}},\"selection_policy\":{\"type\":\"object\",\"name\":\"UnionRenderers\",\"id\":\"p1291\"},\"data\":{\"type\":\"map\",\"entries\":[[\"x\",[0.10689479064337015,0.12220202744892637]],[\"y\",[[\"D22\",\"total\"],[\"D22\",\"total\"]]]]}}},\"view\":{\"type\":\"object\",\"name\":\"CDSView\",\"id\":\"p1296\",\"attributes\":{\"filter\":{\"type\":\"object\",\"name\":\"AllIndices\",\"id\":\"p1297\"}}},\"glyph\":{\"type\":\"object\",\"name\":\"Line\",\"id\":\"p1292\",\"attributes\":{\"x\":{\"type\":\"field\",\"field\":\"x\"},\"y\":{\"type\":\"field\",\"field\":\"y\"},\"line_color\":\"#1f77b4\",\"line_width\":2}},\"nonselection_glyph\":{\"type\":\"object\",\"name\":\"Line\",\"id\":\"p1293\",\"attributes\":{\"x\":{\"type\":\"field\",\"field\":\"x\"},\"y\":{\"type\":\"field\",\"field\":\"y\"},\"line_color\":\"#1f77b4\",\"line_alpha\":0.1,\"line_width\":2}},\"muted_glyph\":{\"type\":\"object\",\"name\":\"Line\",\"id\":\"p1294\",\"attributes\":{\"x\":{\"type\":\"field\",\"field\":\"x\"},\"y\":{\"type\":\"field\",\"field\":\"y\"},\"line_color\":\"#1f77b4\",\"line_alpha\":0.2,\"line_width\":2}}}}],\"toolbar\":{\"type\":\"object\",\"name\":\"Toolbar\",\"id\":\"p1196\",\"attributes\":{\"tools\":[{\"type\":\"object\",\"name\":\"PanTool\",\"id\":\"p1220\"},{\"type\":\"object\",\"name\":\"WheelZoomTool\",\"id\":\"p1221\"},{\"type\":\"object\",\"name\":\"BoxZoomTool\",\"id\":\"p1222\",\"attributes\":{\"overlay\":{\"type\":\"object\",\"name\":\"BoxAnnotation\",\"id\":\"p1223\",\"attributes\":{\"syncable\":false,\"level\":\"overlay\",\"visible\":false,\"left_units\":\"canvas\",\"right_units\":\"canvas\",\"bottom_units\":\"canvas\",\"top_units\":\"canvas\",\"line_color\":\"black\",\"line_alpha\":1.0,\"line_width\":2,\"line_dash\":[4,4],\"fill_color\":\"lightgrey\",\"fill_alpha\":0.5}}}},{\"type\":\"object\",\"name\":\"SaveTool\",\"id\":\"p1224\"},{\"type\":\"object\",\"name\":\"ResetTool\",\"id\":\"p1225\"},{\"type\":\"object\",\"name\":\"HelpTool\",\"id\":\"p1226\"}]}},\"left\":[{\"type\":\"object\",\"name\":\"CategoricalAxis\",\"id\":\"p1214\",\"attributes\":{\"ticker\":{\"type\":\"object\",\"name\":\"CategoricalTicker\",\"id\":\"p1217\"},\"formatter\":{\"type\":\"object\",\"name\":\"CategoricalTickFormatter\",\"id\":\"p1215\"},\"major_label_policy\":{\"type\":\"object\",\"name\":\"AllLabels\",\"id\":\"p1216\"}}}],\"below\":[{\"type\":\"object\",\"name\":\"LinearAxis\",\"id\":\"p1207\",\"attributes\":{\"ticker\":{\"type\":\"object\",\"name\":\"BasicTicker\",\"id\":\"p1210\",\"attributes\":{\"mantissas\":[1,2,5]}},\"formatter\":{\"type\":\"object\",\"name\":\"BasicTickFormatter\",\"id\":\"p1208\"},\"axis_label\":\"noise\",\"major_label_policy\":{\"type\":\"object\",\"name\":\"AllLabels\",\"id\":\"p1209\"}}}],\"center\":[{\"type\":\"object\",\"name\":\"Grid\",\"id\":\"p1213\",\"attributes\":{\"axis\":{\"id\":\"p1207\"}}},{\"type\":\"object\",\"name\":\"Grid\",\"id\":\"p1219\",\"attributes\":{\"dimension\":1,\"axis\":{\"id\":\"p1214\"}}}]}}],\"callbacks\":{\"type\":\"map\"}}};\n",
       "  const render_items = [{\"docid\":\"6fa9a633-e5f5-4310-8e28-a0645a36f945\",\"roots\":{\"p1191\":\"f7908b7b-0390-4c15-9087-3dc234a780cd\"},\"root_ids\":[\"p1191\"]}];\n",
       "  root.Bokeh.embed.embed_items_notebook(docs_json, render_items);\n",
       "  }\n",
       "  if (root.Bokeh !== undefined) {\n",
       "    embed_document(root);\n",
       "  } else {\n",
       "    let attempts = 0;\n",
       "    const timer = setInterval(function(root) {\n",
       "      if (root.Bokeh !== undefined) {\n",
       "        clearInterval(timer);\n",
       "        embed_document(root);\n",
       "      } else {\n",
       "        attempts++;\n",
       "        if (attempts > 100) {\n",
       "          clearInterval(timer);\n",
       "          console.log(\"Bokeh: ERROR: Unable to run BokehJS code because BokehJS library is missing\");\n",
       "        }\n",
       "      }\n",
       "    }, 10, root)\n",
       "  }\n",
       "})(window);"
      ],
      "application/vnd.bokehjs_exec.v0+json": ""
     },
     "metadata": {
      "application/vnd.bokehjs_exec.v0+json": {
       "id": "p1191"
      }
     },
     "output_type": "display_data"
    }
   ],
   "source": [
    "# Organize results for convenient plotting\n",
    "noises = [\"intrinsic\", \"extrinsic\", \"total\"]\n",
    "strains = [\"M22\", \"D22\"]\n",
    "noise = [m22_noise, d22_noise]\n",
    "confint = [m22_confint.T, d22_confint.T]\n",
    "data = [\n",
    "    ((s, n), confint[i][j, 0], confint[i][j, 1], noise[i][j])\n",
    "    for i, s in enumerate(strains)\n",
    "    for j, n in enumerate(noises)\n",
    "]\n",
    "df_noise = pd.DataFrame(\n",
    "    columns=[\"strain_noise\", \"2.5\", \"97.5\", \"plugin\"], data=data\n",
    ")\n",
    "\n",
    "# Build data source and factor range for plot\n",
    "y_range = bokeh.models.FactorRange(*df_noise[\"strain_noise\"][::-1])\n",
    "source = bokeh.models.ColumnDataSource(df_noise)\n",
    "\n",
    "# Build the plot\n",
    "p = bokeh.plotting.figure(y_range=y_range, height=200, x_axis_label=\"noise\")\n",
    "p.circle(x=\"plugin\", y=\"strain_noise\", source=source)\n",
    "for _, row in df_noise.iterrows():\n",
    "    p.line([row[\"2.5\"], row[\"97.5\"]], [row[\"strain_noise\"]] * 2, line_width=2)\n",
    "\n",
    "bokeh.io.show(p)"
   ]
  },
  {
   "cell_type": "markdown",
   "metadata": {},
   "source": [
    "It is also interesting to plot our bootstrap samples to see how the intrinsic and extrinsic noise are correlated."
   ]
  },
  {
   "cell_type": "code",
   "execution_count": 7,
   "metadata": {
    "tags": [
     "hide-input"
    ]
   },
   "outputs": [
    {
     "data": {
      "text/html": [
       "\n",
       "  <div id=\"30bfd9a1-0be7-40a6-bddb-4fe719a264e7\" data-root-id=\"p1603\" style=\"display: contents;\"></div>\n"
      ]
     },
     "metadata": {},
     "output_type": "display_data"
    },
    {
     "data": {
      "application/javascript": [
       "(function(root) {\n",
       "  function embed_document(root) {\n",
       "  const docs_json = {\"4e17889d-30cf-44a4-80c0-76131d7d7388\":{\"version\":\"3.1.0\",\"title\":\"Bokeh Application\",\"defs\":[],\"roots\":[{\"type\":\"object\",\"name\":\"Figure\",\"id\":\"p1603\",\"attributes\":{\"x_range\":{\"type\":\"object\",\"name\":\"DataRange1d\",\"id\":\"p1604\"},\"y_range\":{\"type\":\"object\",\"name\":\"DataRange1d\",\"id\":\"p1605\"},\"x_scale\":{\"type\":\"object\",\"name\":\"LinearScale\",\"id\":\"p1616\"},\"y_scale\":{\"type\":\"object\",\"name\":\"LinearScale\",\"id\":\"p1618\"},\"title\":{\"type\":\"object\",\"name\":\"Title\",\"id\":\"p1606\"},\"renderers\":[{\"type\":\"object\",\"name\":\"GlyphRenderer\",\"id\":\"p1655\",\"attributes\":{\"data_source\":{\"type\":\"object\",\"name\":\"ColumnDataSource\",\"id\":\"p1649\",\"attributes\":{\"selected\":{\"type\":\"object\",\"name\":\"Selection\",\"id\":\"p1650\",\"attributes\":{\"indices\":[],\"line_indices\":[]}},\"selection_policy\":{\"type\":\"object\",\"name\":\"UnionRenderers\",\"id\":\"p1651\"},\"data\":{\"type\":\"map\",\"entries\":[[\"x\",{\"type\":\"ndarray\",\"array\":{\"type\":\"bytes\",\"data\":\"m4OqqZ5tqz++9AA71JGrPxAdIz/RM64/3MpnfFEJqz/4K1gCvwSsP4eJstfX6qs/U9ml8cNoqz+ySODatbyrP2vCmUfIXas/10urnADkrj+ao772WeSqP+PaI5lVEKw/RuazaFjepz9cM7QSWGGrP5nJYRseAq4/KQ9K19+qrT8Ed6Z0qXGqP0cS9/2t76s/5TtKxD0arT/D7rjbtrmtP9FyZleCRq0/UP1+J20nqz8EMFpAYPGsP6zcxDV+9as/QQU/x88srz/kc+pGTDytP+NciBaxgKw/bep5gP/wqz+siWnWmm+rP1WZrkCP7q0/u1SVCcCXqz/Ba3f/8TavP2ZRiqxzN60/Q6DL2dhArD9VZRA8UMupP5gIKVUC9as/JFpVlp+Xrj/FKI7vcLCsP3F5i5c5Lqs/RyGLuHrtqz+4GWFteoCpP+K5fUfaM64/Yyojj/E5qz/+hrnR/tGrPxtXpO2j7qw/dW1pT6sqrD+9Fi9LDi+tP12zhNIT8Ks/jn7lcFoArD9xiyarIJyrP960DgQ34qw/vOP8/xa/rj9jsIKfyySvPx1o1/xBMqw/B0+5Up8Orj9/iY86RdyrP0E2HrJC26o/EaRDVQGbqz+45P8eOeGoP2gvdF9ojaw/FmHzRwvtrD8fXkbE6BmuPybravbCp6s/C2MOt+kirD+t7NLlyKirP2kygCP5LKs/dKZcudltrD+Y6jIJ0uevP2sjNQA1uaw/XhcXI5NZrj+69BOrTKyuP0PnsolY/6w/l7Il9LEbqj8PgFXv8LOsP3wYOz5ZvKw/iDYSbcLPrT/lbyBXw9atP6CHPxlt1q4/fXqjk39Vqz/b/N44h7yrPxgpiFlaKao/tRX4+TrRrT9rcZyMAZirP86wkOCguK0/gNCSfhZDrT+h2/aNSFOuPxv/qvvSpas/UOhln3tMqz8OSn2vXjesP1vOC/qu7Ko/ALghkm9Gqz8QxmIXwtisPzQUXooKHa0/NPDH2F1/rD8SEUrnB7ytPxTwCbHWCKw/YI5APLlTrD9XG2v2pzOrP6j+fFfo/6o/of9GZEtPqT9XFfwbxfKrP+JNn8gyvKw/x+6h1k/UrD9JoAJR1nStP5Xt/OhrGq4/XebEc2avqz9wuA7GaSCvP+ni1PWLIas/KPNFRLYqqj+2Rgq6cB6sP2GBJo7hNK4/+SGcKD7lqj9QK0lSDHKuP7qffFUIw6w/+tB+Wls/rD9mlvUJrxarP3fOmyNBdKo/bL9k7DRCrT8oG3qpitWtP7pcW2fY/6s//YvhHTonrT9rarVyDHyqP53P6W37164/fbW0WqBwrD9/kZW8MaOtP0V4PlTt+Kk/dtdZiY3LrD9V8tj3t7qsP5rW9RCr060/N8wEbft0rT8KNF5PkresP1jdVMITyaw/PlckQihLqz/m4hymZEusP1+38vv2Xa0/KvWdlYFRrD/3Erw6PnysP5/JRx7rWa0/KonG46l7rD92CrJkRnOrP2hEyUL9Haw/WoZGoHqsqz8s/U/C3FapP5Ph2ygxjas/3wnV/bsWrT9RZQNEYGGrP1ujR9KIFq0/OXv3MvqorT9uETo4wyusP9XoHL2Aw6w/TPEF0gxkqj/3ftEGPFGtP/4na453vqk/vs1wnTpurT8AAG9CweOrP5NXkY4JKqs/Lhg7Z1uErD9YFevsvBqrP9itIaaok64/likigftFqz/SlaklbBirP+FeCGNH0aw/+19K65zFrD86FPOImN6sP+5YOoOgla0/dc3ipV7brD9VfmdBbMWpP6KT1grtYa4/wuy0BNqUrT+GNxZ0sYitP8AEm125ras/iw8DEU9oqz/G/lm58X6qP258+vJVWas/Nc8S9Uf8qz9847JHsAmrPyjca7uvK6s/mkrqALPQqz971GvDVfmsP5gX1BXChaw/cgnCHmeNrT/ulgKAmNeuP7YYrD7LEaw/AVznqbhhrT/qa7xyIYWtP4m3wi7Nn6w/YLocXr5yrD/6537OZjWsPyxiHRoVe6w/Qwd4wb4SrD/MGY7KBH6tP5Pt0gKOIKk/vuHiWRW0qj8CpbkC3JyrP0EleEHtqqw/PXGWieghrj/y9mZ0ZcOqPwRlU7TvEak/5NM9c97drj+8k4tuvZirP7OqHkyV+Ks/K8WU+2S7qj+6RL+6UGKtP288xiSaXqw/NEeIEVnSqj+fRxLUsUyqP/zU+oStG60/tSsFGirprj+hEQN2VrisP/YkELuGa6w/DLVIIB6qqz8ruFp1ds+sPz2AN5lxDaw/CnklBQGlqz9nK47AhIavP7sNfVy9f6s/CdX/bWWSrD+3GJ11Qt2rP6TCz6ny3qw/fLLzb59eqz9vcdN0na+rPzyVOlkb16s/DguQ7PnOqz+VnTDZdgqrP73csSdk/ao/VYLDiNUjrD9Hd1a8FH+uP6turzt76qo/G5088JL8qz/MRh71tPSqP26jmSpKX6s/JdHlnHT2rD8VK+2fMJuqP1qohaZu3ao/CRPG/Udxrz9wQ97gLcutP+8CUHFkaqo/pDtbXQ4nqz+ww2wCyd+rP8Z78fd6Mq8/JXT18NMhrD9aFDFWeKmsP+CGiJzlsas/V3TE0BRIqz9Y9fV/Z3KtP/VmKiDZTKo/LVYAp/yArT/dsLLWOFSqP0ZjgX1/O6o/7A5SkgtcrT9IBol9GTytP2SMTQ9hv60/H+JCd2FJrT+PUhpYDMysP2k+iDqVuqw/t+atQxJgrD81OsbaexarP8sNMi85Zaw/07QjJBcYrD/NpfLMobGrP7uXaBsFLqw/Vk4FUzSoqz+hs0lzlVmvPz04N6Fg3qw/9N1zWqH2rD/NGQEWDQGwPz4PBpS70q0/ahPwrt/MrD8wyRgfSJurP7Gb9fxklao/YBGYLagtqT/IEgvErhOuP2w7ibljC6s/Tg6ZBaUkqz+5fWfWN72sPxIeWcfjd64/2TdMHFGzrj8enedf3tGuP1V4P0M84qo/UCBLGL12rT8WvLOal9WvP+q7YYwD9q0/blkQw78crD+cPqBRaN+sPzTDaNY/vKs/tpRSlKkqrz+mJmduxCSqP3bW14OS/ao/1JpjeSXEqz/36/LaUzepP8K0xsnxsq0/ma0HwOSTqj9zAM4hISWtP3YscIyL3ak/JOPmg/mOrD8kK5BUfnSsP7TDu0NVQ60/7H1/I/8drD87etZrPCmtPzwDTZRc0Ks/VCiZlJ4arT+awZ4E9GasP8n2uVsG76o/IxKduNiSqz+AfQoleyurP58GOBpL+aw/fILG+JYCrj9ZKPIjRsWrPxo7rJuB1Kw/EtPKxKr7qz9zq+SJ/1arP6hUo1j6gqo/nWTqoz9Prz80Qq8d87WsPyAtMcuUJ64/HPlgmCO+qz9I6hTr/F6sP2pvyjwu46w/2JkLiOnUqj+/EuNeicSqPzZk6Tljqaw/0p/TEjXEqz9CJJXS5pavP2gbYboiIq0/gpi4nEAmqz83lJsgUaasP6LH0z3lBKw/IPEREBarrD8EDNmA2l6tP67LL1hcsqw/V7zLnUvwqz8ZlgFuLM6rPyctUgn+w6s/1gGOmVVarT80XZyngwerPzjew17j3as/MQeFH0e4rT+SldVIxwetPy0nWUafrKs/kKY1xshlrT+I5w+EZrKtP9G132873q0/tQpE7CdCrj8r7sYE0TGsP11RcYw/has/+C5mXCEcqz8qnyctPNOtPx5E/eyh96s/zwQnzDH0qj8AdOn5ularP0Uz2T/jRKk/z+LDHK14qz95xN0s+YysP3YBIMTMF6w/eT+0NiIfrD8AjNfuyyKsP9kzQqau760/RaDZtXIurT+em/E2uziqP0pxAA0oGqw/nX/pZLxprD9elIspYiytP+i2MRxnq6s/YEk0xBkorD/Bq7sEtEOvPwa8WizmDas/KRawVMQYrD8+b31uIzStP5ImB/5mbKk/ukh56q6Lqz9O7wb0gv+tP1iwaUHisqw/NNjAgguVqT/zB776g0qqP9XBzO74EKw/Sa2nQTpprD/BrlzdUHmuP8pfw0uZFa4/5rfRZRdFqj9KoncYv52rP7b/0T1nq6w/SsW65VtdrT+RDVTG17irPzgvM8X4ZK4/vlfFR5YPrD8Egk2CdYOrP+VTB5769a0/6u+vhuqfqz8Pjv+WJ8qsP5WTQdew3q0//nmBU6sgrz9N9aqpwDSrPxLqR+QZ0qs/h/pQ6Frnqj/OCtKPbE+sP3SsK87F4aw/3DbJXFSKrD8Jnkn+IqaqPzrglUSrE64/1Q9W7j6Bqz9O5u05e8yqP4rZjtb5Zq0/X5tayGMArT9ebkNum6+sP0RzohmTbao/Fzd3Gh88qz9TSAZUhVCuP1NXAyRfcaw/c2f3zcxEqj9pjtBpk3WsP9fnPm8r/60/psQX1azZqz/JDIcG2hCsP2SXUHiOBKs/v82HlQWerD+zRKJkXYStP5FbjQSMnaw/C1oZbO8+rT9524zAgSKsP+ekbeKzVK0/IVSpqCdwrT+BGBlVFR2uP0anFFwAkao/54NWTed9rD/TWJMEB7WuP09YNpkdQq0/it302h1mrD8dZQoje3ysP1T161TyJ64/gkT4M/HTrj8P/ITB3omsP6HGRbDEkao//S2LsvqDqj8OOc/7KUurP7D5vJ837Kw/BtO5CBqVqz8fzoZmZh+rP1BFYg+/06o/NsfqTG4cqj9DptHKQeOtPxpLHBwyBKs/PBMpAI/Xqz+36qPJ2NesP49QZoXotak/3+3pBGYOqj9ntyALfP6sP2WK2vvUQao/HE+1UC5/rD97DoA03T+qPz9y8MWcNaw/6DJjOrdXrj+b6DAQFdSsP95hfyYEAaw/R91xyxCBrD/PwE2gOLesP4C2F6yAOKs/dmAUbJySrD8hJ2ZxIx+pP1fOYJ3C/as/9J7Y9Zf1rT9NGJuMccSrP7XrVLgiy6s/JIxlOgk2rD+/VffpytysP6K83VDtDqw/9qMKr8X0rT8eL+lMZbirPzzsZQf426s/TVCs1ijvqz8zDPOfjJWrP1UYAIaQ36s/sMRGXyXbrD/mz9fUQKCsP28HT4iLJaw/0OFfG5+xqz+WduGdsVSsP2hpjJQRTaw/l7CzZ27xqz9Jf8RrVn6uPw77lWn4Ta0/HlIP/Vxlrj+fp6QyGHutPwLGAAiG2ao/iU1DpqG1rD8942ECtsOpP7NGM57frqs/C+8Sqqw9rT+Sb2NsnYysPzOcdjYt0as/N56lMYypqz/E5rLI0PCrP+Zjg8gw6as/qwkPhtKGqj9g5npFYNqrPyuJrGWvBa4/pZDsPW/wrj8QEbsMrtiuP4XpdtrG2Kw/J7shWwRvqz8SiZMTi6qsP4aHm2cIn6k/Zf6apmNHqz8IJQI8Q9GsPxu0gpayGq0/Txvw0Uaiqj/dgTDkPy6sP6L4mfoqpKs/SpT4EF65rT9PYQpAtxetP6dTsM0g960/W3M2X2PPqj94l/GVjAasPy4tyhwfm6w/IVjUMhGirT9dDa7FAxOtP8F2sGk1/aw/WU7awOTDrD+EWYFFDWSuP95fV2Haka0/FiBj8Oegqj/gAmVr0YGuP4UnHJiyxKs/2TTYCnakrT8h1o/F3XytP5iY7rfBPqw/w4Un2dAcrT+zB6IodfGrP2R1g2Ao7Ko/yiq46dX8qz95fpPsS0CtP3X08ky3Aqw/0LKEWP6urD8oDC3WwGWqP8Klk9Dacqw/O+pCm+g4qj/KjlkOX8GvP3jzv8PICKw/NtEeUbWYqj9XsQVtmg+tPzO2e5bQQ6w/Z4vlIjxYqz+q6nK1A7erP4r9QINEmqw/qtVkhgvEqj9iIgKcMgurP7C9EBjrWq0/uux25va+rD+0T2FC9vitPw3Eu+Ts7aw/S6KDe6QLrj8c2c27O+OrP0WbUR/n+as/68ZHkyz5qj8fEqXnj7CrPz/YJumecqo/CgcztmINqz/a17dw7UWsP70EAzL5hqw/ZfXT0s/TqT9edpQmeCGrP2lNPaajMKk/hJCUXWFKqj9cLkxpiByqP9VnFBSopKs/fmVQ/+4Jrj/PP1vcot6uP4l5MM+5ga0/w7500UVHrT/5nVcErheuP5NfKlfaaa4/ZM/L1UO3qj9/qTCBCVqtP4E+EK4ib6o/GIj83v8Qqj+Klgixn4SqP/8Vb5hkwqs/OaKSJyJarD/Dcsfg0ziqPwaK6QdQdK0/J4iRej9Uqz/4Pz8K6R+qP7cMqEjhgK4/x4IqxQQTqz9kwIO5sW2vP30P4KHPK60/zrk8PXUOrT+5+5MGtnarP3lHS7pzHKw/azmzsDICrz+UdtlGQTmsPwPtNJyeRKs/AUtQrwVLrj8FisJwXxipP1ynOGmVk6s/j9cc8wq9qz8dqASWmnOrP4F0gxmE6Kw/bI88vK1/qz/JqVRNjJCsPzYqMBnkT6s/bqWqme8DrD+PZB1nCV2rPzKfl+x7yqs/s6NpMuKOrD+2hKm31rytPwONoqv5Raw/tQaNPbiVrj/telurVRyrP0Rwf8M7gaw/YAR5Kfitrj9q/4DYmJmtP8Rzq4Cb6ao/h1lNn1k1rj+gznJYL9KsP7tmHqgZp6w/cBTAaY6vrT8YjAayy/+rP4J4BQdxhKk/Jayu3gDgrD80tcny22KrP1LHtvX9tqw/apGlocqxrT9RwEoUxCmsP4HTUZuwH60/7BNMuBrsrT+iQwuHRdysP5TATiq9w60/OU0hWA9frT/aBtkTYyyqPzrdzg3RDa0/I7agcr5frD9m3nhCEmuuPyfyzyGKtqw/Cz7ddK98qj9eEF70zc2uP5gnpqtL4aw/6I3EFc6vrD+JDe45pfStP66JEjTHP7A/pE2G3pquqz9fQIxeSmusPx2vd5T5maw/1Rfcu5utqj+e7iFsrUCqP+lVLuk8oKw/6KnO3aVqrT/7rWhkJiyrPyLRuJO9LK0/rG/QfYvnqj/2vyKa8gSsPxwHhfmyyKs/9ZFML5R2rT8Bu+qv3k6tP7Xmww0pxqs/FT8oPOxsqj/TfAHb7FutP4H/ulHTZ6s/LIryYDNdqj8pb9dlrIGsP8WHovMJoqw/fauwMtasqz9RoNFklKyrP4VOV1ChPK4/vcltQgx9rT8cvJXu/FOrP5xKeQfhras/1gpJL6d7qj9jKhKGSHypPwPkeAf1eag/MyYOBijjrT+H/dKvGRGsP9SptCvaoaw/ijCfkJo2rD+Pm97ZfGGvP9ctuaarEK4/Tn/EFnadrD9reOYlGQ2sPwiVbETALKw/HvVaSuo8rT9QLOJamsKtP2UN83i3Yq8/+N53/Nacqz8AuIVQ5+ytP4j64SyvzKs/oA48LvEXrT9w8OGses+rPwK+sx1BAqs/o90msxm5qz836R/looCpP0FN1dESqqs//d7hOW91qj+SIumkhVOsP7EkXiz2Kao/4i2an43RrD8/LE1EEnqtP1d8DvPIEqo/qIRhOj71rj9lf+qR4CCtP20AXxDL9qo/eCiulR23rD88qWJTWLarP06qKt+zNq0/V9zIXoJJrT+xwh24GDOrP0Yxh6U1x6o/4Bn/azrdqz/aLOU+VReuP7ccsz4n9Ks/pcqMDUMBqT9wBU+/s8iqPxAmpSSOaq0/HA5EZ/Lgqz8P62GMyKusP6HGP8kB66s/2UfTFYluqj+kug2hhWaqP3ZYzIfzpq4/IlGcZCRurT/rxxNoPoqsP1ys8G9SI6o/CfFEX62jrD9rDToFFmysP5ZSdewQ2q4/iRvR6XM3qj/61C9q+IqtPxxlgY9dLqw/LiY5vlTRqz956GeuStarPzt0oIBc+qs/QWAUzbWnrD/q7mIW09irP60Mi8CTrq0/4AU9RQuRqz8L5BZqA3KrPyXgn2JPL6s/4bR9mlWQqz9fiaOIdaupP6V95rG5I6s/OPyHNqPjqz9FDMyf5WSuPxw6ersfj6s/cPE1PNQbrD+Q13jcIbSsPw3UJZpt16c/rJX9FmXmrz9/J0n884+sP/sipKeRPqs/HTWsz3z8rT83+ENNntGsPyzb2s1ccao/60UOqBjUrT9o2a8qLq6rP1+LJpQjXas/Ppbjbu18rT9UQlpOkSeqP6a44k4tMas/e/Z2oC7wrT/p426BfYytP8gdXq3T/Ko/dxkENx5ErD9iJ2mgaeesP0JCztGj/a0/Qa2fjkTyrT8ksWwFaFGrP5Dqc3BRMK0/eNiY8198qj+ogwhGcuOtPyz8B0d0T64/udUhJs/2qz8/FeGFumKqP9cdpn28da4/+zXM3p+WrT9HW1SgupOsP04+dRKb0as/qm7bUP7Xqz/yxbH+Xj+sPyfmR/xEQq8/c4Aum6DJrz8exXMh2r2sP+GkAl1ubq0/NGtk+h9LrT91xZSvhEurPz9mZR59TKw/fxWkMzu/qj9YxYxrdlysP4SOL2zePqo/CVcJuDYsrD8FpUXYZSisP1nZAze6Rq8/oi8eKy+Bqj+5AytBbh2vP3pHuRGR6as/Zg3H0/VBqz8yd7koGnKtP9gc+y/ZVq0/poU0wsTWqz/ZaKl3kDisP6ZEOcPleas/vFmNVAwtrD+UyG+lrjKtP0TkSJUJc6o/mPSx3V8vrD9lyL9D+BuuPyGoD8HWFak/Kr6S3epnrT8L7+wtZASuP7FvsbE0k60/Ha/eCt3uqj/pkHNka7uuP2EHJmfhX6w/GoyEbyS7qz95u4v3ed2rP0UKDr7OpK8/Uqm7kwEerj9Kxaq8W4yrP8XKBXaemas/BJ4ZsfbZqj8zjoAnWbarP8yUyOsHd6s/qvj+Qp+trD/nY4rg5x+sP3jTPM0pCq0/c/pazyqqqz9c+Elk8pusP/OKrQmM6Kw/FDTfcqoUrT9GBKXVhPerP/I6z6Dh3a0/zfMuklMkrD/oGcydqzurP7uu65NbM6s/64MTkF/Fqj8dqLNwWRutP4btl7Nw9K0/E3KlDT3fqz/UQvdlQ+utP/LJvsg6Mq4/atwSKHAfqz8LeLqy3lysP194rMkzX6s/o/XCqB5Kqz/yV0XS/DGsP/hbaYqn6a0/e4qUO9C3rD9HP15CS3OsP6i1p7eBxKs/1DZm3oyxqz/PdMATOkOsP0vt6MQJ2K0/bX1/NcJmrT/n1d9wzDWrP0JGbfAFMa0/Ese30zjyqz8DRVXU7NitP+FwMYlCja0/IxtuqUp9qj8Q1xq8TRisPyU/KUFXI60/dMDFumgSrD+B8cuQi/OvP2CXVzatgqs/mISHzyDwrD8VjP6LAQusP2bKGfmVX6w/60lQPDdVrD+rQzBX+7urP2k/TuXBi60/w0VDEi5yrD/Nvc/CB3WuP4ghlCHkza0/uuSqUy9rqz/EGcTADaesPyBkqSv/hag/KwA02u//rD9xRcuUEzurPx5FR37RIKg/Dv3C2NyFrj+4g4wnyOasP5TBH9IAdqo/sOubVAVMrj9G90EcX6SsPwVGQlNXx60/Z37WxhHvrT/qhedcdnCsP2oTJ7UTUKw/TbBv1VNLrD+T2IEzoqSrP22RuACkA64/EJ/ScyYvrT/9DIpuliKsPw25lLt9wKw/BLS76nbjrD+FnNioQZysPys46edVKqw/duC2BC6Pqj8rNNcb6eerP6Imi3IaNas/1N/QVvdCrD+ZChzRpZatP26ci3kweqw/wy5G2mPpqz/F4nYreMSsP2TTi5L4F60/cejAGNhrrT9GXr6Xoj6rP4nAjzO8Pa4/1bGBIycjrz8REPs0YW2sP68DOKJf26w/cPPicNTAqj/HKTytDmquPymsVY0SSKw/h3gUsr9cqj+zNi3uXcGrP64qD2IfPaw/QQauEFisrD8tMke7TnSsP8sFSGNVsa0/+x4fWbvEqj8cZWtFPd2uP6Ai0s/fxK0/fbnBF04NrD+wjzDZqD2uP/4qctZU26w/90CooIVYrD83Bb70/RSsPxTxNkV70ao/IMR3zNxirj8uirwkyYWtP3m75EwK+q0/Y9M9IMNLrT/lRWFCDwSrPxBm1FCOuqo/3Aew8hczqT9Oroz8ZfGsP3QloxvJEK4/OmrCrcJ+rT+vd5WhwsCqP/lyStE1zas/WKC0+HTKqz8ecuFLKL6sP35t8sj2zao/s5XhKyWBrD8W6i2aSyWtP4Bf41ZCXKs/nAc6FJ2TrD93l7u3JCqvPx9RuOfsJ6w/ao+66f2VqT95kOanAIirP1Tp+YSGSK4/gvpPK5pzqz++wBgeatWvP13u7V02V60/5UIx/eHLqz9oiG67akauP7NE+zkt164/Uis2icTmrD9wl5Aa2iqtP6eV+YGTTK4/XRuzXHX0qj+sLb3zywKrP6LzDFyDSq4/awQXGmgDrj+0wk9e40StP+5PVDu4b6s/NxJoUWKGqz/pR/SV87KtPzOoqJM8tKw/oXutJbXcrD/sNYBWEmerP1k80EBJ/Ko/OpOkkMAiqj80PS+s7lutPwiMevzOSqw/2/IB2Q7/rT8xBbxujMSsP+shKG2KYao/3rcD4DHYrj/VYKU9FGmsP4fKe6MLHao/qYHlxEvkqT/EQWscspqvP1QjSu+8lqo/PL/DpuaHrT8EivqF7AerP4mMntvLgKo/gLyYX4/erD8dvbzou7epPyspQX5Rsao/pCcy2eWZrD9NQjVaBkqtPytMg4MS8qk/Vd+vIfXzqz+peg82XVqsP+8lp79ovKs/8Ya/QJH3qj/bCLQwtrOsP78rF06IB7A/AfRasRMXqj/HSdoiWoepPypSS/TEdqs/Hf6QfYQnqz8kcw9yJwOtP6Qa4+y9cKs/1R4JgCbirT99Lh39NtSsP8lZPZ1KTqs/kiuoBg/vqj9RHIFR38KsP4v3lwQ/Pqs/fGAb5N5wrT93UWQRznOuPyte/YrGaaw/fJ+IJ98IrD8fnT3olPerP/GnnZrKBa0/qrYtV8A3rj+JYEg7+vWtP4EbFG8ImKs/XXQFqjA9qj9gZbjZLcWqP93lux7HNq4/TDsHei1zrD+paHm9s4ytPymkxn94/6s/pcRe3marqz8lQIDgvNGqP3yvmIh+vaw/M0b/OphOrD/01bUjB96pPw/fAR8sP6k/reGUAd6krT8ZnMMnss6tP8AT1YzoeK0/5cbC06Znqj+T+SaD4JasP46q3J9Oxqo/hSSUIvEnqz9LjQ+AxBqqPxhHvxHMu6w/u3IW57Mlrj969uvImpWrPxQGR/epdqw/FqNtLMqZrD9cyxaWxrqqPz6g0dmzxaw/A2blMYA2qz/k9Md0BnWuP4oHyQ/Aea0/t8nKqWe0rT9MPhDQ0eKrP9KABCck36o/ncuDKqHkqj9h3arXVkyrP6WFpRCJ8Ko/zKXe2zsMqz8I59b+loSqP5tHWm4g5as/twojLeIzrD+JtGV6GPisP0gId3Llw64/aTZdYrzEqz9oAWHQqQ6rP+K1QzzEca4/7OI8lJ7vrD8Fxdqqp+2rP8nIEU71L60/Dgb3LYcpqT/5XX3Dh9GrP23R84lEca0/Y0aqHbM2qj87plXGGYypPxLzdZkjiKs/wRAT4nGyqj8ZlX4gJq6qP3YbB6jAxK0/0bJckUmVqz8KKdowAJ6qPwUh58zWLa0/5+iE17nlqz8xMdFAGhWtP8FpGwxlOqw/WSAX6xkhrD/U+WyQ9detPweV/kDxqas/FISlVzDIqz+naan8DhOrP3kqFW0fB68/U9HdTEmIrD9VdYNY3naqP8SWoFUTnKw/I9/iB6mbrD8vaKgtu92sP4tOecmIMqo/v+tA77XCrT/bH0vsVsarP68kfuPnkq8/2PIIwFqpqz+6lwnwr82rPzSW3xLnZq4/oo7cKVClqz8EI/jDUrWrP21nEzjpgqo/azCRkMSTqT/bKJirr2qpP7/320y0NK8/ehDjilrtrD/SVZv/q9apP0Xoj9EacKo/+vcRkP8ArD/p9FwmVh+rPylj3MpZUa8/2bv3sr3RrT+M/JNA2jCrP59I7Aag2aw/DPzWrExerD9AcVNiCjKqP8h8zQKR56s/CkDOpt2pqz9vTpL5XhKqPzwWGwqu4Ks/iLtZKoqsqz+fixrOZKmtP4aAME/4qK4/AIu8PkTuqz+iABakjCqtP1omqtRBY6s/2hNc1Gnfqz8pooftpJarP2kDBRS0W60/X7nL5GHCqj8c2/YLyESrPzypj5KhYa0/dhnId9LerD+kXp8xpzSsP8lE41+J96w/3xu9y3jXqz/DYfEyOw2rPzMa7ouHAK4/8R6lW2dtqz+QlOXw98SqP6NQ48qOha8/Gkp1eTmLrT9FDO7LBOysP4Vco6qat6s/V2icpGF6rD+/ZJ5Hg16tPw/DJ86F76o/Gk+w6Z/9rT/FQTsD4HWvP0MCRY8E4as/Lw2gbiUGqz+ihV8ib0qrP88KXJ2hZKs/w06IywAKqj+rDFGqMiqqP3MeeonR064/sSpzZ8EvrT/D6ZiCyueqPyM/NoULaa0/5p8bfFnUqj+7Cf3qE1GqP5/UhF80bq0/kMsccH7pqj8PiQX67XqsPyuYaR1eba0/399ppoW9rD+WarmUGMarP9bAy3SQha4/gOWStxtEqz+FloJxR1mtP0zr6EBQn6w/83dk/Kc3qz+HDbFvJdysPygSCP/w+Ks/KfBSRJ/8qj9HYYqunbKsP5yZcnHVIqw/jOh3wW/NrT+wbg495DSrP8FHiMYACa0/pFFZa4MJrT84reP3hoisP18Yzz0L7qw/r7BAjp0Qqj/WpNp/lYysP72R/2LXSqs/UCEvxsTwrT+TEbZABgCsP5+YTpy7Oq8/wQR61JUzqj/agseC/BytPzdcymb99qs/+1mjhJSFrj9rQEw4DGWrP2APWLY3uqs/voiRmjF9rD8Ruxge/4OuPyGFIRnFMqs/nw7L3x7Zqz/Zuz7vifOpPw6EXpGDXKs/Tq0S3TTzpz+Iv/aGbH+sP+ee+JwLxqw/mUS3kqgNrD+sEo9hpwSsP0+7VjOOkqs/6mhbmOaTqz9Aw9vzgiysP+RSO4vJyKo/myZiqVvcrD+VUCSxyWCsP+kXi5KaAqo/R1EQzDvgrD+l+CV3zNiuP7ruvobOGKw/Hh/Wy+Aaqz+LMWJs0OCpP4pAwDstFKs/pq4fodUuqz8hBQc7TNerP9ChbsB0Qqk/DW1QSjTbrT9vu0XlaamtP3OAYfK2gK0/TjUjylnErD95trmj3aatP5BUP9ZWMa4/3JrMiUV/qz8BsyfYjNivPyiSOTono6o/c8tyIN5PrD8QdiSzCFusPyZ5v0aO+a4/A8kNzPRhrD99J5TUyCSsPyneVoT8c6k/RMyOkbbBrD9JeMlQS12pPxhlkGZhOa0/gbKlOb62qj/OJOuCXGGsP4kGKlfy7qs/Qu7EkD8drz/AOyxr70OwP7quMCx0Vaw/3P5CftK9rj/nS4bnCKetP3+eAt8noKw/rK+s4noPrz9U1XQs0emvPx/Apx2iCKs/q/zKbIbqrT/I6BmVc4WrP1uES4s6A6w/dKdCqaqQrT/MwmCPNJSsP4okGicy7Ks/sQsipBB/qz9I0aNCV92sPzWmZYnlT60/CztzEpkVrT8JrqrCKpisP6vsgKX8Wq4/W7Bo3ienrT9TffaPxgaqP7ahZ/BoCqs/Ur8Gy8EOrD+EA0DBaLuqP6DP4qYGkKo/iz01QRKcqz/HtYaoAV2rP5qmbSfCwKo/CUQ67BpOqz9MOksrZPqqP+rhEiZ4QK0/WGAijT/5qj/F7Oq9s6OqPyxelKT83ao/EeJlNa4LrT8U71hBaEGuP55GzdsRFqw/UJQo6epaqz8BGY76cGmrP0CWfqveS60/fsEtcOseqz8Y0It1NmeuP9absFC8260/hj9PlO9nrD+7bpgKR2SqP+OJRNxduaw/PvvJYFAVrT+mkq0UPgusP68dRwkF/as/oD0P/gw+rT8r6QvZAg6rP8F0lzwOSaw/P+BhQD3Eqz+8MIxtyB2pP1CFwsVU6qs/v3IiakOerj/SUVqaRFasP9ZoNPasE6w/kbe5oj5nqj/rqysH3N2qP4h7ufkj36g/UWJoXfMtqj/BA51K+2OrPwfCDBb7zqs/fg+APCs1rT8B+FuQb72sP6Y2eERcGqw/S/B2aXT1qT9oCJPepn+tP72L+WLfi6o/ypGUKwnJqz/r6TM3OpqrP3NILOk2wKs/JWo+xr6ArT++aFjGOKCtP0GbXw8Uda4/xGgwnDkrrD9coomLu4mtPz1XivH/was/kUDkA9Rqrj8Njl3498qqP8EaOFl1wqo/uH/Mm2v2rT/rz1rplNWrPzDi4VTNv6s/qRzwehGOrD9KCXo4RuGsP5cQvqnB3Ks//SMg85BkrD8oi/CRN1qqP1JWbhxoMaw/xZsp9hFzqj9eKYTR0zKuP4l8rCdeeqw/V9p9UUHprD+yTgaMtt+qPylrKX89qKk/+5SfEwzVrD8RXMGa9hKsP2xrujV0f64/dyzYLDn3rD9t8w7YqpCrPzLZUzyHuag/N6t4gLZzrj84hPRp1HSsPzoNUntnHa0/gcMcF8PZqT/cZAnx1Z2rP8P1x7z7Oqw/sgBgh1mcrj/pdI3fuS+rP5jv0ecnra4/RA2fWQs3rj9/UvNDjk+rP2pxFG3OA6w/zBbc5LmeqT+3+DJcQf2rPwgxhqny4K0/TMuTtGAKqj/n+tQPtJSrP+S137aOJKo/gwXCEjk0rD+PJJOE8K+sP3lCNX2xH6w/3GPuuPU4rD8sOHrlFw6tPxo7FegmJqw/CurTrfHsrD8ke004c7+uP0cmSLW/eqs/c/q+vkHxrD8YDQlKBTmsP+rk3uZN5as/bqIQnwvYrD9Cv6JZ5XKsP/4qVXLZdaw/eOfeVo3xrD/Wfoot/eqrP0vO1IgK6qw/Sicf0/Fuqj+hDKX2xt+rP3yU2rmWaK0/fhMWus4vrD+YDFaA9AesP/5e5IGNNaw/fScIa7LLqT8lS5+qZqGtP1K3h7QBQas/szTi3eiLqz/upp+1FI2sP0NgRurqHqw/uVqNHGmxqj+iqWGCiDisPwFBuqZAg60/zHHSYPP4qz/mV47lM3utP/zzelGEx6w/AHDZO3Mdrj8i5HUticCsP4ZTk3vKTqs/5Os978Ifqz/3CaIpdoCqP6ln7X4kJqo/0UMNUzourT99eMuSLqmrPzBHdvJJMKo/Xynx3VTjqz9vB+glVFarP0BHcR7t1a4/dRiAuYT0qj/gXpjifOGrP/dO4OVVU64/auaLrf7hrT8JjowtrwyrP4Mo1viJQa4/WCb+Y1A4rT+OeuTHbzCsP8oJiIIHRqw/ymbDE6dhqj8b4pJcTTStPwVuHWBl/qw/uIEBdIh0qz9GjxlxgpqqP8NeQ+40Pqs/eCj6+Ht6rj/+S6pogHSpP5ZxtANLmqs/w9pIQOHKrT/oMp6IxYOsPxXLKDxgR6s/Bx/izgTaqz8M51DxC+urP0855qzsKa4/OBy3aJe7rT+DSIpGviWsPxxdngmbWK8/+SHvuYoBqz/3L3cP8dqrP4d/Tdvccq4/ZyKNVIY/qz+c+ONDBimpP2Cs5IScK60/lbPBoYHwqz95gfouEl6uP/3enlKHYq0/ttz3JWmErj+S+0A+9OutP05mJxvuCKw/JxGWsEdCrD+lMza5VCKtP96EaduqZa0/OHARN+ljqT+lRplVwwirP0ixQRTlo6k/AtFvZwREqD+K4Qz9PDWrP7Mdqn4DOaw/mqn7OIcXrj/UIhq8qiCsP7JT+Q4v1Ks/769b7OXbqz/SjBvRs2KsP/vVAFyuPaw/mmwfoA4Hqj+TGxmWr4StP/YlwpnOEqo/umb2CK5GrT/147AnvoiqP4AxCdv+sK0/1oomr5c0rD/0/z5WnfqqP2YqQj27Jqw/LYItOrOzqj/n3frsBvuqP5t6UnIxB64/gtI7n8Huqz9L1z/vqnusP4VHOeVex60/+6GyYCsurT9LRGKFqoerPx0RpN3r06s/C1vXq2Ekqz87X8YQuqapP7/A7gds06s/DD6KpKsSrD8oIuBO42irP07u8kIKFqw/eK9Pp5nqqj/vNwG0ooOsP90ssRzNiKs/BRGnFI22rT+5ZA343EWrP/LGdTczba0/PVmPOfj6qz+Z0vO8iQ2uP3w0QC39paw/rSy5i07fqj8u0tBjb8WsP2yX6rg6Uak/6G+qS3Warj9blrmZ72WuP8s8dFr5Pqw/GKbP0c1trT9J3I5P/HiqP2pRipDXa6s/1lNNqjdQrT8vc7x+d9OtP0j1ld+ezqw/svw77js2rD8dU/870vusP9SRBpC2b6w/bZN/RbpJrD82frjlPe2rPwhKO4/XVqs/3lEanLGJrD/afAzXzOOrPwm02ElUuq0/pDp9tmXUrT8HjxAILtKsP/hmZWcEcKs/7VxFuuGSrD8m4Tji3AWrPzctZAVkJq4//VoXNOzjqD+KPke6ZZSqP8FCXOlX1a0//Br7i+d3rD9iAXIPGqSrP8woMnryuas/o6m10QmbrT+mNBss9rqrPwUxkj7GD60/SW+isxDrrD86usyMllqtPxQ/ZnVwQas/uJUWH7SLqz9KhZwSQa6qP/wVdChGj6w/BC+KfDT9qz/GeJoBkFCrP0sO34EPCKw/JvY8CCkcrT/e7rKdHxCsP3Qlzs9rUqw/7XGaWaqoqT87xZnQpWarP6bhN1lS7as/Hy/rTlcrrD+bmdu3f9qsP4htFsRJM6o/CK4bXzIcqj88X7PENEysP9P+rU6l2Ks/7moP5tczrD8qAUDR3RCrP2JUkok+Vaw/iMYeVDMUrz+klbJgK6GsP+BX8iMeb6w/vv3hIOVdqj8UYgXrIPCtP+Lheuv11qw/Twn24MG+rT/F/VLh7RStP27vm9vKkaw/8UauD2+SrT+izffNyJ6pP7BWmT2rt6s/g7VH/OtSrT8d+tQtMrusP8iyU0Wnpqs/cMc6ZfVwqz/RzAHmTWWqPxWVpdxu06s/MExyHsc6rT+ykqzRwlWuP8qsg5fwh6w/cLsPRUDtqD8eS0IuHpirP8DzNjQzWa4/K0SbXi1jrT9Pt2JDx+OqPxuht6f5Bqw/EXJJT7zQqT8VMkrY9ZyqP1jeTkwirKs/+sk5AjOrqz/CDWW/daavP3NG1EA6Sq0/VFHx1uKfrj9Jj+7lqS6sP8BJ19QMSqw/7EaxTAf5rz8NiZjFA7+sPwZRBiIjI6k/sKKP6QvNqz86eAG68T+rP3MoPtp9zKg/TAvl4O/Pqz+iFH6VJ2asP87GdFMfoqs/orp6K0U9rD/jEIug3sCtP2HfxUO/ZKs/xzp1qy/Uqz9va/fAYCytPwGeFDTc0Kk/NRuywvMbrT8GRulWyt2sPxWIviwBmas/6pvKC4W1rD+L6vOYGrmqPwBQR/R6wK0/3SMPxfNIrT/K2OwA1X+rP3bjrxLTZq0/KPXxbMGjqT+ClRwbYqOrP9sjdup9lq4/HGaHhE7qqj817lkzobqrP619JOgd26s/nhCeLjpErT8gluAmItOrP7iZJp2Rjqw/u0o/evbZqj/56vmuNMSsPw6jU+FmhKw/UgxeXzv9qz+DNFWzk6esP6VZrDyjsqs/mMyMeAf5qz/0fPXTzYGtP9WcDgHYaa0/TnnD5ZIzrD+eG3arpiusP/5g8o3mw6w/btIeoGthrT/f55He5KuqP/YnsTFP2qs/LCCe4RvgrT88G8QhHdqsP57ZzcpgJ6s/C7Jk6SSKrT9bLucSelutPzqcQ5i3eqs//gxnTKi7qT/GBV0t6BGsP6ml/KDnXqw/NddX1Wweqz+CSb3g5WCtP4ihW4UPp6o/vFZ8rc+Kqz8aG8hydOaqP+YJ57EYOKs/kMqWltGCrT9ryug/Hw+qPwNbUH9Pu6w/vs4JZY9mqz9+8wx96QCtP7n+3TNW36s/WMetytZFrT/pgKFUONOtP6hXpFj/Law/b8rnOjTxrD/67lmtgV6tP9Y1+xJBqqo/BEQhcwJ8rT9CZPKAh52uPxweg2D9r6o/kOP3kjKdrT9dEu+jGESsPxh+f9prdqs/vTbPC5xYqz/WZwDP2DGtP6NYAHnnFqs/ZvK8utXbrD+Vn8EF8AOuPx5LOaPSa6w/GMA5IzfIrT+UvcoF45asPzbbFUXapKo/zKtntFmMqz9QOG+3l1+qP7ys2ylQNKk/ZsmxY2Ujqz+2H/6I1GSqP/MUQkuAM68/FImahRaOrD+FdmUqypWrP8r8H8sV16o/V7sMe/CkrD9I8tPFECavP+WKu8ATnKs/7rstYNPtrD+HWtjVeeesPzL4JrlF0ao/g032nidprj99i9uqwh2rPwVBI25iJ6k/kwxR1o+xqj8V+o8IeqWqP4LrXG1sN6s/ar2cQFHOrT9GpzIEOnKqPwUeg9vtSq8/DhnuFuyHrj8l9Tj81g2uPzdw9uYTIa0//aE7kUJrrT8Aa0pgGdStP5wqtwySD6o/jOnEh+/IrD9pLBzTJiKsP7uJV1ZLzqs/ykTdriAzrD83OeBKMNuuP/m2tU6RLao/gxWNYhD8rj8uT/7h0h2tP5r5MZEeK6w/0muIksD9qD87yXJhOQirP/W7iohnX60/4NxstruIrT+Eh7WGnFSsP/c65xdC6q0/j8Xdu6N3qz/DugmilqytP9vkOe1OeKs/zVlG01yNrD/t9uRY69qrP1J0Qy/SWKs//m7zMOVurj+6Gxl3a/ipP/TY3F3Cs64/UF/KvXyYqz/2zzYV4aasPzf5B8SVFqs//vntSkperD/QKtPL7jWpP5C0qxppE6w/zp1uvLdqrD/U/1lxAeerPx+tMxSAVKw/+Rm4C3A6qz83l2tKbx6sP7S3Btmz9K0/xnqSuEZDrD9f/7QvAKipP50h/xcwM6o/iM5n7qrhrD8DFauK9kOtP4WE4M1Gbao/LRj+8JWnrD+ENU8kXdurP0lLBIbCxKw/+GHkDseAqz9f9CBzUk2pP5nGpj5QR6w/UqwIm2qbrT+5Ee5VgqetP8NSEldEn6w/JjgCpsZarz8aLIMX0rarP+LbkntiLKo/0H7Gn4BVqz8UwHZN3bKrP4ch7yHn4q0/woxciK9MrD8iBO5d+lqsP4Yi9dZqxaw/zIiWaeTurD+0sakGUeWsPyp96YO2fKw/FW5yNrfCrT9d4w1ZfMqpP59XaN4LTKw/w6VppK+ErT8y5AgI2PSrP6f/PhJhoao/QHAjWTwnrT/noAuq8+urP2yHk+dsqq0/ixu0tmd7rD8uymDjRj6sP1Pzwu5WYKs/1VWcZBzQqT+c4fYLhXarPwmVA9OjRKo/OrXKM7DXrD9Eqyyvf+2sP5p+rPlQbas/XxJn0oc/rT/hpILHEh+tPyPV7MeXpa0/e8C4dzKzqz/gMMKM5wOtP+7GuVYwiao/5HX3AZK+qj80UWwrUnipP70mADJZ36w/9dN+zWCbqz8K+P5xoSusP6H5xGe5rKw/54vyiNQZrD/02+3nD8itP2qAH+kQC6w/ULzWdcKCqj/OJv73MZSrP0z4A5Tjm6o/U/CZxJEWrD98bQUmy86pP/KkOgeg+6w/VjWUuXSPqj+Rwxc3t5WpP5T4Q7qKP60/6yJDrgx3rj//wYUDPBKuP9NLtFm+oao/9Sb/rUMbqz/JtuueJZGuP0eY6aA6Iq0/T52HUkuTrD+t/yq9baSrP2esq1AqTas/amZm8FQ3rD9R7Gsr9QWsP6jnJl2APKw/CJqTxJ5Urj/fid4JxOysP+YcPpMU3Ko/gMCoijXyrj9cSQ5B7MSsP/ujK1lNLaw/DH/rOqeaqj8thHNz8uarPyDI6p8bRqo/H56H8xBUqT+PbuvzUrmrP9rnoE/aL64/OeZQovVKrT/TVKmahCqtPzK0oQ2b/Kw/iWlQRtvOqj9q90LozdqrP3VXoPVyO60/bkM5yAH0qj8c4cLO9c6sPzG1bE0Dtq4/iWnj/MCnrD8lqNHurXWsP0vKDiWu2Ko/TZAgL3vOrT9TnRrbfSysPy4S1M2UbKo/COL1nPJXqz9iEjQvFTCsP24uqqP5oak/dW4hpyrGrD/oIG+AhwKrPx/S1BfSmqs/GtFgJDBfqz+7d8p24fyrP8k2HNO82Ks/2vjiEmIhrT+RhRt1OPqtP71f8zJDQq0/LkF3UTpWrD8SRFlKCSmsP8iPom9i0as/sTAjsaO+rT+O9O5SALmpPwxXFD4WMK0/WsjM/klSrj8xzQ8g1sKtP+3q3GdzI6o/TlSVWRQVrT/fxj41NRCtP/OsrOBcAaw/mOTLFtQYrT9Vhu2vrY2rPwqCir1TsKo/XiSHK7gbrD9lsDBTdrStPw6oxvcXQao/yZ4jFPa2qz9kE9rUdvutP1TT0H6ybK0/Ox9UErh1rD9zsw9q+UCuP10LrM2bkq0/lgoE7DNJrj/DIfYXToitP3AESWhdNKo/WDX0EkyHrz8ZBBZAuvGsP49NEOTQX6s/CjdSthY3rj9iMaL2M6atP9tMNxre/qs/u4Y8fIfAqz9MUuP1eziuP1bTd8y5kK0/VyD0KsXrqz8p1Srf7yCsP3X0bNwEfao/CVBrnlRyrj9YeMZZbumuP+nq+TSm/K4/KpBL4UvyrT8gOrmslPCpP5ytWFq1g6s/L2W9u2fgqz958UOK49qrPxqFdVrlc6k/QNhH+RrdrT+OwrAHGuarPzzGoVkz0K0/qWTuAFAaqz/9fmcoKMerP0y82Hhn5K0/ksVyFG40rT9oHCVEri6uPxLYyXnmzqw/xIroJC2Iqj80ZdCiipWtP1WjmbuUsq0/cGomP/jWrD/W8TuJzRKvPxsIXMqWhao/6RtLeI6/rD/8FxThS7KsP2c9M8rfOqs/RRACirlVqT8MixorHh6sP/wDKU+zDqs/o57MQPTHrj/G4Y749kmqP9F277f/36k/fS7nAC+vqz+6cJMud3qvP/324DdhMKw/7oLxJzjWqj+SVy/fnb6sPynhIVutuq0/i5SaKipiqj/S0aAkY8KrP4KavEpiLKw/ElUJRNearD9pBM1xiEytPydxdnlgmqs/owz3mfrsrD8wpN6g0CSqP+HIEEjhXqw/Zk7I0eX7rT9UrsqmYmKtP3nO+hUOX6w/lXLzoxNXrT/Tv+S/jQOsPyu+6e8tKaw/0dBOs5Lvqz+2BaJChsSsP3rpxSKeQKw/ytYjVYQ1qz+63JUYyaWrPwUXX94r4ak/igt4I51jqz8ogPEpslWuP+RDYsHjAq8/KRPghhHSrT+I49HD+lWvP4g/5niG2a0/f8MGLQMQrD85xrsOkTCuPzd1z2vkfKs/PdhAIe3cqz/MKNAea1OsPzuuvO1zKKw/2ZGqjrNwrT9veo3nhairPzkBS6+pBa4/ogHqKAP8qj96sxvD+8muP7afqdCoyas/lp9xud62qz8GYNKFOxKsP6MY9A20XKk/5WrZiaUarD/iNXyS3ymsP6QdqyyUSK4/eGukeQGerj+FxMc7TZmqP5On7vx2RKw/nD+Bp9ZCrT87aFQtFkasP1/imv83RKw/s8ESA4QMrD/EWuALZu+tP32fe5gVk6o/Z7VIpaA8rD/VbneEaQWsPwuiF20muqo/vthNN0sMqz/2NyxoG5KuPzTDB9Z4ja0/kzFROCEXrT9B/CjcZe+tP1w0IDoGIqo/YiLy1LFgrD8w77cYpFWrPwRC5N02Tqo/iVqmvHxCqz8Wvcu1N7ysP2tqMX/R760/FotLuJG6rj+ZOmBOCempPxmWi2lv/aw/0RsJuRL1qz+DZ2sqPTesP6vZa9gmF60/UB5+0IDoqT+oWv9upPCsPxZP2rc7rKs/0wTEzevVqj9TdJwAOq6sP32GS1njpqs/zqMTb02fqz/F7vIM08qrP05DYhiVuqw/+iVNWX+wqz8qzLD8pOarP3UoqTOV5qo/Yriufyn4rT9gyIdi4lqrP6RZEVBPMqk/DMAFCJmvqz94gmGD9Q6sP5q4fUxEL60/kml/1pSyqz8LHOD2G2WtPy+MDp4FV6w/vbCDpUfpqz+OrH6R9Q+sP9/cMCU+wKo/113DtwKdqT9Nh/uKoOmrP4R7PEMSuKs/Y99OlkWurD/N8HuyxF2sP9+C8prMVqw/zDeheP46qz+GexYZUvSsP4uaZVDc4aw/Th3g2WOFqz/mk54huBSsP7fhKDcNc64/WdaxvFHgrD9xNgrHArKuP/9TaCOsCKw/1DM2nxm8qz/CChnqSMuqP18lfBu3xas/skv49NtwrD+Xpwmrd+asP51SzjRud60/FZURtoJsqj+LHJ5HJeWrP7FgAfwVWKo/OTVqYG36qj/3QmzDoD2tP2OWDOVT3Kw/UYXYRCkYqj+qQ+WnJqmuP0dDTFi1aak/1MMOKQ8mqz9nnwmrR3eqP+WaocOxK6w/YbVhuZXTqT+e7oL8AxSuP4XoLIH3z6s/Lgpgi0Tgqz+8/AZ5xiOtP6N7easOzao/BznOX5nLrT+TlfEM40CsP0l5FW8Dfqw/tCfJJLQarD8NilMOGJyrP7QnEIjnRK4/03LREufGrT+wrf7H+bStP3/BjOg+U68/ELzOgQJ7rD8b62JJvHSsP/4h5r/zb6o/mIxMOJX8qz9B2+V0/uSrP0qn9iKDaas/m5xuFBkCrT+FlnYA6nOsP+moiau6qq0/QgGqTj5rqj/1ORyTnyutP7/hWl1ujK4/N738SMphrD/5wHVpQPGpP7OHomcuA6o/igvOtP94qD9wGFA58I6tP94nLHsInqs/lrWeYau3qT88s5cA1EasPwENCCmUA64/7178BXM0rj9ChtuaRwmtPzBP4NHktao/ojoUf2YCrT++FDKkSUCsPyA+HrMZOKs/PymdN1MPrT8Gv7Od362qP53r0VDZBK0/7Ydok2pBrT8U6/iXfbSqPzxo93kDz6w/YcVFtbJRrT8bekxAC5asP8tnfsFIKao/Ieq92MqxrT9HGo4H9KmtP6oXYGFxDqw/6hiTpEKGqz96YP7+8pCrP6jdId7Ehaw/4rci6cAwrT+LCP6bTuSrP4zVeoGP9Kk/vkc4cDROrD8GLodi1musP/PBpsG2paw/P2pZuZlLqj/0q0nP9LetP45HEWEznKs/DpUaxOeRrD+f48cd7J2tP26eo1GTCKw/GuFt5rKnrz/eE2Zr0gqsPxLJyTQ7Mqw/1xbS8d48qz9auBiojUutPyYxZCLhU64/wvG+SVoZrT80GW+5zJ2uP0P3H3XTkao/ixoMDhKXqz97KKu4SJ2vP2sibPCQsao/+YXGc5o3rj8/BwhAFLWrP9+m2JJ31K0/IKCPw5n4qj/kGO7Trc6rPwCwLlAbR6w/A1PR4BaBqz+8Vo2uV7KpP06lmTG+0Ko/zlwIJizSqj/hns0jDCmrP5aKs11Pyqw/nzPdtyqdrT8Zd/89xsSsP2qDLScJbqo/hgqWVX5/rj+T6+XtGcCrPyIx+tfdyao/ZEnbGKSrqT9WN19HctKsP934x/iQ/Kw/QHx8Uu7Nqz+U3/YWANqrPx7KmnLY7as/mGcd4F30rT9BTnnc0KKuP83xN9Kavaw/qo/Neji8qz9mam5QliGsP2b9QmqvPq0/lt0B6Qb4qj/7xjT/d3CuP/lz35U3Fqw/piQ+GPWirD/rIh13V/2sP1iMdxziOKw/y9KX8xoOrT+DVO0+z8qtP27dMINpkKo/lU7OX3p3qz9utCswOdOsP2FWWY1Lqao/xJei2GwRrz9KcQiAd2CrP+WXIpDGxqw/okxwM0FIrD9TU6IqcCmsPw9peHHQ/Kw/zz+jUO/lrj8AIPF/q+KsPyzSmxiUoKo/wbvqZw3Qqj/7qgzx2AusP6rO5Xh6Wa8/dckGkkaDrT+qTuQibvKtP2AEZ3GbmK4/acMerNKErD8Tj9luzOutP/Z4ihPocao//EeBYqC6rT8K8m3T+RauP6GflfYQ5qs/0Dkz2pYhqj9V510HcRauP/qCPY5yP6w/YYfY/i6hqz/HUGlOZSiqPxs7HKWpZa0/D5hg3CSaqz+8Ksc+R/GuP4QEChcBpaw/BS1JEj+ErD8KD8mV+2qsP32IJqXCaqw/MiZ9rDdArT8SkTQgSJasP8FrwwSwQq4/OH8/GSFBrT8uuQwcbXasP7c/Hycvx6w/Ua/utx/Lqj9TySUmwuSrP7IHMza/7Ko/zWyOl3nJrj8vbYeL74itP+NuwgXuF6o/QRDBZDJ7qj+XRvi42SKtPzSB8lZhOaw/7v5ZYL5pqz8X2Cw+0lyqP3/qBfGzjqw/T9Fj9BoXrj+ENkkrS+6rP9IJvJcgh6s/gDP9t1ZsrD/OIcaxoLyrP3oqKb2BFao/+J1V0A+ArD90LL6RONGsP4zTnKOycqw/y0RVeT+SrD9cCJDwsNurP8yYUGK6R6s/nfW4QXHVrz8cHNAeXEWvP7DK+0JERaw/1XrENp+1qz8VIPepOxGqP8rfce2Du6s/IP7VopAbrD9HUhGwnP2rPxx78mfjKao/HqstWUyJrD8feQ1GxmqsP9eytHe3C64/aaSXXV6Kqz90ES5ElD2qP4uRc2ho+Kk/LzQyk00jqz9Sapl96cusP1OC79FMfaw/gHbykYkJrD/yhDHOF42rP1CAONbqe6w///TPMUYCrD95i+9sIAyqP94qzLij+Ko/CMu/v0r6rD+4Z2TWWmStPzgiUleIR6o/jWASaboGrT9Rm/oEFySsPxQXZTbcyqs/AxBqQVcVqz+zBJNvcYOtP/KXqgjaMKw/9TbZgtcgrD+xPlnfTYCtP8eLTlHAsaw/6qsv9fVCqj9xEMszRXmuP6TuYGJGKqs/SNIMr4USrT8Ra2il/AOuP+a7a6mQQaw/3KNcUV20rT99ajo8weCsP61iFrmBWKs/xks7md4zrT/NcbHVVCiuP3ynk+gKNKw/2Ft1PfbIqj/YkONygomrP33XLiu/qKw/QnHhDTQrrT+j+i/4v/6rP9bqHLPn2q0/rDnGCm/wrD+vrUt122KqP46kcnKmqqw/6p4Sv8zDrT8oQLWjHXSrP7mnXBkXWas/5cyvmyb5qj9zsZl66/irP0iomjIM0Kw/bxJ93CcKrT/NMTnuPIasP6g9+5B0SKs/oZ1bsSZFrD8pXhYmgvetP+ixFR1akKo/Vt/PRdAwrD//l4hkgn2tP3KluXCdfqw/UHhO6IvOqz/vr4br4f6rPxG4ewT6u60/Q8OVHDfkqj+H0iw4yb2sPx2ZbWOc1aw/HUw3KzdprT/IKfIGHa2rPz45u2KclKw/0KdNCvzuqj9/cNQPplmsP/LjyphZQ6w/hQZrMRVQrT+eAhbcpXyrP29UKUyUHqs/aTaVI12mrj94p7L11eqpP38x3d9aZ6w/bcDLV6x6rD/8xVzddYarPz/xGksqjKk/o2Zlw/BIrT/K2S2IdV2rP10syIuNWas/t0JY/hjVqz/U85WjnBqsP7DxyT7NCKw/FWQ0AC3qqz9OuFhC4z+vP699JUI1IK0/9Z4C/Hq6qz8R0OA8A/mrPz4k0TCkU6s/DnKcCsXXrD/F0y3cniWrP6/xQsMWUKs/7tzhHSXOqz+/l9dZD/2sP8SCWX6YYq4/j3ofoaZBqz9n08uxwLKoP+IQhQ5xUao/eJI/uD3orT9z77QSnVurP55IHCUqYKw/+AC+EeOXrT9sPFZKpoasP9jeVj1p8as/Pegw/6yyqz8IEkEdun2tPzFWmED9Iq0/lTlXy4Xnqz9C99P4CaOsP9CmFZOIAK0/Agk1nwemrT8m6/8dfjyrP1hpn2jj8q0/W5Dr/JHxqT8RzngwlTitPyD43vAM0ao/TvPLKdRDrD8Hr2LhtM6uP3dmw/eMGK0/dPJ/PnJvrj87bcJQ/JqtP74EDNk0Iaw/FkSG3Zs8qz+duyTfHvisP9brt1ewKqw/43Zp3KrGrD8qMd1Ca2KsP1puzWMTXKw/fgiT0kS5qz+btiJycnCuP0PKD6ylV60/6Sr9BhYPrD/I3XX7RHyrP14s28TZy6o/2X19a7ryrD9rK9K2MteqP+ByiArD1a0/NCZ3qRi3qj/opRon7yytP0IHxBLKEqw/b4CQOjAwrT9qX2WnLjGqP06VfrYTUKo/R20fT724qj+qlR1OcoqrPxve+ii+rq0/0BrhllDfqj9OL1P9zqWuP7jqgKZ77as/cZGbZ7OBrD9qAbeqPqupPwNLmiBbwqs/ernyE4cBrz+RXu4ltnmuP2Ff05rL/q4/PJwmn5YGrD8cww8DUByrPx86tLEkT6k/iSRjnmverD8LrD6+v36sP4EIcjYr/a8/9FHD4IMkrT/ZZi4VlsKtP/Aj1akKeas/gE4Qhgv9qz/9LQfGxV+pP0j+o2KMfao/bFQ9EHu5rj/orvBTgceqP3T3NCnvR60/N2DbcBn7qj+KsAPDOhyrP9RHxXC31K4/1I3mmcdArT9uanSoeYisP/DOX8emt6s/hsHqEwz7qD8rMNt0b+KtP4ITKWRxl6k/7AshnRoYrD9YxeAdpaStP2k4mGLe+Ks/uJp6WBfJqj+o9fmz4TCqP2IXblI3Z6s/TlAVPnW/qj8+Y+4QB3CtP2xrRgdKp6o/QNeYAeXXrD/eAV6hS8GrP50gfMmfwq0/qmpPgw5iqT8f1/AIrlWrPwE+59zNEqw/aytxHk8TrT/ZbMSkfOqtP+8w6BUxC6s/XafUSXHtqj+nAN4BYyKsP/YBJBiO9aw/KSm5aQfGqz+rFIlo20eqPzj1GuMFk6s/9PmOuEJvrD+hAp/nByWqP6KgNxnyeKs/4evqlZ3HrD+PL6oNjV6qP5iwNZHtYK0/NKzbCwIlrT9yta1vfiSsP/djzER0Tqs/lwvX8UaJrT8=\"},\"shape\":[2500],\"dtype\":\"float64\",\"order\":\"little\"}],[\"y\",{\"type\":\"ndarray\",\"array\":{\"type\":\"bytes\",\"data\":\"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\"},\"shape\":[2500],\"dtype\":\"float64\",\"order\":\"little\"}]]}}},\"view\":{\"type\":\"object\",\"name\":\"CDSView\",\"id\":\"p1656\",\"attributes\":{\"filter\":{\"type\":\"object\",\"name\":\"AllIndices\",\"id\":\"p1657\"}}},\"glyph\":{\"type\":\"object\",\"name\":\"Circle\",\"id\":\"p1652\",\"attributes\":{\"x\":{\"type\":\"field\",\"field\":\"x\"},\"y\":{\"type\":\"field\",\"field\":\"y\"},\"line_color\":{\"type\":\"value\",\"value\":\"#1f77b4\"},\"line_alpha\":{\"type\":\"value\",\"value\":0.1},\"fill_color\":{\"type\":\"value\",\"value\":\"#1f77b4\"},\"fill_alpha\":{\"type\":\"value\",\"value\":0.1},\"hatch_alpha\":{\"type\":\"value\",\"value\":0.1}}},\"nonselection_glyph\":{\"type\":\"object\",\"name\":\"Circle\",\"id\":\"p1653\",\"attributes\":{\"x\":{\"type\":\"field\",\"field\":\"x\"},\"y\":{\"type\":\"field\",\"field\":\"y\"},\"line_color\":{\"type\":\"value\",\"value\":\"#1f77b4\"},\"line_alpha\":{\"type\":\"value\",\"value\":0.1},\"fill_color\":{\"type\":\"value\",\"value\":\"#1f77b4\"},\"fill_alpha\":{\"type\":\"value\",\"value\":0.1},\"hatch_alpha\":{\"type\":\"value\",\"value\":0.1}}},\"muted_glyph\":{\"type\":\"object\",\"name\":\"Circle\",\"id\":\"p1654\",\"attributes\":{\"x\":{\"type\":\"field\",\"field\":\"x\"},\"y\":{\"type\":\"field\",\"field\":\"y\"},\"line_color\":{\"type\":\"value\",\"value\":\"#1f77b4\"},\"line_alpha\":{\"type\":\"value\",\"value\":0.2},\"fill_color\":{\"type\":\"value\",\"value\":\"#1f77b4\"},\"fill_alpha\":{\"type\":\"value\",\"value\":0.2},\"hatch_alpha\":{\"type\":\"value\",\"value\":0.2}}}}},{\"type\":\"object\",\"name\":\"GlyphRenderer\",\"id\":\"p1666\",\"attributes\":{\"data_source\":{\"type\":\"object\",\"name\":\"ColumnDataSource\",\"id\":\"p1660\",\"attributes\":{\"selected\":{\"type\":\"object\",\"name\":\"Selection\",\"id\":\"p1661\",\"attributes\":{\"indices\":[],\"line_indices\":[]}},\"selection_policy\":{\"type\":\"object\",\"name\":\"UnionRenderers\",\"id\":\"p1662\"},\"data\":{\"type\":\"map\",\"entries\":[[\"x\",{\"type\":\"ndarray\",\"array\":{\"type\":\"bytes\",\"data\":\"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\"},\"shape\":[2500],\"dtype\":\"float64\",\"order\":\"little\"}],[\"y\",{\"type\":\"ndarray\",\"array\":{\"type\":\"bytes\",\"data\":\"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\"},\"shape\":[2500],\"dtype\":\"float64\",\"order\":\"little\"}]]}}},\"view\":{\"type\":\"object\",\"name\":\"CDSView\",\"id\":\"p1667\",\"attributes\":{\"filter\":{\"type\":\"object\",\"name\":\"AllIndices\",\"id\":\"p1668\"}}},\"glyph\":{\"type\":\"object\",\"name\":\"Circle\",\"id\":\"p1663\",\"attributes\":{\"x\":{\"type\":\"field\",\"field\":\"x\"},\"y\":{\"type\":\"field\",\"field\":\"y\"},\"line_color\":{\"type\":\"value\",\"value\":\"orange\"},\"line_alpha\":{\"type\":\"value\",\"value\":0.1},\"fill_color\":{\"type\":\"value\",\"value\":\"orange\"},\"fill_alpha\":{\"type\":\"value\",\"value\":0.1},\"hatch_color\":{\"type\":\"value\",\"value\":\"orange\"},\"hatch_alpha\":{\"type\":\"value\",\"value\":0.1}}},\"nonselection_glyph\":{\"type\":\"object\",\"name\":\"Circle\",\"id\":\"p1664\",\"attributes\":{\"x\":{\"type\":\"field\",\"field\":\"x\"},\"y\":{\"type\":\"field\",\"field\":\"y\"},\"line_color\":{\"type\":\"value\",\"value\":\"orange\"},\"line_alpha\":{\"type\":\"value\",\"value\":0.1},\"fill_color\":{\"type\":\"value\",\"value\":\"orange\"},\"fill_alpha\":{\"type\":\"value\",\"value\":0.1},\"hatch_color\":{\"type\":\"value\",\"value\":\"orange\"},\"hatch_alpha\":{\"type\":\"value\",\"value\":0.1}}},\"muted_glyph\":{\"type\":\"object\",\"name\":\"Circle\",\"id\":\"p1665\",\"attributes\":{\"x\":{\"type\":\"field\",\"field\":\"x\"},\"y\":{\"type\":\"field\",\"field\":\"y\"},\"line_color\":{\"type\":\"value\",\"value\":\"orange\"},\"line_alpha\":{\"type\":\"value\",\"value\":0.2},\"fill_color\":{\"type\":\"value\",\"value\":\"orange\"},\"fill_alpha\":{\"type\":\"value\",\"value\":0.2},\"hatch_color\":{\"type\":\"value\",\"value\":\"orange\"},\"hatch_alpha\":{\"type\":\"value\",\"value\":0.2}}}}}],\"toolbar\":{\"type\":\"object\",\"name\":\"Toolbar\",\"id\":\"p1608\",\"attributes\":{\"tools\":[{\"type\":\"object\",\"name\":\"PanTool\",\"id\":\"p1634\"},{\"type\":\"object\",\"name\":\"WheelZoomTool\",\"id\":\"p1635\"},{\"type\":\"object\",\"name\":\"BoxZoomTool\",\"id\":\"p1636\",\"attributes\":{\"overlay\":{\"type\":\"object\",\"name\":\"BoxAnnotation\",\"id\":\"p1637\",\"attributes\":{\"syncable\":false,\"level\":\"overlay\",\"visible\":false,\"left_units\":\"canvas\",\"right_units\":\"canvas\",\"bottom_units\":\"canvas\",\"top_units\":\"canvas\",\"line_color\":\"black\",\"line_alpha\":1.0,\"line_width\":2,\"line_dash\":[4,4],\"fill_color\":\"lightgrey\",\"fill_alpha\":0.5}}}},{\"type\":\"object\",\"name\":\"SaveTool\",\"id\":\"p1638\"},{\"type\":\"object\",\"name\":\"ResetTool\",\"id\":\"p1639\"},{\"type\":\"object\",\"name\":\"HelpTool\",\"id\":\"p1640\"}]}},\"left\":[{\"type\":\"object\",\"name\":\"LinearAxis\",\"id\":\"p1627\",\"attributes\":{\"ticker\":{\"type\":\"object\",\"name\":\"BasicTicker\",\"id\":\"p1630\",\"attributes\":{\"mantissas\":[1,2,5]}},\"formatter\":{\"type\":\"object\",\"name\":\"BasicTickFormatter\",\"id\":\"p1628\"},\"axis_label\":\"extrinsic noise\",\"major_label_policy\":{\"type\":\"object\",\"name\":\"AllLabels\",\"id\":\"p1629\"}}}],\"below\":[{\"type\":\"object\",\"name\":\"LinearAxis\",\"id\":\"p1620\",\"attributes\":{\"ticker\":{\"type\":\"object\",\"name\":\"BasicTicker\",\"id\":\"p1623\",\"attributes\":{\"mantissas\":[1,2,5]}},\"formatter\":{\"type\":\"object\",\"name\":\"BasicTickFormatter\",\"id\":\"p1621\"},\"axis_label\":\"intrinsic noise\",\"major_label_policy\":{\"type\":\"object\",\"name\":\"AllLabels\",\"id\":\"p1622\"}}}],\"center\":[{\"type\":\"object\",\"name\":\"Grid\",\"id\":\"p1626\",\"attributes\":{\"axis\":{\"id\":\"p1620\"}}},{\"type\":\"object\",\"name\":\"Grid\",\"id\":\"p1633\",\"attributes\":{\"dimension\":1,\"axis\":{\"id\":\"p1627\"}}},{\"type\":\"object\",\"name\":\"Legend\",\"id\":\"p1658\",\"attributes\":{\"location\":\"bottom_right\",\"items\":[{\"type\":\"object\",\"name\":\"LegendItem\",\"id\":\"p1659\",\"attributes\":{\"label\":{\"type\":\"value\",\"value\":\"M22\"},\"renderers\":[{\"id\":\"p1655\"}]}},{\"type\":\"object\",\"name\":\"LegendItem\",\"id\":\"p1669\",\"attributes\":{\"label\":{\"type\":\"value\",\"value\":\"D22\"},\"renderers\":[{\"id\":\"p1666\"}]}}]}}],\"frame_width\":250,\"frame_height\":250}}],\"callbacks\":{\"type\":\"map\"}}};\n",
       "  const render_items = [{\"docid\":\"4e17889d-30cf-44a4-80c0-76131d7d7388\",\"roots\":{\"p1603\":\"30bfd9a1-0be7-40a6-bddb-4fe719a264e7\"},\"root_ids\":[\"p1603\"]}];\n",
       "  root.Bokeh.embed.embed_items_notebook(docs_json, render_items);\n",
       "  }\n",
       "  if (root.Bokeh !== undefined) {\n",
       "    embed_document(root);\n",
       "  } else {\n",
       "    let attempts = 0;\n",
       "    const timer = setInterval(function(root) {\n",
       "      if (root.Bokeh !== undefined) {\n",
       "        clearInterval(timer);\n",
       "        embed_document(root);\n",
       "      } else {\n",
       "        attempts++;\n",
       "        if (attempts > 100) {\n",
       "          clearInterval(timer);\n",
       "          console.log(\"Bokeh: ERROR: Unable to run BokehJS code because BokehJS library is missing\");\n",
       "        }\n",
       "      }\n",
       "    }, 10, root)\n",
       "  }\n",
       "})(window);"
      ],
      "application/vnd.bokehjs_exec.v0+json": ""
     },
     "metadata": {
      "application/vnd.bokehjs_exec.v0+json": {
       "id": "p1603"
      }
     },
     "output_type": "display_data"
    }
   ],
   "source": [
    "p = bokeh.plotting.figure(\n",
    "    frame_width=250,\n",
    "    frame_height=250,\n",
    "    x_axis_label=\"intrinsic noise\",\n",
    "    y_axis_label=\"extrinsic noise\",\n",
    ")\n",
    "p.circle(m22_reps[::40, 0], m22_reps[::40, 1], alpha=0.1, legend_label=\"M22\")\n",
    "p.circle(\n",
    "    d22_reps[::40, 0],\n",
    "    d22_reps[::40, 1],\n",
    "    alpha=0.1,\n",
    "    color=\"orange\",\n",
    "    legend_label=\"D22\",\n",
    ")\n",
    "p.legend.location = \"bottom_right\"\n",
    "\n",
    "bokeh.io.show(p)"
   ]
  },
  {
   "cell_type": "markdown",
   "metadata": {},
   "source": [
    "There is slight anticorrelation between intrinsic and extrinsic noise."
   ]
  },
  {
   "cell_type": "markdown",
   "metadata": {},
   "source": [
    "### Interpreting the results\n",
    "\n",
    "Apparently, for genes regulated by LacI in _E. coli_, the intrinsic and extrinsic noise are of similar magnitude. The D22 string is inherently noisier, with the noise being about 50% higher than the M22 strain. Importantly, this suggests that the difference in noise is genetically determined. That the role of _recA_ in rescuing stalled replication forks and the fact that it is missing in the D22 strain suggests that the increased noise, both intrinsic and extrinsic, is due to transient copy number differences between different parts of the chromosome."
   ]
  },
  {
   "cell_type": "markdown",
   "metadata": {},
   "source": [
    "## Lower copy numbers lead to more noise\n",
    "\n",
    "By titrating the amount of IPTG, the copy number of the YFP and CFP gene products may be controlled. The above results are for high IPTG concentrations for which expression of YFP and CFP is fully induced. Elowitz and coworkers varied ITPG concentration to get different intensities; the results are shown below for the M22 strain."
   ]
  },
  {
   "cell_type": "code",
   "execution_count": 87,
   "metadata": {
    "tags": [
     "hide-input"
    ]
   },
   "outputs": [
    {
     "data": {
      "text/html": [
       "\n",
       "  <div id=\"bde635e6-455c-4fe1-b702-1ef1630a8df7\" data-root-id=\"p7254\" style=\"display: contents;\"></div>\n"
      ]
     },
     "metadata": {},
     "output_type": "display_data"
    },
    {
     "data": {
      "application/javascript": [
       "(function(root) {\n",
       "  function embed_document(root) {\n",
       "  const docs_json = {\"24556e5a-248c-4828-8947-6f8072c5b60d\":{\"version\":\"3.1.0\",\"title\":\"Bokeh Application\",\"defs\":[],\"roots\":[{\"type\":\"object\",\"name\":\"Figure\",\"id\":\"p7254\",\"attributes\":{\"x_range\":{\"type\":\"object\",\"name\":\"DataRange1d\",\"id\":\"p7255\"},\"y_range\":{\"type\":\"object\",\"name\":\"DataRange1d\",\"id\":\"p7256\"},\"x_scale\":{\"type\":\"object\",\"name\":\"LogScale\",\"id\":\"p7267\"},\"y_scale\":{\"type\":\"object\",\"name\":\"LinearScale\",\"id\":\"p7269\"},\"title\":{\"type\":\"object\",\"name\":\"Title\",\"id\":\"p7257\"},\"renderers\":[{\"type\":\"object\",\"name\":\"GlyphRenderer\",\"id\":\"p7309\",\"attributes\":{\"data_source\":{\"type\":\"object\",\"name\":\"ColumnDataSource\",\"id\":\"p7300\",\"attributes\":{\"selected\":{\"type\":\"object\",\"name\":\"Selection\",\"id\":\"p7301\",\"attributes\":{\"indices\":[],\"line_indices\":[]}},\"selection_policy\":{\"type\":\"object\",\"name\":\"UnionRenderers\",\"id\":\"p7302\"},\"data\":{\"type\":\"map\",\"entries\":[[\"index\",{\"type\":\"ndarray\",\"array\":{\"type\":\"bytes\",\"data\":\"AAAAAAEAAAACAAAAAwAAAAQAAAAFAAAABgAAAAcAAAAIAAAACQAAAAoAAAALAAAADAAAAA0AAAA=\"},\"shape\":[14],\"dtype\":\"int32\",\"order\":\"little\"}],[\"normalized fluorescent intensity\",{\"type\":\"ndarray\",\"array\":{\"type\":\"bytes\",\"data\":\"XaeRlsrbgT83bFuU2SCDP+uLhLacS5E/rYbEPZY+pD/d0mpI3GOxP9uK/WX35ME/24XmOo20zD+7RPXWwFbRP/5l9+RhodY/fqmfNxWp2D9yp3Sw/s/bPwZHyatzDN4/Di2yne+n4D990LNZ9bnvPw==\"},\"shape\":[14],\"dtype\":\"float64\",\"order\":\"little\"}],[\"extrinsic noise\",{\"type\":\"ndarray\",\"array\":{\"type\":\"bytes\",\"data\":\"GqN1VDVB1j+RuMfShy7aP8Tr+gW7Yd0/InGPpQ9d3D+J6q2BrRLYP917uOS4U9Y/ieqtga0S0D8zMzMzMzPLP7sKKT+p9s0/8WPMXUvIyz+7Cik/qfbFPySX/5B++8Y/MiB7vfvjwT+0q5Dyk2qvPw==\"},\"shape\":[14],\"dtype\":\"float64\",\"order\":\"little\"}],[\"intrinsic noise\",{\"type\":\"ndarray\",\"array\":{\"type\":\"bytes\",\"data\":\"VaTC2EKQ0z9Wt3pOet/QP4fEPZY+dMk/m6xRD9Howj8dOGdEaW+4PzZZox6i0bU/EK/rF+yGtT+nIhXGFoK8P1a3ek5637A/NlmjHqLRtT/goSjQJ/K0P4fEPZY+dLE/Vrd6TnrfsD/l7QinBS+qPw==\"},\"shape\":[14],\"dtype\":\"float64\",\"order\":\"little\"}],[\"total noise\",{\"type\":\"ndarray\",\"array\":{\"type\":\"bytes\",\"data\":\"0J+6v5Gh3T8pjujl0SXfP0s3F6uHAuA/6GGeBNnl3T+3EFhiAdbYPxNulRPU+9Y/GdWf6DTz0D9C5L6JZ7XOPwmoMcLoIM8/NLIKkPrYzT+hwG46KlXIPwsLyN9klcg/A6Nop6rHwz824v8o03K0Pw==\"},\"shape\":[14],\"dtype\":\"float64\",\"order\":\"little\"}]]}}},\"view\":{\"type\":\"object\",\"name\":\"CDSView\",\"id\":\"p7310\",\"attributes\":{\"filter\":{\"type\":\"object\",\"name\":\"AllIndices\",\"id\":\"p7311\"}}},\"glyph\":{\"type\":\"object\",\"name\":\"Circle\",\"id\":\"p7306\",\"attributes\":{\"x\":{\"type\":\"field\",\"field\":\"normalized fluorescent intensity\"},\"y\":{\"type\":\"field\",\"field\":\"intrinsic noise\"},\"line_color\":{\"type\":\"value\",\"value\":\"#1f77b4\"},\"fill_color\":{\"type\":\"value\",\"value\":\"#1f77b4\"}}},\"nonselection_glyph\":{\"type\":\"object\",\"name\":\"Circle\",\"id\":\"p7307\",\"attributes\":{\"x\":{\"type\":\"field\",\"field\":\"normalized fluorescent intensity\"},\"y\":{\"type\":\"field\",\"field\":\"intrinsic noise\"},\"line_color\":{\"type\":\"value\",\"value\":\"#1f77b4\"},\"line_alpha\":{\"type\":\"value\",\"value\":0.1},\"fill_color\":{\"type\":\"value\",\"value\":\"#1f77b4\"},\"fill_alpha\":{\"type\":\"value\",\"value\":0.1},\"hatch_alpha\":{\"type\":\"value\",\"value\":0.1}}},\"muted_glyph\":{\"type\":\"object\",\"name\":\"Circle\",\"id\":\"p7308\",\"attributes\":{\"x\":{\"type\":\"field\",\"field\":\"normalized fluorescent intensity\"},\"y\":{\"type\":\"field\",\"field\":\"intrinsic noise\"},\"line_color\":{\"type\":\"value\",\"value\":\"#1f77b4\"},\"line_alpha\":{\"type\":\"value\",\"value\":0.2},\"fill_color\":{\"type\":\"value\",\"value\":\"#1f77b4\"},\"fill_alpha\":{\"type\":\"value\",\"value\":0.2},\"hatch_alpha\":{\"type\":\"value\",\"value\":0.2}}}}},{\"type\":\"object\",\"name\":\"GlyphRenderer\",\"id\":\"p7323\",\"attributes\":{\"data_source\":{\"type\":\"object\",\"name\":\"ColumnDataSource\",\"id\":\"p7314\",\"attributes\":{\"selected\":{\"type\":\"object\",\"name\":\"Selection\",\"id\":\"p7315\",\"attributes\":{\"indices\":[],\"line_indices\":[]}},\"selection_policy\":{\"type\":\"object\",\"name\":\"UnionRenderers\",\"id\":\"p7316\"},\"data\":{\"type\":\"map\",\"entries\":[[\"index\",{\"type\":\"ndarray\",\"array\":{\"type\":\"bytes\",\"data\":\"AAAAAAEAAAACAAAAAwAAAAQAAAAFAAAABgAAAAcAAAAIAAAACQAAAAoAAAALAAAADAAAAA0AAAA=\"},\"shape\":[14],\"dtype\":\"int32\",\"order\":\"little\"}],[\"normalized fluorescent intensity\",{\"type\":\"ndarray\",\"array\":{\"type\":\"bytes\",\"data\":\"XaeRlsrbgT83bFuU2SCDP+uLhLacS5E/rYbEPZY+pD/d0mpI3GOxP9uK/WX35ME/24XmOo20zD+7RPXWwFbRP/5l9+RhodY/fqmfNxWp2D9yp3Sw/s/bPwZHyatzDN4/Di2yne+n4D990LNZ9bnvPw==\"},\"shape\":[14],\"dtype\":\"float64\",\"order\":\"little\"}],[\"extrinsic noise\",{\"type\":\"ndarray\",\"array\":{\"type\":\"bytes\",\"data\":\"GqN1VDVB1j+RuMfShy7aP8Tr+gW7Yd0/InGPpQ9d3D+J6q2BrRLYP917uOS4U9Y/ieqtga0S0D8zMzMzMzPLP7sKKT+p9s0/8WPMXUvIyz+7Cik/qfbFPySX/5B++8Y/MiB7vfvjwT+0q5Dyk2qvPw==\"},\"shape\":[14],\"dtype\":\"float64\",\"order\":\"little\"}],[\"intrinsic noise\",{\"type\":\"ndarray\",\"array\":{\"type\":\"bytes\",\"data\":\"VaTC2EKQ0z9Wt3pOet/QP4fEPZY+dMk/m6xRD9Howj8dOGdEaW+4PzZZox6i0bU/EK/rF+yGtT+nIhXGFoK8P1a3ek5637A/NlmjHqLRtT/goSjQJ/K0P4fEPZY+dLE/Vrd6TnrfsD/l7QinBS+qPw==\"},\"shape\":[14],\"dtype\":\"float64\",\"order\":\"little\"}],[\"total noise\",{\"type\":\"ndarray\",\"array\":{\"type\":\"bytes\",\"data\":\"0J+6v5Gh3T8pjujl0SXfP0s3F6uHAuA/6GGeBNnl3T+3EFhiAdbYPxNulRPU+9Y/GdWf6DTz0D9C5L6JZ7XOPwmoMcLoIM8/NLIKkPrYzT+hwG46KlXIPwsLyN9klcg/A6Nop6rHwz824v8o03K0Pw==\"},\"shape\":[14],\"dtype\":\"float64\",\"order\":\"little\"}]]}}},\"view\":{\"type\":\"object\",\"name\":\"CDSView\",\"id\":\"p7324\",\"attributes\":{\"filter\":{\"type\":\"object\",\"name\":\"AllIndices\",\"id\":\"p7325\"}}},\"glyph\":{\"type\":\"object\",\"name\":\"Circle\",\"id\":\"p7320\",\"attributes\":{\"x\":{\"type\":\"field\",\"field\":\"normalized fluorescent intensity\"},\"y\":{\"type\":\"field\",\"field\":\"extrinsic noise\"},\"line_color\":{\"type\":\"value\",\"value\":\"orange\"},\"fill_color\":{\"type\":\"value\",\"value\":\"orange\"},\"hatch_color\":{\"type\":\"value\",\"value\":\"orange\"}}},\"nonselection_glyph\":{\"type\":\"object\",\"name\":\"Circle\",\"id\":\"p7321\",\"attributes\":{\"x\":{\"type\":\"field\",\"field\":\"normalized fluorescent intensity\"},\"y\":{\"type\":\"field\",\"field\":\"extrinsic noise\"},\"line_color\":{\"type\":\"value\",\"value\":\"orange\"},\"line_alpha\":{\"type\":\"value\",\"value\":0.1},\"fill_color\":{\"type\":\"value\",\"value\":\"orange\"},\"fill_alpha\":{\"type\":\"value\",\"value\":0.1},\"hatch_color\":{\"type\":\"value\",\"value\":\"orange\"},\"hatch_alpha\":{\"type\":\"value\",\"value\":0.1}}},\"muted_glyph\":{\"type\":\"object\",\"name\":\"Circle\",\"id\":\"p7322\",\"attributes\":{\"x\":{\"type\":\"field\",\"field\":\"normalized fluorescent intensity\"},\"y\":{\"type\":\"field\",\"field\":\"extrinsic noise\"},\"line_color\":{\"type\":\"value\",\"value\":\"orange\"},\"line_alpha\":{\"type\":\"value\",\"value\":0.2},\"fill_color\":{\"type\":\"value\",\"value\":\"orange\"},\"fill_alpha\":{\"type\":\"value\",\"value\":0.2},\"hatch_color\":{\"type\":\"value\",\"value\":\"orange\"},\"hatch_alpha\":{\"type\":\"value\",\"value\":0.2}}}}},{\"type\":\"object\",\"name\":\"GlyphRenderer\",\"id\":\"p7336\",\"attributes\":{\"data_source\":{\"type\":\"object\",\"name\":\"ColumnDataSource\",\"id\":\"p7327\",\"attributes\":{\"selected\":{\"type\":\"object\",\"name\":\"Selection\",\"id\":\"p7328\",\"attributes\":{\"indices\":[],\"line_indices\":[]}},\"selection_policy\":{\"type\":\"object\",\"name\":\"UnionRenderers\",\"id\":\"p7329\"},\"data\":{\"type\":\"map\",\"entries\":[[\"index\",{\"type\":\"ndarray\",\"array\":{\"type\":\"bytes\",\"data\":\"AAAAAAEAAAACAAAAAwAAAAQAAAAFAAAABgAAAAcAAAAIAAAACQAAAAoAAAALAAAADAAAAA0AAAA=\"},\"shape\":[14],\"dtype\":\"int32\",\"order\":\"little\"}],[\"normalized fluorescent intensity\",{\"type\":\"ndarray\",\"array\":{\"type\":\"bytes\",\"data\":\"XaeRlsrbgT83bFuU2SCDP+uLhLacS5E/rYbEPZY+pD/d0mpI3GOxP9uK/WX35ME/24XmOo20zD+7RPXWwFbRP/5l9+RhodY/fqmfNxWp2D9yp3Sw/s/bPwZHyatzDN4/Di2yne+n4D990LNZ9bnvPw==\"},\"shape\":[14],\"dtype\":\"float64\",\"order\":\"little\"}],[\"extrinsic noise\",{\"type\":\"ndarray\",\"array\":{\"type\":\"bytes\",\"data\":\"GqN1VDVB1j+RuMfShy7aP8Tr+gW7Yd0/InGPpQ9d3D+J6q2BrRLYP917uOS4U9Y/ieqtga0S0D8zMzMzMzPLP7sKKT+p9s0/8WPMXUvIyz+7Cik/qfbFPySX/5B++8Y/MiB7vfvjwT+0q5Dyk2qvPw==\"},\"shape\":[14],\"dtype\":\"float64\",\"order\":\"little\"}],[\"intrinsic noise\",{\"type\":\"ndarray\",\"array\":{\"type\":\"bytes\",\"data\":\"VaTC2EKQ0z9Wt3pOet/QP4fEPZY+dMk/m6xRD9Howj8dOGdEaW+4PzZZox6i0bU/EK/rF+yGtT+nIhXGFoK8P1a3ek5637A/NlmjHqLRtT/goSjQJ/K0P4fEPZY+dLE/Vrd6TnrfsD/l7QinBS+qPw==\"},\"shape\":[14],\"dtype\":\"float64\",\"order\":\"little\"}],[\"total noise\",{\"type\":\"ndarray\",\"array\":{\"type\":\"bytes\",\"data\":\"0J+6v5Gh3T8pjujl0SXfP0s3F6uHAuA/6GGeBNnl3T+3EFhiAdbYPxNulRPU+9Y/GdWf6DTz0D9C5L6JZ7XOPwmoMcLoIM8/NLIKkPrYzT+hwG46KlXIPwsLyN9klcg/A6Nop6rHwz824v8o03K0Pw==\"},\"shape\":[14],\"dtype\":\"float64\",\"order\":\"little\"}]]}}},\"view\":{\"type\":\"object\",\"name\":\"CDSView\",\"id\":\"p7337\",\"attributes\":{\"filter\":{\"type\":\"object\",\"name\":\"AllIndices\",\"id\":\"p7338\"}}},\"glyph\":{\"type\":\"object\",\"name\":\"Scatter\",\"id\":\"p7333\",\"attributes\":{\"x\":{\"type\":\"field\",\"field\":\"normalized fluorescent intensity\"},\"y\":{\"type\":\"field\",\"field\":\"total noise\"},\"line_color\":{\"type\":\"value\",\"value\":\"#2ca02c\"},\"fill_color\":{\"type\":\"value\",\"value\":\"#2ca02c\"},\"hatch_color\":{\"type\":\"value\",\"value\":\"#2ca02c\"},\"marker\":{\"type\":\"value\",\"value\":\"square\"}}},\"nonselection_glyph\":{\"type\":\"object\",\"name\":\"Scatter\",\"id\":\"p7334\",\"attributes\":{\"x\":{\"type\":\"field\",\"field\":\"normalized fluorescent intensity\"},\"y\":{\"type\":\"field\",\"field\":\"total noise\"},\"line_color\":{\"type\":\"value\",\"value\":\"#2ca02c\"},\"line_alpha\":{\"type\":\"value\",\"value\":0.1},\"fill_color\":{\"type\":\"value\",\"value\":\"#2ca02c\"},\"fill_alpha\":{\"type\":\"value\",\"value\":0.1},\"hatch_color\":{\"type\":\"value\",\"value\":\"#2ca02c\"},\"hatch_alpha\":{\"type\":\"value\",\"value\":0.1},\"marker\":{\"type\":\"value\",\"value\":\"square\"}}},\"muted_glyph\":{\"type\":\"object\",\"name\":\"Scatter\",\"id\":\"p7335\",\"attributes\":{\"x\":{\"type\":\"field\",\"field\":\"normalized fluorescent intensity\"},\"y\":{\"type\":\"field\",\"field\":\"total noise\"},\"line_color\":{\"type\":\"value\",\"value\":\"#2ca02c\"},\"line_alpha\":{\"type\":\"value\",\"value\":0.2},\"fill_color\":{\"type\":\"value\",\"value\":\"#2ca02c\"},\"fill_alpha\":{\"type\":\"value\",\"value\":0.2},\"hatch_color\":{\"type\":\"value\",\"value\":\"#2ca02c\"},\"hatch_alpha\":{\"type\":\"value\",\"value\":0.2},\"marker\":{\"type\":\"value\",\"value\":\"square\"}}}}}],\"toolbar\":{\"type\":\"object\",\"name\":\"Toolbar\",\"id\":\"p7259\",\"attributes\":{\"tools\":[{\"type\":\"object\",\"name\":\"PanTool\",\"id\":\"p7285\"},{\"type\":\"object\",\"name\":\"WheelZoomTool\",\"id\":\"p7286\"},{\"type\":\"object\",\"name\":\"BoxZoomTool\",\"id\":\"p7287\",\"attributes\":{\"overlay\":{\"type\":\"object\",\"name\":\"BoxAnnotation\",\"id\":\"p7288\",\"attributes\":{\"syncable\":false,\"level\":\"overlay\",\"visible\":false,\"left_units\":\"canvas\",\"right_units\":\"canvas\",\"bottom_units\":\"canvas\",\"top_units\":\"canvas\",\"line_color\":\"black\",\"line_alpha\":1.0,\"line_width\":2,\"line_dash\":[4,4],\"fill_color\":\"lightgrey\",\"fill_alpha\":0.5}}}},{\"type\":\"object\",\"name\":\"SaveTool\",\"id\":\"p7289\"},{\"type\":\"object\",\"name\":\"ResetTool\",\"id\":\"p7290\"},{\"type\":\"object\",\"name\":\"HelpTool\",\"id\":\"p7291\"}]}},\"left\":[{\"type\":\"object\",\"name\":\"LinearAxis\",\"id\":\"p7278\",\"attributes\":{\"ticker\":{\"type\":\"object\",\"name\":\"BasicTicker\",\"id\":\"p7281\",\"attributes\":{\"mantissas\":[1,2,5]}},\"formatter\":{\"type\":\"object\",\"name\":\"BasicTickFormatter\",\"id\":\"p7279\"},\"axis_label\":\"noise\",\"major_label_policy\":{\"type\":\"object\",\"name\":\"AllLabels\",\"id\":\"p7280\"}}}],\"below\":[{\"type\":\"object\",\"name\":\"LogAxis\",\"id\":\"p7271\",\"attributes\":{\"ticker\":{\"type\":\"object\",\"name\":\"LogTicker\",\"id\":\"p7274\",\"attributes\":{\"num_minor_ticks\":10,\"mantissas\":[1,5]}},\"formatter\":{\"type\":\"object\",\"name\":\"LogTickFormatter\",\"id\":\"p7272\"},\"axis_label\":\"normalized fluorescent intensity\",\"major_label_policy\":{\"type\":\"object\",\"name\":\"AllLabels\",\"id\":\"p7273\"}}}],\"center\":[{\"type\":\"object\",\"name\":\"Grid\",\"id\":\"p7277\",\"attributes\":{\"axis\":{\"id\":\"p7271\"}}},{\"type\":\"object\",\"name\":\"Grid\",\"id\":\"p7284\",\"attributes\":{\"dimension\":1,\"axis\":{\"id\":\"p7278\"}}},{\"type\":\"object\",\"name\":\"Legend\",\"id\":\"p7312\",\"attributes\":{\"items\":[{\"type\":\"object\",\"name\":\"LegendItem\",\"id\":\"p7313\",\"attributes\":{\"label\":{\"type\":\"value\",\"value\":\"intrinsic\"},\"renderers\":[{\"id\":\"p7309\"}]}},{\"type\":\"object\",\"name\":\"LegendItem\",\"id\":\"p7326\",\"attributes\":{\"label\":{\"type\":\"value\",\"value\":\"extrinsic\"},\"renderers\":[{\"id\":\"p7323\"}]}},{\"type\":\"object\",\"name\":\"LegendItem\",\"id\":\"p7339\",\"attributes\":{\"label\":{\"type\":\"value\",\"value\":\"total\"},\"renderers\":[{\"id\":\"p7336\"}]}}]}}],\"frame_width\":350,\"frame_height\":250}}],\"callbacks\":{\"type\":\"map\"}}};\n",
       "  const render_items = [{\"docid\":\"24556e5a-248c-4828-8947-6f8072c5b60d\",\"roots\":{\"p7254\":\"bde635e6-455c-4fe1-b702-1ef1630a8df7\"},\"root_ids\":[\"p7254\"]}];\n",
       "  root.Bokeh.embed.embed_items_notebook(docs_json, render_items);\n",
       "  }\n",
       "  if (root.Bokeh !== undefined) {\n",
       "    embed_document(root);\n",
       "  } else {\n",
       "    let attempts = 0;\n",
       "    const timer = setInterval(function(root) {\n",
       "      if (root.Bokeh !== undefined) {\n",
       "        clearInterval(timer);\n",
       "        embed_document(root);\n",
       "      } else {\n",
       "        attempts++;\n",
       "        if (attempts > 100) {\n",
       "          clearInterval(timer);\n",
       "          console.log(\"Bokeh: ERROR: Unable to run BokehJS code because BokehJS library is missing\");\n",
       "        }\n",
       "      }\n",
       "    }, 10, root)\n",
       "  }\n",
       "})(window);"
      ],
      "application/vnd.bokehjs_exec.v0+json": ""
     },
     "metadata": {
      "application/vnd.bokehjs_exec.v0+json": {
       "id": "p7254"
      }
     },
     "output_type": "display_data"
    }
   ],
   "source": [
    "df_noise_int = pd.read_csv(\n",
    "    os.path.join(data_path, \"elowitz_2002_noise_vs_intensity.csv\")\n",
    ")\n",
    "\n",
    "df_noise_int[\"total noise\"] = np.sqrt(\n",
    "    df_noise_int[\"intrinsic noise\"] ** 2 + df_noise_int[\"extrinsic noise\"] ** 2\n",
    ")\n",
    "\n",
    "p = bokeh.plotting.figure(\n",
    "    frame_height=250,\n",
    "    frame_width=350,\n",
    "    x_axis_type=\"log\",\n",
    "    x_axis_label=\"normalized fluorescent intensity\",\n",
    "    y_axis_label=\"noise\",\n",
    ")\n",
    "p.circle(\n",
    "    source=df_noise_int,\n",
    "    x=\"normalized fluorescent intensity\",\n",
    "    y=\"intrinsic noise\",\n",
    "    legend_label=\"intrinsic\",\n",
    ")\n",
    "p.circle(\n",
    "    source=df_noise_int,\n",
    "    x=\"normalized fluorescent intensity\",\n",
    "    y=\"extrinsic noise\",\n",
    "    legend_label=\"extrinsic\",\n",
    "    color=\"orange\",\n",
    ")\n",
    "p.square(\n",
    "    source=df_noise_int,\n",
    "    x=\"normalized fluorescent intensity\",\n",
    "    y=\"total noise\",\n",
    "    legend_label=\"total\",\n",
    "    color=\"#2ca02c\",\n",
    ")\n",
    "\n",
    "bokeh.io.show(p)"
   ]
  },
  {
   "cell_type": "markdown",
   "metadata": {},
   "source": [
    "When high fluorescence intensity if observed, the copy number of LacI is low. We nonetheless see low intrisic and extrinsic noise because of the high copy numbers of the fluorophore gene product (the denominator in the noise is large). When low fluorescence intensity is observed, the intrinsic and extrinsic noise are both large, as we would expect, since the copy number of gene product is so low. However, when the IPTG concentration is very low (and therefore expression is also low), the resulting the high copy numbers of LacI dampen out extrinsic noise, leading to its drop at low intensity values.\n",
    "\n",
    "We note that at full induction, the total noise is somewhere around 0.1. By contrast, a \"good\" electronic circuit has a signal to noise ratio of about 25 or 30 dB, or a noise level of about 0.001, 100 times quieter than this example of gene expression."
   ]
  },
  {
   "cell_type": "markdown",
   "metadata": {},
   "source": [
    "## Generative Bayesian modeling of noise\n",
    "\n",
    "In the above analysis, we assumed we knew nothing about underlying probability distribution generating the data. This means we are not modeling the source of the noise, but are rather _defining_ what we mean by intrinsic and extrinsic noise based on moments of the unknown distribution, which we then estimate with plug-in estimates. We now take an alternative approach, where we propose a **generative model** for the data. The parameters of this model then define what we mean by intrinsic and extrinsic noise. We use Bayes's theorem to connect the experimental measurements to the noise, given the model.\n",
    "\n",
    "One of the beauties of generative modeling is that all assumptions are now, by necessity, explicit. We will again make the same assumptions we did when deriving the plug-in estimates, stating them more clearly here.\n",
    "\n",
    "- The mean fluorescence is equal for the CFP and YFP channels.\n",
    "- The copy number is linearly related to the measured fluorescence.\n",
    "- There is no background fluorescence.\n",
    "- All noise is inherent to the genetic machinery of the bacteria; there is no measurement error.\n",
    "- The fluorescent intensity of each cell is independent of all other cells and also identically distributed (i.i.d).\n",
    "- Although under these assumptions the measured fluorescence should take on discrete values (because the camera on the microscope is digital), we nonetheless model the fluorescence values as continuous.\n",
    "\n",
    "The assumption of no measurement error was not apparent in the nonparametric analysis we did above. We assumed we knew nothing about the distribution that produced the experimental measurements, but we then chose to _interpret_ the plug-in estimates as they relate to genetic noise, ignoring measurement noise.\n",
    "\n",
    "To build our parametric model, we must first build a probability distribution for the _likelihood_ of the data. This is the probability distribution describing observation of our data set. Because of the i.i.d. assumption, we can consider a single cell, $i$. Then, our modeling means we specify the joint probability density function $P(c_i, y_i\\mid \\theta_i)$ where $\\theta_i$ is a set of parameters that condition the observations.\n",
    "\n",
    "We will model this distribution as Normal, such that\n",
    "\n",
    "\\begin{align}\n",
    "c_i \\sim \\mathrm{Norm}(\\mu_i, \\sigma_i),\\\\[1em]\n",
    "y_i \\sim \\mathrm{Norm}(\\mu_i, \\sigma_i).\n",
    "\\end{align}\n",
    "\n",
    "Here, $\\sigma_i$ explicitly characterizes within cell variability of expression of the gene of interest; it gives the intrinsic noise. If we assume that every cell experiences the same intrinsic noise, then $\\sigma_i = \\sigma\\;\\forall i$, and\n",
    "\n",
    "\\begin{align}\n",
    "c_i \\sim \\mathrm{Norm}(\\mu_i, \\sigma),\\\\[1em]\n",
    "y_i \\sim \\mathrm{Norm}(\\mu_i, \\sigma),\n",
    "\\end{align}\n",
    "\n",
    "or\n",
    "\n",
    "\\begin{align}\n",
    "P(c_i, y_i \\mid \\mu_i, \\sigma) = \\frac{1}{2\\pi\\sigma^2}\\exp\\left[-\\frac{(c_i - \\mu_i)^2 + (y_i - \\mu_i)^2}{2\\sigma^2}\\right].\n",
    "\\end{align}\n",
    "\n",
    "The extrinsic noise affects the expression level of all genes; that is it affects variability in $\\mu_i$. We can model the $\\mu_i$'s as varying from a \"global\" value $\\mu$ with standard deviation $\\sigma_\\mu$ according to a Gaussian distribution, \n",
    "\n",
    "\\begin{align}\n",
    "\\mu_i \\sim \\mathrm{Norm}(\\mu, \\sigma_\\mu),\n",
    "\\end{align}\n",
    "\n",
    "or\n",
    "\n",
    "\\begin{align}\n",
    "P(\\mu_i\\mid \\mu, \\sigma_\\mu) = \\frac{1}{\\sqrt{2\\pi\\sigma_\\mu^2}}\\,\\exp\\left[-\\frac{(\\mu_i-\\mu)^2}{2\\sigma_\\mu^2}\\right].\n",
    "\\end{align}\n",
    "\n",
    "The parameter $\\sigma_\\mu$ is related to the extrinsic noise. We can therefore define the intrinsic and extrinsic noise as\n",
    "\n",
    "\\begin{align}\n",
    "&\\eta_\\mathrm{int} = \\frac{\\sigma}{\\mu},\\\\[1em]\n",
    "&\\eta_\\mathrm{ext} = \\frac{\\sigma_\\mu}{\\mu}.\n",
    "\\end{align}\n",
    "\n",
    "\n",
    "\n",
    "To complete the generative model, we need to specify prior distributions on the parameters $\\mu$, $\\sigma$, and $\\sigma_\\mu$; that is, we need to specify $P(\\mu, \\sigma, \\sigma_\\mu)$. We will leave that unspecified for now, and will proceed to write down Bayes's theorem for this **hierarchical model**.\n",
    "\n",
    "\\begin{align}\n",
    "P(\\{\\mu_i\\}, \\mu, \\sigma, \\sigma_\\mu\\mid \\{c_i, y_i\\}) \\propto \\left(\\prod_{i=1}^N P(c_i, y_i \\mid \\mu_i, \\sigma) P(\\mu_i\\mid \\mu, \\sigma_\\mu)\\right) P(\\mu, \\sigma, \\sigma_\\mu).\n",
    "\\end{align}\n",
    "\n",
    "Performance of full Bayesian inference on this model involves some sophisticated techniques involving Markov chain Monte Carlo, which we will not cover here, but you can explore in an end-of-chapter problem. Most important for this chapter is that we can build a generative model and directly and intuitively interpret its parameters."
   ]
  },
  {
   "cell_type": "markdown",
   "metadata": {},
   "source": [
    "## References\n",
    "\n",
    "- Elowitz, et al., Stochastic gene expression in a single cell, _Science_, 297, 1183–1186, 2002. ([link](https://doi.org/10.1126/science.1070919))"
   ]
  },
  {
   "cell_type": "markdown",
   "metadata": {},
   "source": [
    "### Computing environment"
   ]
  },
  {
   "cell_type": "code",
   "execution_count": null,
   "metadata": {
    "tags": [
     "hide-input"
    ]
   },
   "outputs": [],
   "source": [
    "%load_ext watermark\n",
    "%watermark -v -p numpy,pandas,bokeh,jupyterlab"
   ]
  }
 ],
 "metadata": {
  "kernelspec": {
   "display_name": "Python 3 (ipykernel)",
   "language": "python",
   "name": "python3"
  },
  "language_info": {
   "codemirror_mode": {
    "name": "ipython",
    "version": 3
   },
   "file_extension": ".py",
   "mimetype": "text/x-python",
   "name": "python",
   "nbconvert_exporter": "python",
   "pygments_lexer": "ipython3",
   "version": "3.10.9"
  },
  "toc": {
   "base_numbering": 1,
   "nav_menu": {},
   "number_sections": true,
   "sideBar": true,
   "skip_h1_title": false,
   "title_cell": "Table of Contents",
   "title_sidebar": "Contents",
   "toc_cell": false,
   "toc_position": {},
   "toc_section_display": true,
   "toc_window_display": false
  },
  "varInspector": {
   "cols": {
    "lenName": 16,
    "lenType": 16,
    "lenVar": 40
   },
   "kernels_config": {
    "python": {
     "delete_cmd_postfix": "",
     "delete_cmd_prefix": "del ",
     "library": "var_list.py",
     "varRefreshCmd": "print(var_dic_list())"
    },
    "r": {
     "delete_cmd_postfix": ") ",
     "delete_cmd_prefix": "rm(",
     "library": "var_list.r",
     "varRefreshCmd": "cat(var_dic_list()) "
    }
   },
   "types_to_exclude": [
    "module",
    "function",
    "builtin_function_or_method",
    "instance",
    "_Feature"
   ],
   "window_display": false
  }
 },
 "nbformat": 4,
 "nbformat_minor": 4
}
