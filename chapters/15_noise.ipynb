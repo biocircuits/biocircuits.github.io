{
 "cells": [
  {
   "cell_type": "markdown",
   "metadata": {},
   "source": [
    "# 15. The noisy, noisy nature of gene expression: How stochastic fluctuations create variation\n",
    "\n",
    "<hr>"
   ]
  },
  {
   "cell_type": "markdown",
   "metadata": {},
   "source": [
    "#### Concepts\n",
    "- Intrinsic and extrinsic noise\n",
    "\n",
    "#### Techniques\n",
    "- Plug-in estimates\n",
    "- Pairs bootstrap\n",
    "- Generative Bayesian modeling\n",
    "<br />\n",
    "\n",
    "<hr>"
   ]
  },
  {
   "cell_type": "code",
   "execution_count": 1,
   "metadata": {
    "tags": [
     "hide-input"
    ]
   },
   "outputs": [
    {
     "data": {
      "text/html": [
       "\n",
       "    <div class=\"bk-root\">\n",
       "        <a href=\"https://bokeh.org\" target=\"_blank\" class=\"bk-logo bk-logo-small bk-logo-notebook\"></a>\n",
       "        <span id=\"1002\">Loading BokehJS ...</span>\n",
       "    </div>"
      ]
     },
     "metadata": {},
     "output_type": "display_data"
    },
    {
     "data": {
      "application/javascript": [
       "\n",
       "(function(root) {\n",
       "  function now() {\n",
       "    return new Date();\n",
       "  }\n",
       "\n",
       "  const force = true;\n",
       "\n",
       "  if (typeof root._bokeh_onload_callbacks === \"undefined\" || force === true) {\n",
       "    root._bokeh_onload_callbacks = [];\n",
       "    root._bokeh_is_loading = undefined;\n",
       "  }\n",
       "\n",
       "  const JS_MIME_TYPE = 'application/javascript';\n",
       "  const HTML_MIME_TYPE = 'text/html';\n",
       "  const EXEC_MIME_TYPE = 'application/vnd.bokehjs_exec.v0+json';\n",
       "  const CLASS_NAME = 'output_bokeh rendered_html';\n",
       "\n",
       "  /**\n",
       "   * Render data to the DOM node\n",
       "   */\n",
       "  function render(props, node) {\n",
       "    const script = document.createElement(\"script\");\n",
       "    node.appendChild(script);\n",
       "  }\n",
       "\n",
       "  /**\n",
       "   * Handle when an output is cleared or removed\n",
       "   */\n",
       "  function handleClearOutput(event, handle) {\n",
       "    const cell = handle.cell;\n",
       "\n",
       "    const id = cell.output_area._bokeh_element_id;\n",
       "    const server_id = cell.output_area._bokeh_server_id;\n",
       "    // Clean up Bokeh references\n",
       "    if (id != null && id in Bokeh.index) {\n",
       "      Bokeh.index[id].model.document.clear();\n",
       "      delete Bokeh.index[id];\n",
       "    }\n",
       "\n",
       "    if (server_id !== undefined) {\n",
       "      // Clean up Bokeh references\n",
       "      const cmd_clean = \"from bokeh.io.state import curstate; print(curstate().uuid_to_server['\" + server_id + \"'].get_sessions()[0].document.roots[0]._id)\";\n",
       "      cell.notebook.kernel.execute(cmd_clean, {\n",
       "        iopub: {\n",
       "          output: function(msg) {\n",
       "            const id = msg.content.text.trim();\n",
       "            if (id in Bokeh.index) {\n",
       "              Bokeh.index[id].model.document.clear();\n",
       "              delete Bokeh.index[id];\n",
       "            }\n",
       "          }\n",
       "        }\n",
       "      });\n",
       "      // Destroy server and session\n",
       "      const cmd_destroy = \"import bokeh.io.notebook as ion; ion.destroy_server('\" + server_id + \"')\";\n",
       "      cell.notebook.kernel.execute(cmd_destroy);\n",
       "    }\n",
       "  }\n",
       "\n",
       "  /**\n",
       "   * Handle when a new output is added\n",
       "   */\n",
       "  function handleAddOutput(event, handle) {\n",
       "    const output_area = handle.output_area;\n",
       "    const output = handle.output;\n",
       "\n",
       "    // limit handleAddOutput to display_data with EXEC_MIME_TYPE content only\n",
       "    if ((output.output_type != \"display_data\") || (!Object.prototype.hasOwnProperty.call(output.data, EXEC_MIME_TYPE))) {\n",
       "      return\n",
       "    }\n",
       "\n",
       "    const toinsert = output_area.element.find(\".\" + CLASS_NAME.split(' ')[0]);\n",
       "\n",
       "    if (output.metadata[EXEC_MIME_TYPE][\"id\"] !== undefined) {\n",
       "      toinsert[toinsert.length - 1].firstChild.textContent = output.data[JS_MIME_TYPE];\n",
       "      // store reference to embed id on output_area\n",
       "      output_area._bokeh_element_id = output.metadata[EXEC_MIME_TYPE][\"id\"];\n",
       "    }\n",
       "    if (output.metadata[EXEC_MIME_TYPE][\"server_id\"] !== undefined) {\n",
       "      const bk_div = document.createElement(\"div\");\n",
       "      bk_div.innerHTML = output.data[HTML_MIME_TYPE];\n",
       "      const script_attrs = bk_div.children[0].attributes;\n",
       "      for (let i = 0; i < script_attrs.length; i++) {\n",
       "        toinsert[toinsert.length - 1].firstChild.setAttribute(script_attrs[i].name, script_attrs[i].value);\n",
       "        toinsert[toinsert.length - 1].firstChild.textContent = bk_div.children[0].textContent\n",
       "      }\n",
       "      // store reference to server id on output_area\n",
       "      output_area._bokeh_server_id = output.metadata[EXEC_MIME_TYPE][\"server_id\"];\n",
       "    }\n",
       "  }\n",
       "\n",
       "  function register_renderer(events, OutputArea) {\n",
       "\n",
       "    function append_mime(data, metadata, element) {\n",
       "      // create a DOM node to render to\n",
       "      const toinsert = this.create_output_subarea(\n",
       "        metadata,\n",
       "        CLASS_NAME,\n",
       "        EXEC_MIME_TYPE\n",
       "      );\n",
       "      this.keyboard_manager.register_events(toinsert);\n",
       "      // Render to node\n",
       "      const props = {data: data, metadata: metadata[EXEC_MIME_TYPE]};\n",
       "      render(props, toinsert[toinsert.length - 1]);\n",
       "      element.append(toinsert);\n",
       "      return toinsert\n",
       "    }\n",
       "\n",
       "    /* Handle when an output is cleared or removed */\n",
       "    events.on('clear_output.CodeCell', handleClearOutput);\n",
       "    events.on('delete.Cell', handleClearOutput);\n",
       "\n",
       "    /* Handle when a new output is added */\n",
       "    events.on('output_added.OutputArea', handleAddOutput);\n",
       "\n",
       "    /**\n",
       "     * Register the mime type and append_mime function with output_area\n",
       "     */\n",
       "    OutputArea.prototype.register_mime_type(EXEC_MIME_TYPE, append_mime, {\n",
       "      /* Is output safe? */\n",
       "      safe: true,\n",
       "      /* Index of renderer in `output_area.display_order` */\n",
       "      index: 0\n",
       "    });\n",
       "  }\n",
       "\n",
       "  // register the mime type if in Jupyter Notebook environment and previously unregistered\n",
       "  if (root.Jupyter !== undefined) {\n",
       "    const events = require('base/js/events');\n",
       "    const OutputArea = require('notebook/js/outputarea').OutputArea;\n",
       "\n",
       "    if (OutputArea.prototype.mime_types().indexOf(EXEC_MIME_TYPE) == -1) {\n",
       "      register_renderer(events, OutputArea);\n",
       "    }\n",
       "  }\n",
       "\n",
       "  \n",
       "  if (typeof (root._bokeh_timeout) === \"undefined\" || force === true) {\n",
       "    root._bokeh_timeout = Date.now() + 5000;\n",
       "    root._bokeh_failed_load = false;\n",
       "  }\n",
       "\n",
       "  const NB_LOAD_WARNING = {'data': {'text/html':\n",
       "     \"<div style='background-color: #fdd'>\\n\"+\n",
       "     \"<p>\\n\"+\n",
       "     \"BokehJS does not appear to have successfully loaded. If loading BokehJS from CDN, this \\n\"+\n",
       "     \"may be due to a slow or bad network connection. Possible fixes:\\n\"+\n",
       "     \"</p>\\n\"+\n",
       "     \"<ul>\\n\"+\n",
       "     \"<li>re-rerun `output_notebook()` to attempt to load from CDN again, or</li>\\n\"+\n",
       "     \"<li>use INLINE resources instead, as so:</li>\\n\"+\n",
       "     \"</ul>\\n\"+\n",
       "     \"<code>\\n\"+\n",
       "     \"from bokeh.resources import INLINE\\n\"+\n",
       "     \"output_notebook(resources=INLINE)\\n\"+\n",
       "     \"</code>\\n\"+\n",
       "     \"</div>\"}};\n",
       "\n",
       "  function display_loaded() {\n",
       "    const el = document.getElementById(\"1002\");\n",
       "    if (el != null) {\n",
       "      el.textContent = \"BokehJS is loading...\";\n",
       "    }\n",
       "    if (root.Bokeh !== undefined) {\n",
       "      if (el != null) {\n",
       "        el.textContent = \"BokehJS \" + root.Bokeh.version + \" successfully loaded.\";\n",
       "      }\n",
       "    } else if (Date.now() < root._bokeh_timeout) {\n",
       "      setTimeout(display_loaded, 100)\n",
       "    }\n",
       "  }\n",
       "\n",
       "\n",
       "  function run_callbacks() {\n",
       "    try {\n",
       "      root._bokeh_onload_callbacks.forEach(function(callback) {\n",
       "        if (callback != null)\n",
       "          callback();\n",
       "      });\n",
       "    } finally {\n",
       "      delete root._bokeh_onload_callbacks\n",
       "    }\n",
       "    console.debug(\"Bokeh: all callbacks have finished\");\n",
       "  }\n",
       "\n",
       "  function load_libs(css_urls, js_urls, callback) {\n",
       "    if (css_urls == null) css_urls = [];\n",
       "    if (js_urls == null) js_urls = [];\n",
       "\n",
       "    root._bokeh_onload_callbacks.push(callback);\n",
       "    if (root._bokeh_is_loading > 0) {\n",
       "      console.debug(\"Bokeh: BokehJS is being loaded, scheduling callback at\", now());\n",
       "      return null;\n",
       "    }\n",
       "    if (js_urls == null || js_urls.length === 0) {\n",
       "      run_callbacks();\n",
       "      return null;\n",
       "    }\n",
       "    console.debug(\"Bokeh: BokehJS not loaded, scheduling load and callback at\", now());\n",
       "    root._bokeh_is_loading = css_urls.length + js_urls.length;\n",
       "\n",
       "    function on_load() {\n",
       "      root._bokeh_is_loading--;\n",
       "      if (root._bokeh_is_loading === 0) {\n",
       "        console.debug(\"Bokeh: all BokehJS libraries/stylesheets loaded\");\n",
       "        run_callbacks()\n",
       "      }\n",
       "    }\n",
       "\n",
       "    function on_error(url) {\n",
       "      console.error(\"failed to load \" + url);\n",
       "    }\n",
       "\n",
       "    for (let i = 0; i < css_urls.length; i++) {\n",
       "      const url = css_urls[i];\n",
       "      const element = document.createElement(\"link\");\n",
       "      element.onload = on_load;\n",
       "      element.onerror = on_error.bind(null, url);\n",
       "      element.rel = \"stylesheet\";\n",
       "      element.type = \"text/css\";\n",
       "      element.href = url;\n",
       "      console.debug(\"Bokeh: injecting link tag for BokehJS stylesheet: \", url);\n",
       "      document.body.appendChild(element);\n",
       "    }\n",
       "\n",
       "    for (let i = 0; i < js_urls.length; i++) {\n",
       "      const url = js_urls[i];\n",
       "      const element = document.createElement('script');\n",
       "      element.onload = on_load;\n",
       "      element.onerror = on_error.bind(null, url);\n",
       "      element.async = false;\n",
       "      element.src = url;\n",
       "      console.debug(\"Bokeh: injecting script tag for BokehJS library: \", url);\n",
       "      document.head.appendChild(element);\n",
       "    }\n",
       "  };\n",
       "\n",
       "  function inject_raw_css(css) {\n",
       "    const element = document.createElement(\"style\");\n",
       "    element.appendChild(document.createTextNode(css));\n",
       "    document.body.appendChild(element);\n",
       "  }\n",
       "\n",
       "  \n",
       "  const js_urls = [\"https://cdn.bokeh.org/bokeh/release/bokeh-2.4.2.min.js\", \"https://cdn.bokeh.org/bokeh/release/bokeh-gl-2.4.2.min.js\", \"https://cdn.bokeh.org/bokeh/release/bokeh-widgets-2.4.2.min.js\", \"https://cdn.bokeh.org/bokeh/release/bokeh-tables-2.4.2.min.js\", \"https://cdn.bokeh.org/bokeh/release/bokeh-mathjax-2.4.2.min.js\"];\n",
       "  const css_urls = [];\n",
       "  \n",
       "\n",
       "  const inline_js = [\n",
       "    function(Bokeh) {\n",
       "      Bokeh.set_log_level(\"info\");\n",
       "    },\n",
       "    function(Bokeh) {\n",
       "    \n",
       "    \n",
       "    }\n",
       "  ];\n",
       "\n",
       "  function run_inline_js() {\n",
       "    \n",
       "    if (root.Bokeh !== undefined || force === true) {\n",
       "      \n",
       "    for (let i = 0; i < inline_js.length; i++) {\n",
       "      inline_js[i].call(root, root.Bokeh);\n",
       "    }\n",
       "    if (force === true) {\n",
       "        display_loaded();\n",
       "      }} else if (Date.now() < root._bokeh_timeout) {\n",
       "      setTimeout(run_inline_js, 100);\n",
       "    } else if (!root._bokeh_failed_load) {\n",
       "      console.log(\"Bokeh: BokehJS failed to load within specified timeout.\");\n",
       "      root._bokeh_failed_load = true;\n",
       "    } else if (force !== true) {\n",
       "      const cell = $(document.getElementById(\"1002\")).parents('.cell').data().cell;\n",
       "      cell.output_area.append_execute_result(NB_LOAD_WARNING)\n",
       "    }\n",
       "\n",
       "  }\n",
       "\n",
       "  if (root._bokeh_is_loading === 0) {\n",
       "    console.debug(\"Bokeh: BokehJS loaded, going straight to plotting\");\n",
       "    run_inline_js();\n",
       "  } else {\n",
       "    load_libs(css_urls, js_urls, function() {\n",
       "      console.debug(\"Bokeh: BokehJS plotting callback run at\", now());\n",
       "      run_inline_js();\n",
       "    });\n",
       "  }\n",
       "}(window));"
      ],
      "application/vnd.bokehjs_load.v0+json": "\n(function(root) {\n  function now() {\n    return new Date();\n  }\n\n  const force = true;\n\n  if (typeof root._bokeh_onload_callbacks === \"undefined\" || force === true) {\n    root._bokeh_onload_callbacks = [];\n    root._bokeh_is_loading = undefined;\n  }\n\n  \n\n  \n  if (typeof (root._bokeh_timeout) === \"undefined\" || force === true) {\n    root._bokeh_timeout = Date.now() + 5000;\n    root._bokeh_failed_load = false;\n  }\n\n  const NB_LOAD_WARNING = {'data': {'text/html':\n     \"<div style='background-color: #fdd'>\\n\"+\n     \"<p>\\n\"+\n     \"BokehJS does not appear to have successfully loaded. If loading BokehJS from CDN, this \\n\"+\n     \"may be due to a slow or bad network connection. Possible fixes:\\n\"+\n     \"</p>\\n\"+\n     \"<ul>\\n\"+\n     \"<li>re-rerun `output_notebook()` to attempt to load from CDN again, or</li>\\n\"+\n     \"<li>use INLINE resources instead, as so:</li>\\n\"+\n     \"</ul>\\n\"+\n     \"<code>\\n\"+\n     \"from bokeh.resources import INLINE\\n\"+\n     \"output_notebook(resources=INLINE)\\n\"+\n     \"</code>\\n\"+\n     \"</div>\"}};\n\n  function display_loaded() {\n    const el = document.getElementById(\"1002\");\n    if (el != null) {\n      el.textContent = \"BokehJS is loading...\";\n    }\n    if (root.Bokeh !== undefined) {\n      if (el != null) {\n        el.textContent = \"BokehJS \" + root.Bokeh.version + \" successfully loaded.\";\n      }\n    } else if (Date.now() < root._bokeh_timeout) {\n      setTimeout(display_loaded, 100)\n    }\n  }\n\n\n  function run_callbacks() {\n    try {\n      root._bokeh_onload_callbacks.forEach(function(callback) {\n        if (callback != null)\n          callback();\n      });\n    } finally {\n      delete root._bokeh_onload_callbacks\n    }\n    console.debug(\"Bokeh: all callbacks have finished\");\n  }\n\n  function load_libs(css_urls, js_urls, callback) {\n    if (css_urls == null) css_urls = [];\n    if (js_urls == null) js_urls = [];\n\n    root._bokeh_onload_callbacks.push(callback);\n    if (root._bokeh_is_loading > 0) {\n      console.debug(\"Bokeh: BokehJS is being loaded, scheduling callback at\", now());\n      return null;\n    }\n    if (js_urls == null || js_urls.length === 0) {\n      run_callbacks();\n      return null;\n    }\n    console.debug(\"Bokeh: BokehJS not loaded, scheduling load and callback at\", now());\n    root._bokeh_is_loading = css_urls.length + js_urls.length;\n\n    function on_load() {\n      root._bokeh_is_loading--;\n      if (root._bokeh_is_loading === 0) {\n        console.debug(\"Bokeh: all BokehJS libraries/stylesheets loaded\");\n        run_callbacks()\n      }\n    }\n\n    function on_error(url) {\n      console.error(\"failed to load \" + url);\n    }\n\n    for (let i = 0; i < css_urls.length; i++) {\n      const url = css_urls[i];\n      const element = document.createElement(\"link\");\n      element.onload = on_load;\n      element.onerror = on_error.bind(null, url);\n      element.rel = \"stylesheet\";\n      element.type = \"text/css\";\n      element.href = url;\n      console.debug(\"Bokeh: injecting link tag for BokehJS stylesheet: \", url);\n      document.body.appendChild(element);\n    }\n\n    for (let i = 0; i < js_urls.length; i++) {\n      const url = js_urls[i];\n      const element = document.createElement('script');\n      element.onload = on_load;\n      element.onerror = on_error.bind(null, url);\n      element.async = false;\n      element.src = url;\n      console.debug(\"Bokeh: injecting script tag for BokehJS library: \", url);\n      document.head.appendChild(element);\n    }\n  };\n\n  function inject_raw_css(css) {\n    const element = document.createElement(\"style\");\n    element.appendChild(document.createTextNode(css));\n    document.body.appendChild(element);\n  }\n\n  \n  const js_urls = [\"https://cdn.bokeh.org/bokeh/release/bokeh-2.4.2.min.js\", \"https://cdn.bokeh.org/bokeh/release/bokeh-gl-2.4.2.min.js\", \"https://cdn.bokeh.org/bokeh/release/bokeh-widgets-2.4.2.min.js\", \"https://cdn.bokeh.org/bokeh/release/bokeh-tables-2.4.2.min.js\", \"https://cdn.bokeh.org/bokeh/release/bokeh-mathjax-2.4.2.min.js\"];\n  const css_urls = [];\n  \n\n  const inline_js = [\n    function(Bokeh) {\n      Bokeh.set_log_level(\"info\");\n    },\n    function(Bokeh) {\n    \n    \n    }\n  ];\n\n  function run_inline_js() {\n    \n    if (root.Bokeh !== undefined || force === true) {\n      \n    for (let i = 0; i < inline_js.length; i++) {\n      inline_js[i].call(root, root.Bokeh);\n    }\n    if (force === true) {\n        display_loaded();\n      }} else if (Date.now() < root._bokeh_timeout) {\n      setTimeout(run_inline_js, 100);\n    } else if (!root._bokeh_failed_load) {\n      console.log(\"Bokeh: BokehJS failed to load within specified timeout.\");\n      root._bokeh_failed_load = true;\n    } else if (force !== true) {\n      const cell = $(document.getElementById(\"1002\")).parents('.cell').data().cell;\n      cell.output_area.append_execute_result(NB_LOAD_WARNING)\n    }\n\n  }\n\n  if (root._bokeh_is_loading === 0) {\n    console.debug(\"Bokeh: BokehJS loaded, going straight to plotting\");\n    run_inline_js();\n  } else {\n    load_libs(css_urls, js_urls, function() {\n      console.debug(\"Bokeh: BokehJS plotting callback run at\", now());\n      run_inline_js();\n    });\n  }\n}(window));"
     },
     "metadata": {},
     "output_type": "display_data"
    }
   ],
   "source": [
    "# Colab setup ------------------\n",
    "import os, sys\n",
    "if \"google.colab\" in sys.modules:\n",
    "    data_path = \"https://biocircuits.github.io/chapters/data/\"\n",
    "else:\n",
    "    data_path = \"data/\"\n",
    "# ------------------------------\n",
    "\n",
    "import numpy as np\n",
    "import pandas as pd\n",
    "\n",
    "import bokeh.models\n",
    "import bokeh.plotting\n",
    "import bokeh.io\n",
    "\n",
    "bokeh.io.output_notebook()"
   ]
  },
  {
   "cell_type": "markdown",
   "metadata": {},
   "source": [
    "<hr>"
   ]
  },
  {
   "cell_type": "markdown",
   "metadata": {},
   "source": [
    "So far, for the most part, we have treated circuits in the cell as if they are continuous and deterministic. We have written  systems of ordinary differential equations to describe the dynamics of mRNA and protein concentrations in cells. This framework ignores the discreteness of molecules, and the stochastic (intrinsically random) nature of molecular interactions. It would be a perfectly reasonable approximation if cells were macroscopic systems with very large numbers of copies of each molecular species. However, most living cells are not macroscopic. They are small — a bacterial cell has a volume of a femtoliter ($10^{-15}$ liters). Small size has consequences. Unpredictable fluctuations in the number of copies of a protein—biological \"**noise**\"—can dramatically affect the behavior of the cell. To detect, quantify, and model systems with noise, we will need new experimental, computational, and mathematical approaches.\n",
    "\n",
    "Over the next chapters we will focus on understanding the sources and dynamics of noise, methods to analyze noise, and the potentially useful functional roles of noise in biological systems. To do so, we will use the mathematical machinery of probability, which is an essential tool for diverse problems in biology."
   ]
  },
  {
   "cell_type": "markdown",
   "metadata": {},
   "source": [
    "## Noise is present in genetic circuits, and cells are like burritos\n",
    "\n",
    "One cell may seem at first glance identical to any other cell living alongside it in the same conditions.  However, if we could somehow look inside each cell, and observe the various molecular species populating each cell, we would notice dramatic variations from cell to cell. In part, this is because the number of copies of many proteins and mRNA molecules in the cell are small. [Wi and coworkers (_Cell_, 2014)](http://dx.doi.org/10.1016/j.cell.2014.02.033) used ribosome profiling to obtain estimates for absolute protein counts of various transcription factors in bacteria. They found that half of repressors have copy numbers below 100 per genome equivalent and 90% of activators do as well. About 10% of repressors and 50% of activators have copy numbers of 10 or below. These numbers are small, difficult for the cell to control precisely, and therefore susceptible to fluctuations.\n",
    "\n",
    "\n",
    "<!--\n",
    "Their counts are shown in the empirical cumulative distribution function below, adapted from the paper.\n",
    "\n",
    "\n",
    "<div style=\"margin: auto; width: 250px\">\n",
    "    \n",
    "![Wi copy numbers](figs/wi_copy_number.png)\n",
    "\n",
    "</div>\n",
    "\n",
    "\n",
    "As evident in the figure, half of repressors have copy numbers below 100 and 90% of activators do as well. \n",
    "-->\n",
    "\n",
    "\n",
    "\n",
    "Roughly speaking, we can call random deviations from what we might expect in a deterministic view of gene expression **stochasticity**, or **noise**. Nearly all cellular processes are susceptible to noise for a host of reasons, especially low copy numbers of molecular regulators of gene expression. We will provide a more careful definition of noise momentarily.\n",
    "\n",
    "But first, consider the \"model\" of an *E. coli* cell depicted below. From the outside (left image), it appears as a simple rod-shaped object, encapsulating what one might incorrectly assume is a homogeneous well-mixed continuum of biochemical mush inside. However, if we were to slice open the cell (right image), the low copy numbers of certain molecules and their spatial heterogenetiy become apparent. Within each cell, the copy numbers and locations of different molecules can vary dramatically over time, just as they vary from cell to cell. Like burritos, no two cells are completely identical. (Unlike this burrito, most bacteria lack cheese in their periplasm.)\n",
    "\n",
    "\n",
    "<div style=\"margin: auto; width: 500px\">\n",
    "    \n",
    "![Michael's epiphanic burrito](figs/burrito.jpg)    \n",
    "    \n",
    "</div>"
   ]
  },
  {
   "cell_type": "markdown",
   "metadata": {},
   "source": [
    "## Early approaches to detecting and quantifying cellular variation\n",
    "\n",
    "An early non-cellular demonstration of how fluctuations in molecule numbers between cells could produce large fluctuations in molecular states was performed by Boris Rotman ([PNAS, 1961](https://doi.org/10.1073/pnas.47.12.1981)). Seeking to test whether individual enzyme molecules had identical activities, he diluted β-D-galactosidase down in liquid droplets, with a mean concentration of ~1 molecule per droplet and then assayed their activitity in each droplet. The activity measurement used a fluorescent substrate 6HFP, which glows green when it is cleaved by β-D-galactosidase. \n",
    "\n",
    "<div style=\"margin: auto; width: 250px\">\n",
    "    \n",
    "![Rotman drops](figs/rotman_drops.png)    \n",
    "    \n",
    "</div>\n",
    "\n",
    "Drops showed quantized activities proportional to the number of enzyme copies in the droplet. Looking at the drops, the heterogeneity in cleaved substrate is striking. It vividly demonstrates how the regime of low copy numbers of molecules produce variable responses. But this is just an inaminate droplet. Do analogous sources of variation occur in living cells? \n",
    "\n",
    "Stepping back a few years, in 1945, Max Delbrück sought to [quantify the origins of heterogenity](https://www.ncbi.nlm.nih.gov/pmc/articles/PMC374120/) in a biological process—the infection of E. coli by phages. He measured the number of new phage particles produced when a single phage infected an individual cell. The distribution of this \"burst size\" was broad, spanning a range from 20 to more than 1000. If phage infection were a deterministic process, and phage particles were identical, and E. coli cells were similar to one another, then why would different infection events produce such wildly different outcomes? Clearly, at least one of these assumptions must be false. But mid-twentieth century tools did not allow one to identify the source of this variation.\n",
    "\n",
    "Later, in 1998, [Arkin, Ross, and McAdams](https://doi.org/10.1093/genetics/149.4.1633) stochastically simulated lambda phage development, and showed that, at least in principle, stochastic noise in the phage infection process, could be sufficient to control the outcome of the decision between lysis and lysogeny after an infection. \n",
    "\n",
    "A major leap in our understanding of how variation originates occurred in 1994, when the gene coding for the green fluorescent protein of Aequorea victoria jellyfish was cloned and expressed in other organisms by [Martin Chalfie and colleagues](https://doi.org/10.1126/science.8303295). Suddenly it became possible to follow gene expression in individual living cells. Discoveries that were previously impossible now became inevitable, and nowhere more so than in the study of noise. Green fluorescent protein and a growing palette of multi-colored derivatives revealed heterogeneity directly. For example, in the image below, we see individual _E. coli_ cells, each expressing yellow fluorescent protein (YFP) under control of the LacI promoter. Although these cells come from a clonal population, they vary vary dramatically in their fluoescent intensity. This provides a direct view of heterogeneity in the expression of a single gene.\n",
    "\n",
    "<div style=\"margin: auto; width: 350px\">\n",
    "    \n",
    "![YFP noise](figs/yfp_noise.png)    \n",
    "    \n",
    "</div>\n",
    "\n",
    "This sort of gene expression heterogeneity is ubiquitous across diverse cellular systems, including [bacteria](https://doi.org/10.1126/science.1070919), [yeast](https://doi.org/10.1126/science.1098641), and [mammals](https://doi.org/10.1146/annurev.biophys.37.032807.125928). Even within a [multinucleate muscle cell](https://doi.org/10.1101/gad.12.17.2748), different nuclei can show different expression levels of the same gene. \n",
    "\n",
    "But we have to be careful. Heterogeneity could arise in many ways, not all of which we would consider biological \"noise.\" For example, different cells might find themselves in slightly different environments, encountering different concentrations of signaling molecules. Even if they were behaving deterministically, these differences could activate different gene expression responses or other cellular behaviors. By biological noise, we have in mind stochastic processes operating within the cell that would continue to generate heterogeneity, even if environmental conditions could somehow be held perfectly constant. \n"
   ]
  },
  {
   "cell_type": "markdown",
   "metadata": {},
   "source": [
    "## Two colors allow analysis of stochastic noise in gene expression\n",
    "\n",
    "Consider the following thought experiment: Imagine a population of exactly identical cells, all placed in identical environments. A little while later, we check back on these cells and see what has happened to them. If cellular behavior is deterministic, then the cells might have changed—grown longer, for example, or added a few flagella—but they would have all changed in precisely the same way and therefore remained identical to one another. On the other hand,  stochasticity, or noise, could cause the properties of these cells to diverge over time. For instance, a stochastic fluctuation in the concentration of a transcription factor in one cell could activate genes that would not be activated in another cell. Thus, if we could prepare two cells in identical states, place them in identical environments, and then monitor them over time, we could detect the effects of noise on their development.\n",
    "\n",
    "This is an appealing conceptual way to define noise, but infeasible experimentally. The problem is that there is no way to prepare two cells in the same state. Even two sister cells—as closely related as cells can be—show clear observable differences in size, shape, and other properties.\n",
    "\n",
    "While we cannot put two identical cells in the same environment, we _can_ put two (nearly) identical _genes_ in the same _cell_. This is conceptually related, and allows us to think of these two genes as two independent stochastic samples of the same underlying process. If gene expression is a deterministic process that is influenced by the state of the cell, then both copies of the gene should \"feel\" the same intracellular environment and behave identically over time, as in panel A of the image below. Some cells may be more efficient at transcribing or translating genes, but that condition should effect both colors similarly. On the other hand, if the process of transcription or translation is noisy, then expression of each gene could fluctuate independently, producing very different levels of the two proteins in the same cell, as in panel B. \n",
    "\n",
    "\n",
    "<div style=\"margin: auto; width: 450px\">\n",
    "    \n",
    "![intrinsic/extrinsic noise](figs/int_ext.png)    \n",
    "    \n",
    "</div>\n",
    "\n",
    "\n",
    "\n",
    "To perform this experiment, Elowitz et al developed [a system](https://doi.org/10.1126/science.1070919) in which identical promoters were used to express two distinguishable fluorescent proteins of different colors, cyan (CFP) and yellow (YFP). These two genes are nearly identical, differing only in a few point mutations. The authors were careful to integrate the two genes at opposite points in the chromosome, equidistant from the origin of replication, to maintain similar mean gene copy numbers. They also verified that the overall fluorescence distributions across the cell population were statistically indistinguishable, as long as the fluorescence units of one cell were rescaled to match those of the other. \n",
    "\n",
    "A typical result is shown in the images below.\n",
    "\n",
    "<div style=\"margin: auto; width: 450px\">\n",
    "    \n",
    "![cell noise](figs/cell_noise.png)    \n",
    "    \n",
    "</div>\n",
    "\n",
    "\n",
    "We can see that in some cells, both the CFP and YFP levels are high (yellow in the merge), but in other cases, the CFP and YFP levels differ in expression (green or red in the merge). These images reveal that two genes can show at least partly independent variation in expression. In a sense, they are portraits of noise.\n",
    "\n",
    "The rest of this chapter addresses how measurements like these can be used to discriminate and measure different sources of noise.\n"
   ]
  },
  {
   "cell_type": "markdown",
   "metadata": {},
   "source": [
    "\n",
    "## Two flavors of noise: intrinsic and extrinsic\n",
    "\n",
    "Now that we have a framework for experimentally analyzing gene expression noise, we can think more carefully about how to define it. \n",
    "\n",
    "Consider one gene product of interest in these cells (such as YFP in the image above). We can define the **total noise**, $\\eta_\\mathrm{tot}$, as the **coefficient of variation** of the copy numbers of the gene product. The coefficient of variation is the standard deviation of the copy number divided by the mean copy number, or\n",
    "\n",
    "\\begin{align}\n",
    "\\eta_\\mathrm{tot}^2 = \\frac{\\left\\langle n^2\\right\\rangle  - \\left\\langle n\\right\\rangle ^2}{\\left\\langle n\\right\\rangle ^2},\n",
    "\\end{align}\n",
    "\n",
    "where $n$ is the copy number and where $\\langle n \\rangle$ denotes the expectation value of $n$. If the standard deviation is smaller than the mean, as we would expect in the case of systems with large molecule copy numbers, we have low noise. By contrast, if the standard deviation is large compared to the mean, as occurs in smaller systems, noise typically grows. The coefficient of variation is thus a natural way to measure variation. \n",
    "\n",
    "How could these variations in gene expression come about? Fluctuations in the concentrations of polymerases or ribosomes within the cell, or variations in the cellular environment, would all be expected to generated variation in the expression level of both of the genes. We define them as upstream of, or **extrinsic** to, the gene itself. \n",
    "\n",
    "On the other hand, we might also have fluctuations in gene expression due to the inherent stochasticity of the gene expression process itself. For example, within any given time interval, transcription initiation might occur or not at a given gene depending on whether polymerase happens to bind to the promoter and productively initiate transcription. These types of noise represent **intrinsic** noise. More precisely,\n",
    "\n",
    "- **Intrinsic noise** results from stochastic effects in the processes of transcription and translation that occur independently at each copy of the gene. These effects lead to fluctuations in $n(t)$. The fluctuations in the copy number of the protein of interest are due to fluctuations that affect _only_ the gene of interest. Operationally, intrinsic noise leads to uncorrelated variation in two identical genes in the same cellular environment. Intrinsic noise fundamentally limits the precision of regulation.\n",
    "- **Extrinsic noise** results from \"upstream\" variations in other molecular species, such as RNA polymerase, ribosomes, and chemical species in the cell's environment. These factors vary over time and can impact the expression level of both copies of the gene of interest, producing correlated variation in the expression of all target genes they affect. \n",
    "\n",
    "An important realization is that the terms intrinsic and extrinsic are defined relative to a particular system. If the system is a single gene, then variation in the ribosome concentration is an extrinsic feature. On the other hand, if the system of interest is enlarged to include the whole cell, then those same fluctuations could be regarded as intrinsic. \n",
    "\n",
    "A second important point is that noise propagates. Ribosomes are composed of RNA and protein products of genes. If their expresion is intrinsically noisy, it could lead to variations in ribosome levels. Those variations would act as extrinsic noise sources for a typical gene. In this way, noise is continually generated, propagated, and transformed within the cell. "
   ]
  },
  {
   "cell_type": "markdown",
   "metadata": {},
   "source": [
    "\n",
    "<!--\n",
    "\n",
    "deleted text fragment\n",
    "\n",
    "## Experimentally determining intrinsic and extrinsic noise\n",
    "\n",
    "It is difficult to know a priori how intrinsically noisy gene expression will be without measuring it. The problem is that just measuring cell-cell variation does not separate intrinsic noise in the process of gene expression from extrinsic cell-cell variation in key cellular components. Moreover, even if there were no extrinsic noise at all, intrinsic noise can still depend on the relative transcription, translation, and degradation rates, or other factors we are not aware of. Thus, it is critical to actually measure noise to see how it behaves.\n",
    "\n",
    "Delineating intrinsic and extrinsic noise is difficult, if not impossible, by measuring expression of a single gene in a cell. To construct an experiment to study this, we can conduct another thought experiment. Say we put two perfectly molecularly identical cells in the exact same environment and see if they behave similarly. Unfortunately, we cannot do this, because we cannot prepare two perfectly identical cells. \n",
    "\n",
    "-->"
   ]
  },
  {
   "cell_type": "markdown",
   "metadata": {},
   "source": [
    "### Segmentation and scaling of fluorescence\n",
    "\n",
    "We will now consider the problem of experimentally quantifying noise from the two-color experiment images, like those above. First, the images must be **segmented**, which means that each pixel in the image needs to be labeled with a unique number corresponding to which bacterium (or background) it belongs. The phase contrast image is used for this purpose to avoid segmenting on the same signal you are trying to measure. Next, the intensities of the pixels in each channel (CFP and YFP) for each bacterium are summed to give a total intensity. The integrated CFP intensity for cell $i$ is\n",
    "\n",
    "\\begin{align}\n",
    "c_i = c_0 n_{c,i},\n",
    "\\end{align}\n",
    "\n",
    "where $n_{c,i}$ is the copy number of CFP in cell $i$. The constant $c_0$ is determined by the fluorescent yield of YFP, microscope settings, etc. Similarly, the integrated YFP intensity for cell $i$ is\n",
    "\n",
    "\\begin{align}\n",
    "y_i = y_0 n_{y,i}.\n",
    "\\end{align}\n",
    "\n",
    "It is in general very difficult to measure $c_0$ or $y_0$. While we could have more sophisticated statistical models to try to ascertain them, we will instead _scale_ the YFP intensity in our image processing such that\n",
    "\n",
    "\\begin{align}\n",
    "\\langle y \\rangle = \\langle c \\rangle.\n",
    "\\end{align}\n",
    "\n",
    "The _assumption_ in doing so is that the mean copy number of YFP and CFP are equal. This is an important assumption, which hopefully holds because of the careful construction of the promoters on the chromosome, and is one we will rely on going forward.\n",
    "\n",
    "Do do the scaling in practice, if $\\{c_i, y_i\\}$ is the set of $N$ cellular CFP and YFP integrated intensities we measured and \n",
    "\n",
    "\\begin{align}\n",
    "\\bar{c} = \\frac{1}{N}\\sum_{i=1}^N c_i, \\\\[1em]\n",
    "\\bar{y} = \\frac{1}{N}\\sum_{i=1}^N y_i\n",
    "\\end{align}\n",
    "\n",
    "are the arithmetic mean of the CFP and YFP intensities, we adjust\n",
    "\n",
    "\\begin{align}\n",
    "c_i \\leftarrow c_i / \\bar{c},\\\\[1em]\n",
    "y_i \\leftarrow y_i / \\bar{y},\n",
    "\\end{align}\n",
    "\n",
    "which enforces that the means are equal (and both arbitrarily equal to one). With these rescaled intensities, the prefactors connecting the fluorescent intensity to copy number are equal, or $c_0 = y_0$."
   ]
  },
  {
   "cell_type": "markdown",
   "metadata": {},
   "source": [
    "### Plug-in estimates for intrinsic, extrinsic, and total noise\n",
    "\n",
    "As our first approach to estimating the intrinsic and extrinsic noise from our data set $\\{c_i, y_i\\}$, let us assume that we do not know the probability distribution describing $\\{c_i, y_i\\}$. Since we do not know the distribution, we will resort to making **plug-in estimates** of the moments of the distribution to estimate quantities such as $\\langle n^2 \\rangle$. Remember that going forward, we assume that the data have already been properly scaled to have the same mean.\n",
    "\n",
    "To compute the total noise, we need to compute the variance in gene expression. Since both CFP and YFP are on identical promoters, we can group them together as a single species in this calculation. The plug-in estimate for the total variance is then\n",
    "\n",
    "\\begin{align}\n",
    "V_\\mathrm{tot} = \\frac{1}{2N}\\sum_{i=1}^N\\left[\\left(c_i - \\bar{c}\\right)^2 + \\left(y_i - \\bar{y}\\right)^2\\right] = \\frac{1}{2}\\left(\\overline{c^2} - \\bar{c}^2 + \\overline{y^2} - \\bar{y}^2\\right).\n",
    "\\end{align}\n",
    "\n",
    "The factor in the denominator is $2N$ because we have two fluorescent species in each cell.\n",
    "\n",
    "The intrinsic noise comes from within-cell variation. This is quantified by the difference in fluorescence between the CFP and YFP fluorescence in each cell. This variation is quantified by the mean-square difference,\n",
    "\n",
    "\\begin{align}\n",
    "V_\\mathrm{int} = \\frac{1}{2N}\\sum_{i=1}^N\\left(c_i - y_i\\right)^2 = \\frac{1}{2}\\left(\\overline{c^2} + \\overline{y^2}\\right) - \\overline{cy}.\n",
    "\\end{align}\n",
    "\n",
    "Note that we again divide by two because both the CFP and YFP expression are subjected to the same intrinsic noise. Since $V_\\mathrm{int}$ accounts for the intrinsic variance, we define the remainder of the variance to be due to extrinsic noise,\n",
    "\n",
    "\\begin{align}\n",
    "V_\\mathrm{ext} = V_\\mathrm{tot} - V_\\mathrm{int} = \\overline{cy} - \\frac{1}{2}\\left(\\bar{c}^2 + \\bar{y}^2\\right) = \\overline{cy} - \\bar{c}\\bar{y},\n",
    "\\end{align}\n",
    "\n",
    "where in the last equality we have used the fact that $\\bar{c} = \\bar{y}$. We recognize that the extrinsic noise is given by the plug-in estimate for the covariance. We can now write expressions for the plug-in estimates for the noise by dividing these variances by the square of the mean expression, $\\bar{c}\\bar{y}$ (again, because $\\bar{c} = \\bar{y}$).\n",
    "\n",
    "\\begin{align}\n",
    "&\\eta_\\mathrm{tot}^2 = \\frac{V_\\mathrm{tot}}{\\bar{c}\\bar{y}} = \\frac{1}{2\\bar{c}\\bar{y}}\\left(\\overline{c^2} - \\bar{c}^2 + \\overline{y^2} - \\bar{y}^2\\right),\\\\[1em]\n",
    "&\\eta_\\mathrm{int}^2 = \\frac{V_\\mathrm{int}}{\\bar{c}\\bar{y}} = \\frac{1}{2\\bar{c}\\bar{y}}\\left(\\overline{c^2} + \\overline{y^2}\\right) - \\overline{cy}\\\\[1em]\n",
    "&\\eta_\\mathrm{ext}^2 = \\frac{V_\\mathrm{ext}}{\\bar{c}\\bar{y}} = \\frac{\\overline{cy} - \\bar{c}\\bar{y}}{\\bar{c}\\bar{y}}.\n",
    "\\end{align}"
   ]
  },
  {
   "cell_type": "markdown",
   "metadata": {},
   "source": [
    "### Computing the intrinsic and extrinsic noise from experimental data\n",
    "\n",
    "As an example, let us compute the intrinsic and extrinsic noise from experimental data. We will consider two data sets from the [Elowitz, et al. paper](https://doi.org/10.1126/science.1070919), both of which are contained in [this CSV file](data/elowitz_et_al_2002_fig_3a.csv). One set of measurements is for the M22 strain, which has the CFP/YFP under control of LacI setup in _E. coli_ we have previously described. The other set of measurements is for the D22 strain, which has a deletion of the _recA_ gene, which is responsible for rescuing stalled replication forks.\n",
    "\n",
    "Let's plot the two data sets and compare."
   ]
  },
  {
   "cell_type": "code",
   "execution_count": 2,
   "metadata": {
    "tags": [
     "hide-input"
    ]
   },
   "outputs": [
    {
     "data": {
      "text/html": [
       "\n",
       "\n",
       "\n",
       "\n",
       "\n",
       "\n",
       "  <div class=\"bk-root\" id=\"3fcbda92-b1db-47ee-ac2c-f00a3ee6a08b\" data-root-id=\"1003\"></div>\n"
      ]
     },
     "metadata": {},
     "output_type": "display_data"
    },
    {
     "data": {
      "application/javascript": [
       "(function(root) {\n",
       "  function embed_document(root) {\n",
       "    \n",
       "  const docs_json = {\"05b60679-cd55-4dbc-bffd-69c274c508c6\":{\"defs\":[],\"roots\":{\"references\":[{\"attributes\":{\"below\":[{\"id\":\"1012\"}],\"center\":[{\"id\":\"1015\"},{\"id\":\"1019\"},{\"id\":\"1051\"}],\"frame_height\":250,\"frame_width\":250,\"left\":[{\"id\":\"1016\"}],\"renderers\":[{\"id\":\"1038\"},{\"id\":\"1057\"}],\"title\":{\"id\":\"1040\"},\"toolbar\":{\"id\":\"1027\"},\"x_range\":{\"id\":\"1004\"},\"x_scale\":{\"id\":\"1008\"},\"y_range\":{\"id\":\"1006\"},\"y_scale\":{\"id\":\"1010\"}},\"id\":\"1003\",\"subtype\":\"Figure\",\"type\":\"Plot\"},{\"attributes\":{\"coordinates\":null,\"group\":null},\"id\":\"1040\",\"type\":\"Title\"},{\"attributes\":{},\"id\":\"1025\",\"type\":\"HelpTool\"},{\"attributes\":{\"tools\":[{\"id\":\"1020\"},{\"id\":\"1021\"},{\"id\":\"1022\"},{\"id\":\"1023\"},{\"id\":\"1024\"},{\"id\":\"1025\"}]},\"id\":\"1027\",\"type\":\"Toolbar\"},{\"attributes\":{},\"id\":\"1070\",\"type\":\"Selection\"},{\"attributes\":{\"end\":1.4,\"start\":0.675},\"id\":\"1004\",\"type\":\"Range1d\"},{\"attributes\":{},\"id\":\"1021\",\"type\":\"WheelZoomTool\"},{\"attributes\":{\"background_fill_alpha\":0.7,\"click_policy\":\"hide\",\"coordinates\":null,\"group\":null,\"items\":[{\"id\":\"1052\"},{\"id\":\"1072\"}],\"location\":\"bottom_right\"},\"id\":\"1051\",\"type\":\"Legend\"},{\"attributes\":{},\"id\":\"1020\",\"type\":\"PanTool\"},{\"attributes\":{},\"id\":\"1069\",\"type\":\"UnionRenderers\"},{\"attributes\":{\"overlay\":{\"id\":\"1026\"}},\"id\":\"1022\",\"type\":\"BoxZoomTool\"},{\"attributes\":{},\"id\":\"1023\",\"type\":\"SaveTool\"},{\"attributes\":{},\"id\":\"1024\",\"type\":\"ResetTool\"},{\"attributes\":{},\"id\":\"1048\",\"type\":\"UnionRenderers\"},{\"attributes\":{\"data\":{\"x\":{\"__ndarray__\":\"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\",\"dtype\":\"float64\",\"order\":\"little\",\"shape\":[284]},\"y\":{\"__ndarray__\":\"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\",\"dtype\":\"float64\",\"order\":\"little\",\"shape\":[284]}},\"selected\":{\"id\":\"1070\"},\"selection_policy\":{\"id\":\"1069\"}},\"id\":\"1053\",\"type\":\"ColumnDataSource\"},{\"attributes\":{},\"id\":\"1049\",\"type\":\"Selection\"},{\"attributes\":{\"bottom_units\":\"screen\",\"coordinates\":null,\"fill_alpha\":0.5,\"fill_color\":\"lightgrey\",\"group\":null,\"left_units\":\"screen\",\"level\":\"overlay\",\"line_alpha\":1.0,\"line_color\":\"black\",\"line_dash\":[4,4],\"line_width\":2,\"right_units\":\"screen\",\"syncable\":false,\"top_units\":\"screen\"},\"id\":\"1026\",\"type\":\"BoxAnnotation\"},{\"attributes\":{\"label\":{\"value\":\"M22\"},\"renderers\":[{\"id\":\"1038\"}]},\"id\":\"1052\",\"type\":\"LegendItem\"},{\"attributes\":{},\"id\":\"1013\",\"type\":\"BasicTicker\"},{\"attributes\":{},\"id\":\"1044\",\"type\":\"AllLabels\"},{\"attributes\":{\"fill_alpha\":{\"value\":0.2},\"fill_color\":{\"value\":\"#1f77b4\"},\"hatch_alpha\":{\"value\":0.2},\"line_alpha\":{\"value\":0.2},\"line_color\":{\"value\":\"#1f77b4\"},\"x\":{\"field\":\"x\"},\"y\":{\"field\":\"y\"}},\"id\":\"1037\",\"type\":\"Circle\"},{\"attributes\":{},\"id\":\"1010\",\"type\":\"LinearScale\"},{\"attributes\":{\"fill_alpha\":{\"value\":0.1},\"fill_color\":{\"value\":\"#1f77b4\"},\"hatch_alpha\":{\"value\":0.1},\"line_alpha\":{\"value\":0.1},\"line_color\":{\"value\":\"#1f77b4\"},\"x\":{\"field\":\"x\"},\"y\":{\"field\":\"y\"}},\"id\":\"1036\",\"type\":\"Circle\"},{\"attributes\":{\"fill_alpha\":{\"value\":0.3},\"fill_color\":{\"value\":\"orange\"},\"hatch_alpha\":{\"value\":0.3},\"hatch_color\":{\"value\":\"orange\"},\"line_alpha\":{\"value\":0.3},\"line_color\":{\"value\":\"orange\"},\"x\":{\"field\":\"x\"},\"y\":{\"field\":\"y\"}},\"id\":\"1054\",\"type\":\"Circle\"},{\"attributes\":{\"fill_alpha\":{\"value\":0.2},\"fill_color\":{\"value\":\"orange\"},\"hatch_alpha\":{\"value\":0.2},\"hatch_color\":{\"value\":\"orange\"},\"line_alpha\":{\"value\":0.2},\"line_color\":{\"value\":\"orange\"},\"x\":{\"field\":\"x\"},\"y\":{\"field\":\"y\"}},\"id\":\"1056\",\"type\":\"Circle\"},{\"attributes\":{\"source\":{\"id\":\"1053\"}},\"id\":\"1058\",\"type\":\"CDSView\"},{\"attributes\":{\"axis\":{\"id\":\"1016\"},\"coordinates\":null,\"dimension\":1,\"group\":null,\"ticker\":null},\"id\":\"1019\",\"type\":\"Grid\"},{\"attributes\":{},\"id\":\"1046\",\"type\":\"BasicTickFormatter\"},{\"attributes\":{\"data\":{\"x\":{\"__ndarray__\":\"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\",\"dtype\":\"float64\",\"order\":\"little\",\"shape\":[250]},\"y\":{\"__ndarray__\":\"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\",\"dtype\":\"float64\",\"order\":\"little\",\"shape\":[250]}},\"selected\":{\"id\":\"1049\"},\"selection_policy\":{\"id\":\"1048\"}},\"id\":\"1034\",\"type\":\"ColumnDataSource\"},{\"attributes\":{\"axis\":{\"id\":\"1012\"},\"coordinates\":null,\"group\":null,\"ticker\":null},\"id\":\"1015\",\"type\":\"Grid\"},{\"attributes\":{\"label\":{\"value\":\"D22\"},\"renderers\":[{\"id\":\"1057\"}]},\"id\":\"1072\",\"type\":\"LegendItem\"},{\"attributes\":{\"coordinates\":null,\"data_source\":{\"id\":\"1034\"},\"glyph\":{\"id\":\"1035\"},\"group\":null,\"hover_glyph\":null,\"muted_glyph\":{\"id\":\"1037\"},\"nonselection_glyph\":{\"id\":\"1036\"},\"view\":{\"id\":\"1039\"}},\"id\":\"1038\",\"type\":\"GlyphRenderer\"},{\"attributes\":{},\"id\":\"1008\",\"type\":\"LinearScale\"},{\"attributes\":{\"fill_alpha\":{\"value\":0.1},\"fill_color\":{\"value\":\"orange\"},\"hatch_alpha\":{\"value\":0.1},\"hatch_color\":{\"value\":\"orange\"},\"line_alpha\":{\"value\":0.1},\"line_color\":{\"value\":\"orange\"},\"x\":{\"field\":\"x\"},\"y\":{\"field\":\"y\"}},\"id\":\"1055\",\"type\":\"Circle\"},{\"attributes\":{\"end\":1.4,\"start\":0.675},\"id\":\"1006\",\"type\":\"Range1d\"},{\"attributes\":{},\"id\":\"1047\",\"type\":\"AllLabels\"},{\"attributes\":{\"coordinates\":null,\"data_source\":{\"id\":\"1053\"},\"glyph\":{\"id\":\"1054\"},\"group\":null,\"hover_glyph\":null,\"muted_glyph\":{\"id\":\"1056\"},\"nonselection_glyph\":{\"id\":\"1055\"},\"view\":{\"id\":\"1058\"}},\"id\":\"1057\",\"type\":\"GlyphRenderer\"},{\"attributes\":{},\"id\":\"1043\",\"type\":\"BasicTickFormatter\"},{\"attributes\":{\"fill_alpha\":{\"value\":0.3},\"fill_color\":{\"value\":\"#1f77b4\"},\"hatch_alpha\":{\"value\":0.3},\"line_alpha\":{\"value\":0.3},\"line_color\":{\"value\":\"#1f77b4\"},\"x\":{\"field\":\"x\"},\"y\":{\"field\":\"y\"}},\"id\":\"1035\",\"type\":\"Circle\"},{\"attributes\":{\"source\":{\"id\":\"1034\"}},\"id\":\"1039\",\"type\":\"CDSView\"},{\"attributes\":{},\"id\":\"1017\",\"type\":\"BasicTicker\"},{\"attributes\":{\"axis_label\":\"CFP\",\"coordinates\":null,\"formatter\":{\"id\":\"1046\"},\"group\":null,\"major_label_policy\":{\"id\":\"1047\"},\"ticker\":{\"id\":\"1013\"}},\"id\":\"1012\",\"type\":\"LinearAxis\"},{\"attributes\":{\"axis_label\":\"YFP\",\"coordinates\":null,\"formatter\":{\"id\":\"1043\"},\"group\":null,\"major_label_policy\":{\"id\":\"1044\"},\"ticker\":{\"id\":\"1017\"}},\"id\":\"1016\",\"type\":\"LinearAxis\"}],\"root_ids\":[\"1003\"]},\"title\":\"Bokeh Application\",\"version\":\"2.4.2\"}};\n",
       "  const render_items = [{\"docid\":\"05b60679-cd55-4dbc-bffd-69c274c508c6\",\"root_ids\":[\"1003\"],\"roots\":{\"1003\":\"3fcbda92-b1db-47ee-ac2c-f00a3ee6a08b\"}}];\n",
       "  root.Bokeh.embed.embed_items_notebook(docs_json, render_items);\n",
       "\n",
       "  }\n",
       "  if (root.Bokeh !== undefined) {\n",
       "    embed_document(root);\n",
       "  } else {\n",
       "    let attempts = 0;\n",
       "    const timer = setInterval(function(root) {\n",
       "      if (root.Bokeh !== undefined) {\n",
       "        clearInterval(timer);\n",
       "        embed_document(root);\n",
       "      } else {\n",
       "        attempts++;\n",
       "        if (attempts > 100) {\n",
       "          clearInterval(timer);\n",
       "          console.log(\"Bokeh: ERROR: Unable to run BokehJS code because BokehJS library is missing\");\n",
       "        }\n",
       "      }\n",
       "    }, 10, root)\n",
       "  }\n",
       "})(window);"
      ],
      "application/vnd.bokehjs_exec.v0+json": ""
     },
     "metadata": {
      "application/vnd.bokehjs_exec.v0+json": {
       "id": "1003"
      }
     },
     "output_type": "display_data"
    }
   ],
   "source": [
    "# Read in the data set\n",
    "df = pd.read_csv(os.path.join(data_path, \"elowitz_et_al_2002_fig_3a.csv\"))\n",
    "\n",
    "# Extract measurements into Numpy arrays\n",
    "m22_cfp = df.loc[\n",
    "    (df[\"strain\"] == \"m22\") & (df[\"fluorophore\"] == \"cfp\"), \"intensity\"\n",
    "].values\n",
    "m22_yfp = df.loc[\n",
    "    (df[\"strain\"] == \"m22\") & (df[\"fluorophore\"] == \"yfp\"), \"intensity\"\n",
    "].values\n",
    "d22_cfp = df.loc[\n",
    "    (df[\"strain\"] == \"d22\") & (df[\"fluorophore\"] == \"cfp\"), \"intensity\"\n",
    "].values\n",
    "d22_yfp = df.loc[\n",
    "    (df[\"strain\"] == \"d22\") & (df[\"fluorophore\"] == \"yfp\"), \"intensity\"\n",
    "].values\n",
    "\n",
    "# Scale the measurements by their means\n",
    "m22_cfp /= m22_cfp.mean()\n",
    "m22_yfp /= m22_yfp.mean()\n",
    "d22_cfp /= d22_cfp.mean()\n",
    "d22_yfp /= d22_yfp.mean()\n",
    "\n",
    "# Generate plot\n",
    "p = bokeh.plotting.figure(\n",
    "    frame_width=250,\n",
    "    frame_height=250,\n",
    "    x_axis_label=\"CFP\",\n",
    "    y_axis_label=\"YFP\",\n",
    "    x_range=[0.675, 1.4],\n",
    "    y_range=[0.675, 1.4],\n",
    ")\n",
    "p.circle(m22_cfp, m22_yfp, alpha=0.3, legend_label=\"M22\")\n",
    "p.circle(d22_cfp, d22_yfp, color=\"orange\", alpha=0.3, legend_label=\"D22\")\n",
    "p.legend.location = \"bottom_right\"\n",
    "p.legend.click_policy = \"hide\"\n",
    "p.legend.background_fill_alpha = 0.7\n",
    "\n",
    "bokeh.io.show(p)"
   ]
  },
  {
   "cell_type": "markdown",
   "metadata": {},
   "source": [
    "The apparent positive covariance is indicative of the presence of extrinsic noise. We will now proceed to compute plug-in estimates for the intrinsic, extrinsic, and total noise."
   ]
  },
  {
   "cell_type": "code",
   "execution_count": 3,
   "metadata": {},
   "outputs": [
    {
     "name": "stdout",
     "output_type": "stream",
     "text": [
      "\n",
      "M22\n",
      "---\n",
      "intrinsic: 0.0554\n",
      "extrincic: 0.0540\n",
      "total:     0.0774\n",
      "\n",
      "D22\n",
      "---\n",
      "intrinsic: 0.0814\n",
      "extrincic: 0.0809\n",
      "total:     0.1147\n",
      "\n"
     ]
    }
   ],
   "source": [
    "def plugin_noise(c, y):\n",
    "    \"\"\"Plug-in estimates for noise\"\"\"\n",
    "    Vtot = np.var(np.concatenate((c, y)), ddof=0)\n",
    "    Vext = np.cov(c, y, ddof=0)[0, 1]\n",
    "    Vint = Vtot - Vext\n",
    "\n",
    "    return np.sqrt(np.array([Vint, Vext, Vtot]) / c.mean() / y.mean())\n",
    "\n",
    "\n",
    "# Compute plug-in estimates\n",
    "m22_noise = plugin_noise(m22_cfp, m22_yfp)\n",
    "d22_noise = plugin_noise(d22_cfp, d22_yfp)\n",
    "\n",
    "# Print the result\n",
    "print(\n",
    "    \"\"\"\n",
    "M22\n",
    "---\n",
    "intrinsic: {0:.4f}\n",
    "extrincic: {1:.4f}\n",
    "total:     {2:.4f}\n",
    "\n",
    "D22\n",
    "---\n",
    "intrinsic: {3:.4f}\n",
    "extrincic: {4:.4f}\n",
    "total:     {5:.4f}\n",
    "\"\"\".format(\n",
    "        *m22_noise, *d22_noise\n",
    "    )\n",
    ")"
   ]
  },
  {
   "cell_type": "markdown",
   "metadata": {},
   "source": [
    "We can compute confidence intervals on these values using pairs bootstrap."
   ]
  },
  {
   "cell_type": "code",
   "execution_count": 4,
   "metadata": {},
   "outputs": [],
   "source": [
    "# Random number generator for resampling\n",
    "rng = np.random.default_rng()\n",
    "\n",
    "# Function to draw a pairs bootstrap replicate\n",
    "def draw_bs_rep(c, y):\n",
    "    bs_inds = rng.choice(np.arange(len(c)), len(c))\n",
    "    bs_c, bs_y = c[bs_inds], y[bs_inds]\n",
    "    return plugin_noise(bs_c, bs_y)\n",
    "\n",
    "\n",
    "# Generate bootstrap replicates\n",
    "n_reps = 100000\n",
    "m22_reps = np.array([draw_bs_rep(m22_cfp, m22_yfp) for _ in range(n_reps)])\n",
    "d22_reps = np.array([draw_bs_rep(d22_cfp, d22_yfp) for _ in range(n_reps)])\n",
    "\n",
    "# Compute 95% confidence interval\n",
    "m22_confint = np.percentile(m22_reps, [2.5, 97.5], axis=0)\n",
    "d22_confint = np.percentile(d22_reps, [2.5, 97.5], axis=0)"
   ]
  },
  {
   "cell_type": "markdown",
   "metadata": {},
   "source": [
    "Now that we have the confidence intervals, we can plot our estimates for the noise with the 95% confidence interval."
   ]
  },
  {
   "cell_type": "code",
   "execution_count": 5,
   "metadata": {
    "tags": [
     "hide-input"
    ]
   },
   "outputs": [
    {
     "data": {
      "text/html": [
       "\n",
       "\n",
       "\n",
       "\n",
       "\n",
       "\n",
       "  <div class=\"bk-root\" id=\"11f9c666-8c78-4af2-bc18-2f4dab3f8d0f\" data-root-id=\"1153\"></div>\n"
      ]
     },
     "metadata": {},
     "output_type": "display_data"
    },
    {
     "data": {
      "application/javascript": [
       "(function(root) {\n",
       "  function embed_document(root) {\n",
       "    \n",
       "  const docs_json = {\"27792c79-9d2e-4204-b0af-dfc87808e0c9\":{\"defs\":[],\"roots\":{\"references\":[{\"attributes\":{\"below\":[{\"id\":\"1161\"}],\"center\":[{\"id\":\"1164\"},{\"id\":\"1167\"}],\"height\":200,\"left\":[{\"id\":\"1165\"}],\"renderers\":[{\"id\":\"1186\"},{\"id\":\"1192\"},{\"id\":\"1198\"},{\"id\":\"1204\"},{\"id\":\"1210\"},{\"id\":\"1216\"},{\"id\":\"1222\"}],\"title\":{\"id\":\"1237\"},\"toolbar\":{\"id\":\"1175\"},\"x_range\":{\"id\":\"1154\"},\"x_scale\":{\"id\":\"1157\"},\"y_range\":{\"id\":\"1151\"},\"y_scale\":{\"id\":\"1159\"}},\"id\":\"1153\",\"subtype\":\"Figure\",\"type\":\"Plot\"},{\"attributes\":{\"coordinates\":null,\"data_source\":{\"id\":\"1152\"},\"glyph\":{\"id\":\"1183\"},\"group\":null,\"hover_glyph\":null,\"muted_glyph\":{\"id\":\"1185\"},\"nonselection_glyph\":{\"id\":\"1184\"},\"view\":{\"id\":\"1187\"}},\"id\":\"1186\",\"type\":\"GlyphRenderer\"},{\"attributes\":{\"coordinates\":null,\"data_source\":{\"id\":\"1194\"},\"glyph\":{\"id\":\"1195\"},\"group\":null,\"hover_glyph\":null,\"muted_glyph\":{\"id\":\"1197\"},\"nonselection_glyph\":{\"id\":\"1196\"},\"view\":{\"id\":\"1199\"}},\"id\":\"1198\",\"type\":\"GlyphRenderer\"},{\"attributes\":{},\"id\":\"1251\",\"type\":\"UnionRenderers\"},{\"attributes\":{\"line_color\":\"#1f77b4\",\"line_width\":2,\"x\":{\"field\":\"x\"},\"y\":{\"field\":\"y\"}},\"id\":\"1195\",\"type\":\"Line\"},{\"attributes\":{\"source\":{\"id\":\"1152\"}},\"id\":\"1187\",\"type\":\"CDSView\"},{\"attributes\":{},\"id\":\"1252\",\"type\":\"Selection\"},{\"attributes\":{\"coordinates\":null,\"group\":null},\"id\":\"1237\",\"type\":\"Title\"},{\"attributes\":{\"data\":{\"x\":[0.04670681544382834,0.06032527568843203],\"y\":[[\"M22\",\"extrinsic\"],[\"M22\",\"extrinsic\"]]},\"selected\":{\"id\":\"1250\"},\"selection_policy\":{\"id\":\"1249\"}},\"id\":\"1194\",\"type\":\"ColumnDataSource\"},{\"attributes\":{},\"id\":\"1240\",\"type\":\"CategoricalTickFormatter\"},{\"attributes\":{\"coordinates\":null,\"data_source\":{\"id\":\"1212\"},\"glyph\":{\"id\":\"1213\"},\"group\":null,\"hover_glyph\":null,\"muted_glyph\":{\"id\":\"1215\"},\"nonselection_glyph\":{\"id\":\"1214\"},\"view\":{\"id\":\"1217\"}},\"id\":\"1216\",\"type\":\"GlyphRenderer\"},{\"attributes\":{\"coordinates\":null,\"data_source\":{\"id\":\"1188\"},\"glyph\":{\"id\":\"1189\"},\"group\":null,\"hover_glyph\":null,\"muted_glyph\":{\"id\":\"1191\"},\"nonselection_glyph\":{\"id\":\"1190\"},\"view\":{\"id\":\"1193\"}},\"id\":\"1192\",\"type\":\"GlyphRenderer\"},{\"attributes\":{\"data\":{\"x\":[0.050042439749316756,0.06078068166229178],\"y\":[[\"M22\",\"intrinsic\"],[\"M22\",\"intrinsic\"]]},\"selected\":{\"id\":\"1248\"},\"selection_policy\":{\"id\":\"1247\"}},\"id\":\"1188\",\"type\":\"ColumnDataSource\"},{\"attributes\":{},\"id\":\"1241\",\"type\":\"AllLabels\"},{\"attributes\":{\"line_color\":\"#1f77b4\",\"line_width\":2,\"x\":{\"field\":\"x\"},\"y\":{\"field\":\"y\"}},\"id\":\"1189\",\"type\":\"Line\"},{\"attributes\":{\"fill_alpha\":{\"value\":0.1},\"fill_color\":{\"value\":\"#1f77b4\"},\"hatch_alpha\":{\"value\":0.1},\"line_alpha\":{\"value\":0.1},\"line_color\":{\"value\":\"#1f77b4\"},\"x\":{\"field\":\"plugin\"},\"y\":{\"field\":\"strain_noise\"}},\"id\":\"1184\",\"type\":\"Circle\"},{\"attributes\":{\"coordinates\":null,\"data_source\":{\"id\":\"1200\"},\"glyph\":{\"id\":\"1201\"},\"group\":null,\"hover_glyph\":null,\"muted_glyph\":{\"id\":\"1203\"},\"nonselection_glyph\":{\"id\":\"1202\"},\"view\":{\"id\":\"1205\"}},\"id\":\"1204\",\"type\":\"GlyphRenderer\"},{\"attributes\":{},\"id\":\"1243\",\"type\":\"BasicTickFormatter\"},{\"attributes\":{\"line_alpha\":0.1,\"line_color\":\"#1f77b4\",\"line_width\":2,\"x\":{\"field\":\"x\"},\"y\":{\"field\":\"y\"}},\"id\":\"1202\",\"type\":\"Line\"},{\"attributes\":{\"source\":{\"id\":\"1188\"}},\"id\":\"1193\",\"type\":\"CDSView\"},{\"attributes\":{\"line_alpha\":0.2,\"line_color\":\"#1f77b4\",\"line_width\":2,\"x\":{\"field\":\"x\"},\"y\":{\"field\":\"y\"}},\"id\":\"1197\",\"type\":\"Line\"},{\"attributes\":{},\"id\":\"1244\",\"type\":\"AllLabels\"},{\"attributes\":{\"line_alpha\":0.1,\"line_color\":\"#1f77b4\",\"line_width\":2,\"x\":{\"field\":\"x\"},\"y\":{\"field\":\"y\"}},\"id\":\"1214\",\"type\":\"Line\"},{\"attributes\":{\"line_alpha\":0.2,\"line_color\":\"#1f77b4\",\"line_width\":2,\"x\":{\"field\":\"x\"},\"y\":{\"field\":\"y\"}},\"id\":\"1191\",\"type\":\"Line\"},{\"attributes\":{},\"id\":\"1253\",\"type\":\"UnionRenderers\"},{\"attributes\":{\"line_alpha\":0.1,\"line_color\":\"#1f77b4\",\"line_width\":2,\"x\":{\"field\":\"x\"},\"y\":{\"field\":\"y\"}},\"id\":\"1190\",\"type\":\"Line\"},{\"attributes\":{\"data\":{\"x\":[0.07260786775545361,0.08184026281202143],\"y\":[[\"M22\",\"total\"],[\"M22\",\"total\"]]},\"selected\":{\"id\":\"1252\"},\"selection_policy\":{\"id\":\"1251\"}},\"id\":\"1200\",\"type\":\"ColumnDataSource\"},{\"attributes\":{},\"id\":\"1254\",\"type\":\"Selection\"},{\"attributes\":{\"source\":{\"id\":\"1194\"}},\"id\":\"1199\",\"type\":\"CDSView\"},{\"attributes\":{\"coordinates\":null,\"data_source\":{\"id\":\"1206\"},\"glyph\":{\"id\":\"1207\"},\"group\":null,\"hover_glyph\":null,\"muted_glyph\":{\"id\":\"1209\"},\"nonselection_glyph\":{\"id\":\"1208\"},\"view\":{\"id\":\"1211\"}},\"id\":\"1210\",\"type\":\"GlyphRenderer\"},{\"attributes\":{\"line_color\":\"#1f77b4\",\"line_width\":2,\"x\":{\"field\":\"x\"},\"y\":{\"field\":\"y\"}},\"id\":\"1201\",\"type\":\"Line\"},{\"attributes\":{\"line_alpha\":0.2,\"line_color\":\"#1f77b4\",\"line_width\":2,\"x\":{\"field\":\"x\"},\"y\":{\"field\":\"y\"}},\"id\":\"1203\",\"type\":\"Line\"},{\"attributes\":{\"line_alpha\":0.1,\"line_color\":\"#1f77b4\",\"line_width\":2,\"x\":{\"field\":\"x\"},\"y\":{\"field\":\"y\"}},\"id\":\"1196\",\"type\":\"Line\"},{\"attributes\":{},\"id\":\"1245\",\"type\":\"UnionRenderers\"},{\"attributes\":{\"data\":{\"x\":[0.07227181174689101,0.09043795051012378],\"y\":[[\"D22\",\"intrinsic\"],[\"D22\",\"intrinsic\"]]},\"selected\":{\"id\":\"1254\"},\"selection_policy\":{\"id\":\"1253\"}},\"id\":\"1206\",\"type\":\"ColumnDataSource\"},{\"attributes\":{\"source\":{\"id\":\"1200\"}},\"id\":\"1205\",\"type\":\"CDSView\"},{\"attributes\":{\"data\":{\"x\":[0.06899882767813147,0.09131320494757549],\"y\":[[\"D22\",\"extrinsic\"],[\"D22\",\"extrinsic\"]]},\"selected\":{\"id\":\"1256\"},\"selection_policy\":{\"id\":\"1255\"}},\"id\":\"1212\",\"type\":\"ColumnDataSource\"},{\"attributes\":{\"fill_alpha\":{\"value\":0.2},\"fill_color\":{\"value\":\"#1f77b4\"},\"hatch_alpha\":{\"value\":0.2},\"line_alpha\":{\"value\":0.2},\"line_color\":{\"value\":\"#1f77b4\"},\"x\":{\"field\":\"plugin\"},\"y\":{\"field\":\"strain_noise\"}},\"id\":\"1185\",\"type\":\"Circle\"},{\"attributes\":{},\"id\":\"1246\",\"type\":\"Selection\"},{\"attributes\":{\"line_color\":\"#1f77b4\",\"line_width\":2,\"x\":{\"field\":\"x\"},\"y\":{\"field\":\"y\"}},\"id\":\"1207\",\"type\":\"Line\"},{\"attributes\":{\"line_alpha\":0.2,\"line_color\":\"#1f77b4\",\"line_width\":2,\"x\":{\"field\":\"x\"},\"y\":{\"field\":\"y\"}},\"id\":\"1209\",\"type\":\"Line\"},{\"attributes\":{\"line_alpha\":0.2,\"line_color\":\"#1f77b4\",\"line_width\":2,\"x\":{\"field\":\"x\"},\"y\":{\"field\":\"y\"}},\"id\":\"1215\",\"type\":\"Line\"},{\"attributes\":{\"line_color\":\"#1f77b4\",\"line_width\":2,\"x\":{\"field\":\"x\"},\"y\":{\"field\":\"y\"}},\"id\":\"1213\",\"type\":\"Line\"},{\"attributes\":{\"source\":{\"id\":\"1206\"}},\"id\":\"1211\",\"type\":\"CDSView\"},{\"attributes\":{},\"id\":\"1255\",\"type\":\"UnionRenderers\"},{\"attributes\":{\"source\":{\"id\":\"1218\"}},\"id\":\"1223\",\"type\":\"CDSView\"},{\"attributes\":{\"line_alpha\":0.1,\"line_color\":\"#1f77b4\",\"line_width\":2,\"x\":{\"field\":\"x\"},\"y\":{\"field\":\"y\"}},\"id\":\"1208\",\"type\":\"Line\"},{\"attributes\":{},\"id\":\"1256\",\"type\":\"Selection\"},{\"attributes\":{\"source\":{\"id\":\"1212\"}},\"id\":\"1217\",\"type\":\"CDSView\"},{\"attributes\":{\"line_alpha\":0.2,\"line_color\":\"#1f77b4\",\"line_width\":2,\"x\":{\"field\":\"x\"},\"y\":{\"field\":\"y\"}},\"id\":\"1221\",\"type\":\"Line\"},{\"attributes\":{\"line_alpha\":0.1,\"line_color\":\"#1f77b4\",\"line_width\":2,\"x\":{\"field\":\"x\"},\"y\":{\"field\":\"y\"}},\"id\":\"1220\",\"type\":\"Line\"},{\"attributes\":{},\"id\":\"1247\",\"type\":\"UnionRenderers\"},{\"attributes\":{},\"id\":\"1248\",\"type\":\"Selection\"},{\"attributes\":{},\"id\":\"1257\",\"type\":\"UnionRenderers\"},{\"attributes\":{},\"id\":\"1258\",\"type\":\"Selection\"},{\"attributes\":{},\"id\":\"1249\",\"type\":\"UnionRenderers\"},{\"attributes\":{},\"id\":\"1250\",\"type\":\"Selection\"},{\"attributes\":{\"data\":{\"2.5\":{\"__ndarray__\":\"rk5FpCmfqT/7wKmp9OmnP7IkceFtlrI/ECXgy2eAsj+fBFc86KmxPxdQmkkYXrs/\",\"dtype\":\"float64\",\"order\":\"little\",\"shape\":[6]},\"97.5\":{\"__ndarray__\":\"wK7vP6Uerz+ecmhc9OKuP7MPRsR787Q/jRzCB/Emtz8rWvFcTWC3P8JeVEEBRr8/\",\"dtype\":\"float64\",\"order\":\"little\",\"shape\":[6]},\"index\":[0,1,2,3,4,5],\"plugin\":{\"__ndarray__\":\"TJdQm/lirD+Z1q+bGaOrP8I7kJ0kz7M/Wjza0wrUtD9OK83peLa0P0jVKjfEX70/\",\"dtype\":\"float64\",\"order\":\"little\",\"shape\":[6]},\"strain_noise\":[[\"M22\",\"intrinsic\"],[\"M22\",\"extrinsic\"],[\"M22\",\"total\"],[\"D22\",\"intrinsic\"],[\"D22\",\"extrinsic\"],[\"D22\",\"total\"]]},\"selected\":{\"id\":\"1246\"},\"selection_policy\":{\"id\":\"1245\"}},\"id\":\"1152\",\"type\":\"ColumnDataSource\"},{\"attributes\":{\"data\":{\"x\":[0.10690452382033332,0.12216194004974582],\"y\":[[\"D22\",\"total\"],[\"D22\",\"total\"]]},\"selected\":{\"id\":\"1258\"},\"selection_policy\":{\"id\":\"1257\"}},\"id\":\"1218\",\"type\":\"ColumnDataSource\"},{\"attributes\":{},\"id\":\"1157\",\"type\":\"LinearScale\"},{\"attributes\":{},\"id\":\"1154\",\"type\":\"DataRange1d\"},{\"attributes\":{\"line_color\":\"#1f77b4\",\"line_width\":2,\"x\":{\"field\":\"x\"},\"y\":{\"field\":\"y\"}},\"id\":\"1219\",\"type\":\"Line\"},{\"attributes\":{\"fill_color\":{\"value\":\"#1f77b4\"},\"line_color\":{\"value\":\"#1f77b4\"},\"x\":{\"field\":\"plugin\"},\"y\":{\"field\":\"strain_noise\"}},\"id\":\"1183\",\"type\":\"Circle\"},{\"attributes\":{\"factors\":[[\"D22\",\"total\"],[\"D22\",\"extrinsic\"],[\"D22\",\"intrinsic\"],[\"M22\",\"total\"],[\"M22\",\"extrinsic\"],[\"M22\",\"intrinsic\"]]},\"id\":\"1151\",\"type\":\"FactorRange\"},{\"attributes\":{\"axis_label\":\"noise\",\"coordinates\":null,\"formatter\":{\"id\":\"1243\"},\"group\":null,\"major_label_policy\":{\"id\":\"1244\"},\"ticker\":{\"id\":\"1162\"}},\"id\":\"1161\",\"type\":\"LinearAxis\"},{\"attributes\":{\"tools\":[{\"id\":\"1168\"},{\"id\":\"1169\"},{\"id\":\"1170\"},{\"id\":\"1171\"},{\"id\":\"1172\"},{\"id\":\"1173\"}]},\"id\":\"1175\",\"type\":\"Toolbar\"},{\"attributes\":{\"bottom_units\":\"screen\",\"coordinates\":null,\"fill_alpha\":0.5,\"fill_color\":\"lightgrey\",\"group\":null,\"left_units\":\"screen\",\"level\":\"overlay\",\"line_alpha\":1.0,\"line_color\":\"black\",\"line_dash\":[4,4],\"line_width\":2,\"right_units\":\"screen\",\"syncable\":false,\"top_units\":\"screen\"},\"id\":\"1174\",\"type\":\"BoxAnnotation\"},{\"attributes\":{},\"id\":\"1171\",\"type\":\"SaveTool\"},{\"attributes\":{},\"id\":\"1172\",\"type\":\"ResetTool\"},{\"attributes\":{},\"id\":\"1168\",\"type\":\"PanTool\"},{\"attributes\":{\"overlay\":{\"id\":\"1174\"}},\"id\":\"1170\",\"type\":\"BoxZoomTool\"},{\"attributes\":{},\"id\":\"1159\",\"type\":\"CategoricalScale\"},{\"attributes\":{},\"id\":\"1169\",\"type\":\"WheelZoomTool\"},{\"attributes\":{\"axis\":{\"id\":\"1165\"},\"coordinates\":null,\"dimension\":1,\"group\":null,\"ticker\":null},\"id\":\"1167\",\"type\":\"Grid\"},{\"attributes\":{},\"id\":\"1173\",\"type\":\"HelpTool\"},{\"attributes\":{},\"id\":\"1166\",\"type\":\"CategoricalTicker\"},{\"attributes\":{\"coordinates\":null,\"formatter\":{\"id\":\"1240\"},\"group\":null,\"major_label_policy\":{\"id\":\"1241\"},\"ticker\":{\"id\":\"1166\"}},\"id\":\"1165\",\"type\":\"CategoricalAxis\"},{\"attributes\":{\"axis\":{\"id\":\"1161\"},\"coordinates\":null,\"group\":null,\"ticker\":null},\"id\":\"1164\",\"type\":\"Grid\"},{\"attributes\":{},\"id\":\"1162\",\"type\":\"BasicTicker\"},{\"attributes\":{\"coordinates\":null,\"data_source\":{\"id\":\"1218\"},\"glyph\":{\"id\":\"1219\"},\"group\":null,\"hover_glyph\":null,\"muted_glyph\":{\"id\":\"1221\"},\"nonselection_glyph\":{\"id\":\"1220\"},\"view\":{\"id\":\"1223\"}},\"id\":\"1222\",\"type\":\"GlyphRenderer\"}],\"root_ids\":[\"1153\"]},\"title\":\"Bokeh Application\",\"version\":\"2.4.2\"}};\n",
       "  const render_items = [{\"docid\":\"27792c79-9d2e-4204-b0af-dfc87808e0c9\",\"root_ids\":[\"1153\"],\"roots\":{\"1153\":\"11f9c666-8c78-4af2-bc18-2f4dab3f8d0f\"}}];\n",
       "  root.Bokeh.embed.embed_items_notebook(docs_json, render_items);\n",
       "\n",
       "  }\n",
       "  if (root.Bokeh !== undefined) {\n",
       "    embed_document(root);\n",
       "  } else {\n",
       "    let attempts = 0;\n",
       "    const timer = setInterval(function(root) {\n",
       "      if (root.Bokeh !== undefined) {\n",
       "        clearInterval(timer);\n",
       "        embed_document(root);\n",
       "      } else {\n",
       "        attempts++;\n",
       "        if (attempts > 100) {\n",
       "          clearInterval(timer);\n",
       "          console.log(\"Bokeh: ERROR: Unable to run BokehJS code because BokehJS library is missing\");\n",
       "        }\n",
       "      }\n",
       "    }, 10, root)\n",
       "  }\n",
       "})(window);"
      ],
      "application/vnd.bokehjs_exec.v0+json": ""
     },
     "metadata": {
      "application/vnd.bokehjs_exec.v0+json": {
       "id": "1153"
      }
     },
     "output_type": "display_data"
    }
   ],
   "source": [
    "# Organize results for convenient plotting\n",
    "noises = [\"intrinsic\", \"extrinsic\", \"total\"]\n",
    "strains = [\"M22\", \"D22\"]\n",
    "noise = [m22_noise, d22_noise]\n",
    "confint = [m22_confint.T, d22_confint.T]\n",
    "data = [\n",
    "    ((s, n), confint[i][j, 0], confint[i][j, 1], noise[i][j])\n",
    "    for i, s in enumerate(strains)\n",
    "    for j, n in enumerate(noises)\n",
    "]\n",
    "df_noise = pd.DataFrame(\n",
    "    columns=[\"strain_noise\", \"2.5\", \"97.5\", \"plugin\"], data=data\n",
    ")\n",
    "\n",
    "# Build data source and factor range for plot\n",
    "y_range = bokeh.models.FactorRange(*df_noise[\"strain_noise\"][::-1])\n",
    "source = bokeh.models.ColumnDataSource(df_noise)\n",
    "\n",
    "# Build the plot\n",
    "p = bokeh.plotting.figure(y_range=y_range, height=200, x_axis_label=\"noise\")\n",
    "p.circle(x=\"plugin\", y=\"strain_noise\", source=source)\n",
    "for _, row in df_noise.iterrows():\n",
    "    p.line([row[\"2.5\"], row[\"97.5\"]], [row[\"strain_noise\"]] * 2, line_width=2)\n",
    "\n",
    "bokeh.io.show(p)"
   ]
  },
  {
   "cell_type": "markdown",
   "metadata": {},
   "source": [
    "It is also interesting to plot our bootstrap samples to see how the intrinsic and extrinsic noise are correlated."
   ]
  },
  {
   "cell_type": "code",
   "execution_count": 6,
   "metadata": {
    "tags": [
     "hide-input"
    ]
   },
   "outputs": [
    {
     "data": {
      "text/html": [
       "\n",
       "\n",
       "\n",
       "\n",
       "\n",
       "\n",
       "  <div class=\"bk-root\" id=\"ecc88fb9-1e1b-4f1a-8930-32e1b222307f\" data-root-id=\"1375\"></div>\n"
      ]
     },
     "metadata": {},
     "output_type": "display_data"
    },
    {
     "data": {
      "application/javascript": [
       "(function(root) {\n",
       "  function embed_document(root) {\n",
       "    \n",
       "  const docs_json = {\"1c09bbb4-a6af-4415-bea9-abab08f29de6\":{\"defs\":[],\"roots\":{\"references\":[{\"attributes\":{\"below\":[{\"id\":\"1384\"}],\"center\":[{\"id\":\"1387\"},{\"id\":\"1391\"},{\"id\":\"1423\"}],\"frame_height\":250,\"frame_width\":250,\"left\":[{\"id\":\"1388\"}],\"renderers\":[{\"id\":\"1410\"},{\"id\":\"1429\"}],\"title\":{\"id\":\"1412\"},\"toolbar\":{\"id\":\"1399\"},\"x_range\":{\"id\":\"1376\"},\"x_scale\":{\"id\":\"1380\"},\"y_range\":{\"id\":\"1378\"},\"y_scale\":{\"id\":\"1382\"}},\"id\":\"1375\",\"subtype\":\"Figure\",\"type\":\"Plot\"},{\"attributes\":{},\"id\":\"1442\",\"type\":\"Selection\"},{\"attributes\":{},\"id\":\"1415\",\"type\":\"BasicTickFormatter\"},{\"attributes\":{},\"id\":\"1441\",\"type\":\"UnionRenderers\"},{\"attributes\":{\"overlay\":{\"id\":\"1398\"}},\"id\":\"1394\",\"type\":\"BoxZoomTool\"},{\"attributes\":{},\"id\":\"1416\",\"type\":\"AllLabels\"},{\"attributes\":{},\"id\":\"1396\",\"type\":\"ResetTool\"},{\"attributes\":{},\"id\":\"1418\",\"type\":\"BasicTickFormatter\"},{\"attributes\":{},\"id\":\"1419\",\"type\":\"AllLabels\"},{\"attributes\":{\"bottom_units\":\"screen\",\"coordinates\":null,\"fill_alpha\":0.5,\"fill_color\":\"lightgrey\",\"group\":null,\"left_units\":\"screen\",\"level\":\"overlay\",\"line_alpha\":1.0,\"line_color\":\"black\",\"line_dash\":[4,4],\"line_width\":2,\"right_units\":\"screen\",\"syncable\":false,\"top_units\":\"screen\"},\"id\":\"1398\",\"type\":\"BoxAnnotation\"},{\"attributes\":{\"coordinates\":null,\"group\":null},\"id\":\"1412\",\"type\":\"Title\"},{\"attributes\":{},\"id\":\"1397\",\"type\":\"HelpTool\"},{\"attributes\":{\"axis_label\":\"extrinsic noise\",\"coordinates\":null,\"formatter\":{\"id\":\"1415\"},\"group\":null,\"major_label_policy\":{\"id\":\"1416\"},\"ticker\":{\"id\":\"1389\"}},\"id\":\"1388\",\"type\":\"LinearAxis\"},{\"attributes\":{\"label\":{\"value\":\"M22\"},\"renderers\":[{\"id\":\"1410\"}]},\"id\":\"1424\",\"type\":\"LegendItem\"},{\"attributes\":{\"fill_alpha\":{\"value\":0.1},\"fill_color\":{\"value\":\"#1f77b4\"},\"hatch_alpha\":{\"value\":0.1},\"line_alpha\":{\"value\":0.1},\"line_color\":{\"value\":\"#1f77b4\"},\"x\":{\"field\":\"x\"},\"y\":{\"field\":\"y\"}},\"id\":\"1408\",\"type\":\"Circle\"},{\"attributes\":{\"data\":{\"x\":{\"__ndarray__\":\"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\",\"dtype\":\"float64\",\"order\":\"little\",\"shape\":[2500]},\"y\":{\"__ndarray__\":\"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\",\"dtype\":\"float64\",\"order\":\"little\",\"shape\":[2500]}},\"selected\":{\"id\":\"1442\"},\"selection_policy\":{\"id\":\"1441\"}},\"id\":\"1425\",\"type\":\"ColumnDataSource\"},{\"attributes\":{\"source\":{\"id\":\"1406\"}},\"id\":\"1411\",\"type\":\"CDSView\"},{\"attributes\":{},\"id\":\"1393\",\"type\":\"WheelZoomTool\"},{\"attributes\":{\"fill_alpha\":{\"value\":0.2},\"fill_color\":{\"value\":\"#1f77b4\"},\"hatch_alpha\":{\"value\":0.2},\"line_alpha\":{\"value\":0.2},\"line_color\":{\"value\":\"#1f77b4\"},\"x\":{\"field\":\"x\"},\"y\":{\"field\":\"y\"}},\"id\":\"1409\",\"type\":\"Circle\"},{\"attributes\":{},\"id\":\"1382\",\"type\":\"LinearScale\"},{\"attributes\":{},\"id\":\"1420\",\"type\":\"UnionRenderers\"},{\"attributes\":{\"coordinates\":null,\"data_source\":{\"id\":\"1406\"},\"glyph\":{\"id\":\"1407\"},\"group\":null,\"hover_glyph\":null,\"muted_glyph\":{\"id\":\"1409\"},\"nonselection_glyph\":{\"id\":\"1408\"},\"view\":{\"id\":\"1411\"}},\"id\":\"1410\",\"type\":\"GlyphRenderer\"},{\"attributes\":{\"data\":{\"x\":{\"__ndarray__\":\"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\",\"dtype\":\"float64\",\"order\":\"little\",\"shape\":[2500]},\"y\":{\"__ndarray__\":\"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\",\"dtype\":\"float64\",\"order\":\"little\",\"shape\":[2500]}},\"selected\":{\"id\":\"1421\"},\"selection_policy\":{\"id\":\"1420\"}},\"id\":\"1406\",\"type\":\"ColumnDataSource\"},{\"attributes\":{\"fill_alpha\":{\"value\":0.1},\"fill_color\":{\"value\":\"orange\"},\"hatch_alpha\":{\"value\":0.1},\"hatch_color\":{\"value\":\"orange\"},\"line_alpha\":{\"value\":0.1},\"line_color\":{\"value\":\"orange\"},\"x\":{\"field\":\"x\"},\"y\":{\"field\":\"y\"}},\"id\":\"1426\",\"type\":\"Circle\"},{\"attributes\":{\"tools\":[{\"id\":\"1392\"},{\"id\":\"1393\"},{\"id\":\"1394\"},{\"id\":\"1395\"},{\"id\":\"1396\"},{\"id\":\"1397\"}]},\"id\":\"1399\",\"type\":\"Toolbar\"},{\"attributes\":{},\"id\":\"1421\",\"type\":\"Selection\"},{\"attributes\":{\"axis\":{\"id\":\"1384\"},\"coordinates\":null,\"group\":null,\"ticker\":null},\"id\":\"1387\",\"type\":\"Grid\"},{\"attributes\":{\"source\":{\"id\":\"1425\"}},\"id\":\"1430\",\"type\":\"CDSView\"},{\"attributes\":{\"label\":{\"value\":\"D22\"},\"renderers\":[{\"id\":\"1429\"}]},\"id\":\"1444\",\"type\":\"LegendItem\"},{\"attributes\":{\"fill_alpha\":{\"value\":0.1},\"fill_color\":{\"value\":\"#1f77b4\"},\"hatch_alpha\":{\"value\":0.1},\"line_alpha\":{\"value\":0.1},\"line_color\":{\"value\":\"#1f77b4\"},\"x\":{\"field\":\"x\"},\"y\":{\"field\":\"y\"}},\"id\":\"1407\",\"type\":\"Circle\"},{\"attributes\":{},\"id\":\"1395\",\"type\":\"SaveTool\"},{\"attributes\":{\"axis\":{\"id\":\"1388\"},\"coordinates\":null,\"dimension\":1,\"group\":null,\"ticker\":null},\"id\":\"1391\",\"type\":\"Grid\"},{\"attributes\":{\"fill_alpha\":{\"value\":0.1},\"fill_color\":{\"value\":\"orange\"},\"hatch_alpha\":{\"value\":0.1},\"hatch_color\":{\"value\":\"orange\"},\"line_alpha\":{\"value\":0.1},\"line_color\":{\"value\":\"orange\"},\"x\":{\"field\":\"x\"},\"y\":{\"field\":\"y\"}},\"id\":\"1427\",\"type\":\"Circle\"},{\"attributes\":{},\"id\":\"1389\",\"type\":\"BasicTicker\"},{\"attributes\":{},\"id\":\"1376\",\"type\":\"DataRange1d\"},{\"attributes\":{\"fill_alpha\":{\"value\":0.2},\"fill_color\":{\"value\":\"orange\"},\"hatch_alpha\":{\"value\":0.2},\"hatch_color\":{\"value\":\"orange\"},\"line_alpha\":{\"value\":0.2},\"line_color\":{\"value\":\"orange\"},\"x\":{\"field\":\"x\"},\"y\":{\"field\":\"y\"}},\"id\":\"1428\",\"type\":\"Circle\"},{\"attributes\":{\"axis_label\":\"intrinsic noise\",\"coordinates\":null,\"formatter\":{\"id\":\"1418\"},\"group\":null,\"major_label_policy\":{\"id\":\"1419\"},\"ticker\":{\"id\":\"1385\"}},\"id\":\"1384\",\"type\":\"LinearAxis\"},{\"attributes\":{\"coordinates\":null,\"data_source\":{\"id\":\"1425\"},\"glyph\":{\"id\":\"1426\"},\"group\":null,\"hover_glyph\":null,\"muted_glyph\":{\"id\":\"1428\"},\"nonselection_glyph\":{\"id\":\"1427\"},\"view\":{\"id\":\"1430\"}},\"id\":\"1429\",\"type\":\"GlyphRenderer\"},{\"attributes\":{},\"id\":\"1380\",\"type\":\"LinearScale\"},{\"attributes\":{},\"id\":\"1378\",\"type\":\"DataRange1d\"},{\"attributes\":{\"coordinates\":null,\"group\":null,\"items\":[{\"id\":\"1424\"},{\"id\":\"1444\"}],\"location\":\"bottom_right\"},\"id\":\"1423\",\"type\":\"Legend\"},{\"attributes\":{},\"id\":\"1385\",\"type\":\"BasicTicker\"},{\"attributes\":{},\"id\":\"1392\",\"type\":\"PanTool\"}],\"root_ids\":[\"1375\"]},\"title\":\"Bokeh Application\",\"version\":\"2.4.2\"}};\n",
       "  const render_items = [{\"docid\":\"1c09bbb4-a6af-4415-bea9-abab08f29de6\",\"root_ids\":[\"1375\"],\"roots\":{\"1375\":\"ecc88fb9-1e1b-4f1a-8930-32e1b222307f\"}}];\n",
       "  root.Bokeh.embed.embed_items_notebook(docs_json, render_items);\n",
       "\n",
       "  }\n",
       "  if (root.Bokeh !== undefined) {\n",
       "    embed_document(root);\n",
       "  } else {\n",
       "    let attempts = 0;\n",
       "    const timer = setInterval(function(root) {\n",
       "      if (root.Bokeh !== undefined) {\n",
       "        clearInterval(timer);\n",
       "        embed_document(root);\n",
       "      } else {\n",
       "        attempts++;\n",
       "        if (attempts > 100) {\n",
       "          clearInterval(timer);\n",
       "          console.log(\"Bokeh: ERROR: Unable to run BokehJS code because BokehJS library is missing\");\n",
       "        }\n",
       "      }\n",
       "    }, 10, root)\n",
       "  }\n",
       "})(window);"
      ],
      "application/vnd.bokehjs_exec.v0+json": ""
     },
     "metadata": {
      "application/vnd.bokehjs_exec.v0+json": {
       "id": "1375"
      }
     },
     "output_type": "display_data"
    }
   ],
   "source": [
    "p = bokeh.plotting.figure(\n",
    "    frame_width=250,\n",
    "    frame_height=250,\n",
    "    x_axis_label=\"intrinsic noise\",\n",
    "    y_axis_label=\"extrinsic noise\",\n",
    ")\n",
    "p.circle(m22_reps[::40, 0], m22_reps[::40, 1], alpha=0.1, legend_label=\"M22\")\n",
    "p.circle(\n",
    "    d22_reps[::40, 0],\n",
    "    d22_reps[::40, 1],\n",
    "    alpha=0.1,\n",
    "    color=\"orange\",\n",
    "    legend_label=\"D22\",\n",
    ")\n",
    "p.legend.location = \"bottom_right\"\n",
    "\n",
    "bokeh.io.show(p)"
   ]
  },
  {
   "cell_type": "markdown",
   "metadata": {},
   "source": [
    "There is slight anticorrelation between intrinsic and extrinsic noise."
   ]
  },
  {
   "cell_type": "markdown",
   "metadata": {},
   "source": [
    "### Interpreting the results\n",
    "\n",
    "Apparently, for genes regulated by LacI in _E. coli_, the intrinsic and extrinsic noise are of similar magnitude. The D22 string is inherently noisier, with the noise being about 50% higher than the M22 strain. Importantly, this suggests that the difference in noise is genetically determined. That the role of _recA_ in rescuing stalled replication forks and the fact that it is missing in the D22 strain suggests that the increased noise, both intrinsic and extrinsic, is due to transient copy number differences between different parts of the chromosome."
   ]
  },
  {
   "cell_type": "markdown",
   "metadata": {},
   "source": [
    "## Lower copy numbers lead to more noise\n",
    "\n",
    "In some of the two-color experiments, the authors sought to control the expression of both genes by using an inducible system, in which both promoters were repressed by the LacI protein, which could in turn be inhibited by the inducer IPTG. \n",
    "\n",
    "<div style=\"margin: auto; width: 100px\">\n",
    "    \n",
    "![LacI-CFP-YFP circuit](figs/laci_cfp_yfp_circuit.png)    \n",
    "    \n",
    "</div>\n",
    "\n",
    "\n",
    "By titrating the amount of IPTG, the expression levels of both YFP and CFP gene products may be controlled. Systematically varying ITPG concentration produced the results shown below: "
   ]
  },
  {
   "cell_type": "code",
   "execution_count": 7,
   "metadata": {
    "tags": [
     "hide-input"
    ]
   },
   "outputs": [
    {
     "data": {
      "text/html": [
       "\n",
       "\n",
       "\n",
       "\n",
       "\n",
       "\n",
       "  <div class=\"bk-root\" id=\"5ae0389b-2751-4ddf-9b61-d471dd7bec0b\" data-root-id=\"1559\"></div>\n"
      ]
     },
     "metadata": {},
     "output_type": "display_data"
    },
    {
     "data": {
      "application/javascript": [
       "(function(root) {\n",
       "  function embed_document(root) {\n",
       "    \n",
       "  const docs_json = {\"26083304-1544-40ce-81be-708f5aae3e56\":{\"defs\":[],\"roots\":{\"references\":[{\"attributes\":{\"below\":[{\"id\":\"1568\"}],\"center\":[{\"id\":\"1571\"},{\"id\":\"1575\"},{\"id\":\"1608\"}],\"frame_height\":250,\"frame_width\":350,\"left\":[{\"id\":\"1572\"}],\"renderers\":[{\"id\":\"1595\"},{\"id\":\"1615\"},{\"id\":\"1636\"}],\"title\":{\"id\":\"1597\"},\"toolbar\":{\"id\":\"1583\"},\"x_range\":{\"id\":\"1560\"},\"x_scale\":{\"id\":\"1564\"},\"y_range\":{\"id\":\"1562\"},\"y_scale\":{\"id\":\"1566\"}},\"id\":\"1559\",\"subtype\":\"Figure\",\"type\":\"Plot\"},{\"attributes\":{\"data\":{\"extrinsic noise\":{\"__ndarray__\":\"GqN1VDVB1j+RuMfShy7aP8Tr+gW7Yd0/InGPpQ9d3D+J6q2BrRLYP917uOS4U9Y/ieqtga0S0D8zMzMzMzPLP7sKKT+p9s0/8WPMXUvIyz+7Cik/qfbFPySX/5B++8Y/MiB7vfvjwT+0q5Dyk2qvPw==\",\"dtype\":\"float64\",\"order\":\"little\",\"shape\":[14]},\"index\":[0,1,2,3,4,5,6,7,8,9,10,11,12,13],\"intrinsic noise\":{\"__ndarray__\":\"VaTC2EKQ0z9Wt3pOet/QP4fEPZY+dMk/m6xRD9Howj8dOGdEaW+4PzZZox6i0bU/EK/rF+yGtT+nIhXGFoK8P1a3ek5637A/NlmjHqLRtT/goSjQJ/K0P4fEPZY+dLE/Vrd6TnrfsD/l7QinBS+qPw==\",\"dtype\":\"float64\",\"order\":\"little\",\"shape\":[14]},\"normalized fluorescent intensity\":{\"__ndarray__\":\"XaeRlsrbgT83bFuU2SCDP+uLhLacS5E/rYbEPZY+pD/d0mpI3GOxP9uK/WX35ME/24XmOo20zD+7RPXWwFbRP/5l9+RhodY/fqmfNxWp2D9yp3Sw/s/bPwZHyatzDN4/Di2yne+n4D990LNZ9bnvPw==\",\"dtype\":\"float64\",\"order\":\"little\",\"shape\":[14]},\"total noise\":{\"__ndarray__\":\"0J+6v5Gh3T8pjujl0SXfP0s3F6uHAuA/6GGeBNnl3T+3EFhiAdbYPxNulRPU+9Y/GdWf6DTz0D9C5L6JZ7XOPwmoMcLoIM8/NLIKkPrYzT+hwG46KlXIPwsLyN9klcg/A6Nop6rHwz824v8o03K0Pw==\",\"dtype\":\"float64\",\"order\":\"little\",\"shape\":[14]}},\"selected\":{\"id\":\"1606\"},\"selection_policy\":{\"id\":\"1605\"}},\"id\":\"1590\",\"type\":\"ColumnDataSource\"},{\"attributes\":{},\"id\":\"1577\",\"type\":\"WheelZoomTool\"},{\"attributes\":{},\"id\":\"1605\",\"type\":\"UnionRenderers\"},{\"attributes\":{\"coordinates\":null,\"data_source\":{\"id\":\"1590\"},\"glyph\":{\"id\":\"1592\"},\"group\":null,\"hover_glyph\":null,\"muted_glyph\":{\"id\":\"1594\"},\"nonselection_glyph\":{\"id\":\"1593\"},\"view\":{\"id\":\"1596\"}},\"id\":\"1595\",\"type\":\"GlyphRenderer\"},{\"attributes\":{},\"id\":\"1604\",\"type\":\"AllLabels\"},{\"attributes\":{\"fill_color\":{\"value\":\"orange\"},\"hatch_color\":{\"value\":\"orange\"},\"line_color\":{\"value\":\"orange\"},\"x\":{\"field\":\"normalized fluorescent intensity\"},\"y\":{\"field\":\"extrinsic noise\"}},\"id\":\"1612\",\"type\":\"Circle\"},{\"attributes\":{\"fill_color\":{\"value\":\"#2ca02c\"},\"hatch_color\":{\"value\":\"#2ca02c\"},\"line_color\":{\"value\":\"#2ca02c\"},\"marker\":{\"value\":\"square\"},\"x\":{\"field\":\"normalized fluorescent intensity\"},\"y\":{\"field\":\"total noise\"}},\"id\":\"1633\",\"type\":\"Scatter\"},{\"attributes\":{},\"id\":\"1573\",\"type\":\"BasicTicker\"},{\"attributes\":{\"fill_color\":{\"value\":\"#1f77b4\"},\"line_color\":{\"value\":\"#1f77b4\"},\"x\":{\"field\":\"normalized fluorescent intensity\"},\"y\":{\"field\":\"intrinsic noise\"}},\"id\":\"1592\",\"type\":\"Circle\"},{\"attributes\":{\"label\":{\"value\":\"extrinsic\"},\"renderers\":[{\"id\":\"1615\"}]},\"id\":\"1630\",\"type\":\"LegendItem\"},{\"attributes\":{\"fill_alpha\":{\"value\":0.1},\"fill_color\":{\"value\":\"orange\"},\"hatch_alpha\":{\"value\":0.1},\"hatch_color\":{\"value\":\"orange\"},\"line_alpha\":{\"value\":0.1},\"line_color\":{\"value\":\"orange\"},\"x\":{\"field\":\"normalized fluorescent intensity\"},\"y\":{\"field\":\"extrinsic noise\"}},\"id\":\"1613\",\"type\":\"Circle\"},{\"attributes\":{},\"id\":\"1564\",\"type\":\"LogScale\"},{\"attributes\":{},\"id\":\"1628\",\"type\":\"Selection\"},{\"attributes\":{\"coordinates\":null,\"group\":null},\"id\":\"1597\",\"type\":\"Title\"},{\"attributes\":{\"coordinates\":null,\"group\":null,\"items\":[{\"id\":\"1609\"},{\"id\":\"1630\"},{\"id\":\"1653\"}]},\"id\":\"1608\",\"type\":\"Legend\"},{\"attributes\":{},\"id\":\"1576\",\"type\":\"PanTool\"},{\"attributes\":{\"fill_alpha\":{\"value\":0.1},\"fill_color\":{\"value\":\"#1f77b4\"},\"hatch_alpha\":{\"value\":0.1},\"line_alpha\":{\"value\":0.1},\"line_color\":{\"value\":\"#1f77b4\"},\"x\":{\"field\":\"normalized fluorescent intensity\"},\"y\":{\"field\":\"intrinsic noise\"}},\"id\":\"1593\",\"type\":\"Circle\"},{\"attributes\":{},\"id\":\"1651\",\"type\":\"Selection\"},{\"attributes\":{\"axis\":{\"id\":\"1568\"},\"coordinates\":null,\"group\":null,\"ticker\":null},\"id\":\"1571\",\"type\":\"Grid\"},{\"attributes\":{\"fill_alpha\":{\"value\":0.1},\"fill_color\":{\"value\":\"#2ca02c\"},\"hatch_alpha\":{\"value\":0.1},\"hatch_color\":{\"value\":\"#2ca02c\"},\"line_alpha\":{\"value\":0.1},\"line_color\":{\"value\":\"#2ca02c\"},\"marker\":{\"value\":\"square\"},\"x\":{\"field\":\"normalized fluorescent intensity\"},\"y\":{\"field\":\"total noise\"}},\"id\":\"1634\",\"type\":\"Scatter\"},{\"attributes\":{\"axis_label\":\"noise\",\"coordinates\":null,\"formatter\":{\"id\":\"1600\"},\"group\":null,\"major_label_policy\":{\"id\":\"1601\"},\"ticker\":{\"id\":\"1573\"}},\"id\":\"1572\",\"type\":\"LinearAxis\"},{\"attributes\":{\"source\":{\"id\":\"1631\"}},\"id\":\"1637\",\"type\":\"CDSView\"},{\"attributes\":{\"num_minor_ticks\":10},\"id\":\"1569\",\"type\":\"LogTicker\"},{\"attributes\":{\"tools\":[{\"id\":\"1576\"},{\"id\":\"1577\"},{\"id\":\"1578\"},{\"id\":\"1579\"},{\"id\":\"1580\"},{\"id\":\"1581\"}]},\"id\":\"1583\",\"type\":\"Toolbar\"},{\"attributes\":{\"label\":{\"value\":\"intrinsic\"},\"renderers\":[{\"id\":\"1595\"}]},\"id\":\"1609\",\"type\":\"LegendItem\"},{\"attributes\":{},\"id\":\"1579\",\"type\":\"SaveTool\"},{\"attributes\":{\"label\":{\"value\":\"total\"},\"renderers\":[{\"id\":\"1636\"}]},\"id\":\"1653\",\"type\":\"LegendItem\"},{\"attributes\":{},\"id\":\"1600\",\"type\":\"BasicTickFormatter\"},{\"attributes\":{},\"id\":\"1627\",\"type\":\"UnionRenderers\"},{\"attributes\":{\"data\":{\"extrinsic noise\":{\"__ndarray__\":\"GqN1VDVB1j+RuMfShy7aP8Tr+gW7Yd0/InGPpQ9d3D+J6q2BrRLYP917uOS4U9Y/ieqtga0S0D8zMzMzMzPLP7sKKT+p9s0/8WPMXUvIyz+7Cik/qfbFPySX/5B++8Y/MiB7vfvjwT+0q5Dyk2qvPw==\",\"dtype\":\"float64\",\"order\":\"little\",\"shape\":[14]},\"index\":[0,1,2,3,4,5,6,7,8,9,10,11,12,13],\"intrinsic noise\":{\"__ndarray__\":\"VaTC2EKQ0z9Wt3pOet/QP4fEPZY+dMk/m6xRD9Howj8dOGdEaW+4PzZZox6i0bU/EK/rF+yGtT+nIhXGFoK8P1a3ek5637A/NlmjHqLRtT/goSjQJ/K0P4fEPZY+dLE/Vrd6TnrfsD/l7QinBS+qPw==\",\"dtype\":\"float64\",\"order\":\"little\",\"shape\":[14]},\"normalized fluorescent intensity\":{\"__ndarray__\":\"XaeRlsrbgT83bFuU2SCDP+uLhLacS5E/rYbEPZY+pD/d0mpI3GOxP9uK/WX35ME/24XmOo20zD+7RPXWwFbRP/5l9+RhodY/fqmfNxWp2D9yp3Sw/s/bPwZHyatzDN4/Di2yne+n4D990LNZ9bnvPw==\",\"dtype\":\"float64\",\"order\":\"little\",\"shape\":[14]},\"total noise\":{\"__ndarray__\":\"0J+6v5Gh3T8pjujl0SXfP0s3F6uHAuA/6GGeBNnl3T+3EFhiAdbYPxNulRPU+9Y/GdWf6DTz0D9C5L6JZ7XOPwmoMcLoIM8/NLIKkPrYzT+hwG46KlXIPwsLyN9klcg/A6Nop6rHwz824v8o03K0Pw==\",\"dtype\":\"float64\",\"order\":\"little\",\"shape\":[14]}},\"selected\":{\"id\":\"1651\"},\"selection_policy\":{\"id\":\"1650\"}},\"id\":\"1631\",\"type\":\"ColumnDataSource\"},{\"attributes\":{},\"id\":\"1606\",\"type\":\"Selection\"},{\"attributes\":{},\"id\":\"1566\",\"type\":\"LinearScale\"},{\"attributes\":{},\"id\":\"1601\",\"type\":\"AllLabels\"},{\"attributes\":{\"axis_label\":\"normalized fluorescent intensity\",\"coordinates\":null,\"formatter\":{\"id\":\"1603\"},\"group\":null,\"major_label_policy\":{\"id\":\"1604\"},\"ticker\":{\"id\":\"1569\"}},\"id\":\"1568\",\"type\":\"LogAxis\"},{\"attributes\":{},\"id\":\"1562\",\"type\":\"DataRange1d\"},{\"attributes\":{\"ticker\":null},\"id\":\"1603\",\"type\":\"LogTickFormatter\"},{\"attributes\":{\"bottom_units\":\"screen\",\"coordinates\":null,\"fill_alpha\":0.5,\"fill_color\":\"lightgrey\",\"group\":null,\"left_units\":\"screen\",\"level\":\"overlay\",\"line_alpha\":1.0,\"line_color\":\"black\",\"line_dash\":[4,4],\"line_width\":2,\"right_units\":\"screen\",\"syncable\":false,\"top_units\":\"screen\"},\"id\":\"1582\",\"type\":\"BoxAnnotation\"},{\"attributes\":{\"coordinates\":null,\"data_source\":{\"id\":\"1610\"},\"glyph\":{\"id\":\"1612\"},\"group\":null,\"hover_glyph\":null,\"muted_glyph\":{\"id\":\"1614\"},\"nonselection_glyph\":{\"id\":\"1613\"},\"view\":{\"id\":\"1616\"}},\"id\":\"1615\",\"type\":\"GlyphRenderer\"},{\"attributes\":{\"axis\":{\"id\":\"1572\"},\"coordinates\":null,\"dimension\":1,\"group\":null,\"ticker\":null},\"id\":\"1575\",\"type\":\"Grid\"},{\"attributes\":{\"fill_alpha\":{\"value\":0.2},\"fill_color\":{\"value\":\"orange\"},\"hatch_alpha\":{\"value\":0.2},\"hatch_color\":{\"value\":\"orange\"},\"line_alpha\":{\"value\":0.2},\"line_color\":{\"value\":\"orange\"},\"x\":{\"field\":\"normalized fluorescent intensity\"},\"y\":{\"field\":\"extrinsic noise\"}},\"id\":\"1614\",\"type\":\"Circle\"},{\"attributes\":{\"fill_alpha\":{\"value\":0.2},\"fill_color\":{\"value\":\"#1f77b4\"},\"hatch_alpha\":{\"value\":0.2},\"line_alpha\":{\"value\":0.2},\"line_color\":{\"value\":\"#1f77b4\"},\"x\":{\"field\":\"normalized fluorescent intensity\"},\"y\":{\"field\":\"intrinsic noise\"}},\"id\":\"1594\",\"type\":\"Circle\"},{\"attributes\":{\"source\":{\"id\":\"1610\"}},\"id\":\"1616\",\"type\":\"CDSView\"},{\"attributes\":{\"source\":{\"id\":\"1590\"}},\"id\":\"1596\",\"type\":\"CDSView\"},{\"attributes\":{},\"id\":\"1560\",\"type\":\"DataRange1d\"},{\"attributes\":{},\"id\":\"1650\",\"type\":\"UnionRenderers\"},{\"attributes\":{},\"id\":\"1581\",\"type\":\"HelpTool\"},{\"attributes\":{\"fill_alpha\":{\"value\":0.2},\"fill_color\":{\"value\":\"#2ca02c\"},\"hatch_alpha\":{\"value\":0.2},\"hatch_color\":{\"value\":\"#2ca02c\"},\"line_alpha\":{\"value\":0.2},\"line_color\":{\"value\":\"#2ca02c\"},\"marker\":{\"value\":\"square\"},\"x\":{\"field\":\"normalized fluorescent intensity\"},\"y\":{\"field\":\"total noise\"}},\"id\":\"1635\",\"type\":\"Scatter\"},{\"attributes\":{\"overlay\":{\"id\":\"1582\"}},\"id\":\"1578\",\"type\":\"BoxZoomTool\"},{\"attributes\":{\"data\":{\"extrinsic noise\":{\"__ndarray__\":\"GqN1VDVB1j+RuMfShy7aP8Tr+gW7Yd0/InGPpQ9d3D+J6q2BrRLYP917uOS4U9Y/ieqtga0S0D8zMzMzMzPLP7sKKT+p9s0/8WPMXUvIyz+7Cik/qfbFPySX/5B++8Y/MiB7vfvjwT+0q5Dyk2qvPw==\",\"dtype\":\"float64\",\"order\":\"little\",\"shape\":[14]},\"index\":[0,1,2,3,4,5,6,7,8,9,10,11,12,13],\"intrinsic noise\":{\"__ndarray__\":\"VaTC2EKQ0z9Wt3pOet/QP4fEPZY+dMk/m6xRD9Howj8dOGdEaW+4PzZZox6i0bU/EK/rF+yGtT+nIhXGFoK8P1a3ek5637A/NlmjHqLRtT/goSjQJ/K0P4fEPZY+dLE/Vrd6TnrfsD/l7QinBS+qPw==\",\"dtype\":\"float64\",\"order\":\"little\",\"shape\":[14]},\"normalized fluorescent intensity\":{\"__ndarray__\":\"XaeRlsrbgT83bFuU2SCDP+uLhLacS5E/rYbEPZY+pD/d0mpI3GOxP9uK/WX35ME/24XmOo20zD+7RPXWwFbRP/5l9+RhodY/fqmfNxWp2D9yp3Sw/s/bPwZHyatzDN4/Di2yne+n4D990LNZ9bnvPw==\",\"dtype\":\"float64\",\"order\":\"little\",\"shape\":[14]},\"total noise\":{\"__ndarray__\":\"0J+6v5Gh3T8pjujl0SXfP0s3F6uHAuA/6GGeBNnl3T+3EFhiAdbYPxNulRPU+9Y/GdWf6DTz0D9C5L6JZ7XOPwmoMcLoIM8/NLIKkPrYzT+hwG46KlXIPwsLyN9klcg/A6Nop6rHwz824v8o03K0Pw==\",\"dtype\":\"float64\",\"order\":\"little\",\"shape\":[14]}},\"selected\":{\"id\":\"1628\"},\"selection_policy\":{\"id\":\"1627\"}},\"id\":\"1610\",\"type\":\"ColumnDataSource\"},{\"attributes\":{\"coordinates\":null,\"data_source\":{\"id\":\"1631\"},\"glyph\":{\"id\":\"1633\"},\"group\":null,\"hover_glyph\":null,\"muted_glyph\":{\"id\":\"1635\"},\"nonselection_glyph\":{\"id\":\"1634\"},\"view\":{\"id\":\"1637\"}},\"id\":\"1636\",\"type\":\"GlyphRenderer\"},{\"attributes\":{},\"id\":\"1580\",\"type\":\"ResetTool\"}],\"root_ids\":[\"1559\"]},\"title\":\"Bokeh Application\",\"version\":\"2.4.2\"}};\n",
       "  const render_items = [{\"docid\":\"26083304-1544-40ce-81be-708f5aae3e56\",\"root_ids\":[\"1559\"],\"roots\":{\"1559\":\"5ae0389b-2751-4ddf-9b61-d471dd7bec0b\"}}];\n",
       "  root.Bokeh.embed.embed_items_notebook(docs_json, render_items);\n",
       "\n",
       "  }\n",
       "  if (root.Bokeh !== undefined) {\n",
       "    embed_document(root);\n",
       "  } else {\n",
       "    let attempts = 0;\n",
       "    const timer = setInterval(function(root) {\n",
       "      if (root.Bokeh !== undefined) {\n",
       "        clearInterval(timer);\n",
       "        embed_document(root);\n",
       "      } else {\n",
       "        attempts++;\n",
       "        if (attempts > 100) {\n",
       "          clearInterval(timer);\n",
       "          console.log(\"Bokeh: ERROR: Unable to run BokehJS code because BokehJS library is missing\");\n",
       "        }\n",
       "      }\n",
       "    }, 10, root)\n",
       "  }\n",
       "})(window);"
      ],
      "application/vnd.bokehjs_exec.v0+json": ""
     },
     "metadata": {
      "application/vnd.bokehjs_exec.v0+json": {
       "id": "1559"
      }
     },
     "output_type": "display_data"
    }
   ],
   "source": [
    "df_noise_int = pd.read_csv(\n",
    "    os.path.join(data_path, \"elowitz_2002_noise_vs_intensity.csv\")\n",
    ")\n",
    "\n",
    "df_noise_int[\"total noise\"] = np.sqrt(\n",
    "    df_noise_int[\"intrinsic noise\"] ** 2 + df_noise_int[\"extrinsic noise\"] ** 2\n",
    ")\n",
    "\n",
    "p = bokeh.plotting.figure(\n",
    "    frame_height=250,\n",
    "    frame_width=350,\n",
    "    x_axis_type=\"log\",\n",
    "    x_axis_label=\"normalized fluorescent intensity\",\n",
    "    y_axis_label=\"noise\",\n",
    ")\n",
    "p.circle(\n",
    "    source=df_noise_int,\n",
    "    x=\"normalized fluorescent intensity\",\n",
    "    y=\"intrinsic noise\",\n",
    "    legend_label=\"intrinsic\",\n",
    ")\n",
    "p.circle(\n",
    "    source=df_noise_int,\n",
    "    x=\"normalized fluorescent intensity\",\n",
    "    y=\"extrinsic noise\",\n",
    "    legend_label=\"extrinsic\",\n",
    "    color=\"orange\",\n",
    ")\n",
    "p.square(\n",
    "    source=df_noise_int,\n",
    "    x=\"normalized fluorescent intensity\",\n",
    "    y=\"total noise\",\n",
    "    legend_label=\"total\",\n",
    "    color=\"#2ca02c\",\n",
    ")\n",
    "\n",
    "bokeh.io.show(p)"
   ]
  },
  {
   "cell_type": "markdown",
   "metadata": {},
   "source": [
    "In the data above, intrinsic noise decays monotonically with increasing expression level, as one would expect from uncorrelated \n",
    "\n",
    "At high expression level, the copy number of LacI is low. We nonetheless see low intrisic and extrinsic noise because of the high copy numbers of the fluorophore gene product (the denominator in the noise is large). When low fluorescence intensity is observed, the intrinsic and extrinsic noise are both large, as we would expect, since the copy number of gene product is so low. However, when the IPTG concentration is very low (and therefore expression is also low), the resulting the high copy numbers of LacI dampen out extrinsic noise, leading to its drop at low intensity values.\n",
    "\n",
    "We note that at full induction, the total noise is somewhere around 0.1. By contrast, a \"good\" electronic circuit has a signal to noise ratio of about 25 or 30 dB, or a noise level of about 0.001, 100 times quieter than this example of gene expression."
   ]
  },
  {
   "cell_type": "markdown",
   "metadata": {},
   "source": [
    "## Generative Bayesian modeling of noise\n",
    "\n",
    "In the above analysis, we assumed we knew nothing about underlying probability distribution generating the data. This means we are not modeling the source of the noise, but are rather _defining_ what we mean by intrinsic and extrinsic noise based on moments of the unknown distribution, which we then estimate with plug-in estimates. We now take an alternative approach, where we propose a **generative model** for the data. The parameters of this model then define what we mean by intrinsic and extrinsic noise. We use Bayes's theorem to connect the experimental measurements to the noise, given the model.\n",
    "\n",
    "One of the beauties of generative modeling is that all assumptions are now, by necessity, explicit. We will again make the same assumptions we did when deriving the plug-in estimates, stating them more clearly here.\n",
    "\n",
    "- The mean fluorescence is equal for the CFP and YFP channels.\n",
    "- The copy number is linearly related to the measured fluorescence.\n",
    "- There is no background fluorescence.\n",
    "- All noise is inherent to the genetic machinery of the bacteria; there is no measurement error.\n",
    "- The fluorescent intensity of each cell is independent of all other cells and also identically distributed (i.i.d).\n",
    "- Although under these assumptions the measured fluorescence should take on discrete values (because the camera on the microscope is digital), we nonetheless model the fluorescence values as continuous.\n",
    "\n",
    "The assumption of no measurement error was not apparent in the nonparametric analysis we did above. We assumed we knew nothing about the distribution that produced the experimental measurements, but we then chose to _interpret_ the plug-in estimates as they relate to genetic noise, ignoring measurement noise.\n",
    "\n",
    "To build our parametric model, we must first build a probability distribution for the _likelihood_ of the data. This is the probability distribution describing observation of our data set. Because of the i.i.d. assumption, we can consider a single cell, $i$. Then, our modeling means we specify the joint probability density function $P(c_i, y_i\\mid \\theta_i)$ where $\\theta_i$ is a set of parameters that condition the observations.\n",
    "\n",
    "We will model this distribution as Normal, such that\n",
    "\n",
    "\\begin{align}\n",
    "c_i \\sim \\mathrm{Norm}(\\mu_i, \\sigma_i),\\\\[1em]\n",
    "y_i \\sim \\mathrm{Norm}(\\mu_i, \\sigma_i).\n",
    "\\end{align}\n",
    "\n",
    "Here, $\\sigma_i$ explicitly characterizes within cell variability of expression of the gene of interest; it gives the intrinsic noise. If we assume that every cell experiences the same intrinsic noise, then $\\sigma_i = \\sigma\\;\\forall i$, and\n",
    "\n",
    "\\begin{align}\n",
    "c_i \\sim \\mathrm{Norm}(\\mu_i, \\sigma),\\\\[1em]\n",
    "y_i \\sim \\mathrm{Norm}(\\mu_i, \\sigma),\n",
    "\\end{align}\n",
    "\n",
    "or\n",
    "\n",
    "\\begin{align}\n",
    "P(c_i, y_i \\mid \\mu_i, \\sigma) = \\frac{1}{2\\pi\\sigma^2}\\exp\\left[-\\frac{(c_i - \\mu_i)^2 + (y_i - \\mu_i)^2}{2\\sigma^2}\\right].\n",
    "\\end{align}\n",
    "\n",
    "The extrinsic noise affects the expression level of all genes; that is it affects variability in $\\mu_i$. We can model the $\\mu_i$'s as varying from a \"global\" value $\\mu$ with standard deviation $\\sigma_\\mu$ according to a Gaussian distribution, \n",
    "\n",
    "\\begin{align}\n",
    "\\mu_i \\sim \\mathrm{Norm}(\\mu, \\sigma_\\mu),\n",
    "\\end{align}\n",
    "\n",
    "or\n",
    "\n",
    "\\begin{align}\n",
    "P(\\mu_i\\mid \\mu, \\sigma_\\mu) = \\frac{1}{\\sqrt{2\\pi\\sigma_\\mu^2}}\\,\\exp\\left[-\\frac{(\\mu_i-\\mu)^2}{2\\sigma_\\mu^2}\\right].\n",
    "\\end{align}\n",
    "\n",
    "The parameter $\\sigma_\\mu$ is related to the extrinsic noise. We can therefore define the intrinsic and extrinsic noise as\n",
    "\n",
    "\\begin{align}\n",
    "&\\eta_\\mathrm{int} = \\frac{\\sigma}{\\mu},\\\\[1em]\n",
    "&\\eta_\\mathrm{ext} = \\frac{\\sigma_\\mu}{\\mu}.\n",
    "\\end{align}\n",
    "\n",
    "\n",
    "\n",
    "To complete the generative model, we need to specify prior distributions on the parameters $\\mu$, $\\sigma$, and $\\sigma_\\mu$; that is, we need to specify $P(\\mu, \\sigma, \\sigma_\\mu)$. We will leave that unspecified for now, and will proceed to write down Bayes's theorem for this **hierarchical model**.\n",
    "\n",
    "\\begin{align}\n",
    "P(\\{\\mu_i\\}, \\mu, \\sigma, \\sigma_\\mu\\mid \\{c_i, y_i\\}) \\propto \\left(\\prod_{i=1}^N P(c_i, y_i \\mid \\mu_i, \\sigma) P(\\mu_i\\mid \\mu, \\sigma_\\mu)\\right) P(\\mu, \\sigma, \\sigma_\\mu).\n",
    "\\end{align}\n",
    "\n",
    "Performance of full Bayesian inference on this model involves some sophisticated techniques involving Markov chain Monte Carlo, which we will not cover here, but you can explore in an end-of-chapter problem. Most important for this chapter is that we can build a generative model and directly and intuitively interpret its parameters."
   ]
  },
  {
   "cell_type": "markdown",
   "metadata": {},
   "source": [
    "## References\n",
    "\n",
    "- Elowitz, et al., Stochastic gene expression in a single cell, _Science_, 297, 1183–1186, 2002. ([link](https://doi.org/10.1126/science.1070919))"
   ]
  },
  {
   "cell_type": "markdown",
   "metadata": {},
   "source": [
    "### Computing environment"
   ]
  },
  {
   "cell_type": "code",
   "execution_count": 8,
   "metadata": {
    "tags": [
     "hide-input"
    ]
   },
   "outputs": [
    {
     "name": "stdout",
     "output_type": "stream",
     "text": [
      "Python implementation: CPython\n",
      "Python version       : 3.8.13\n",
      "IPython version      : 8.3.0\n",
      "\n",
      "numpy     : 1.21.5\n",
      "pandas    : 1.4.2\n",
      "bokeh     : 2.4.2\n",
      "jupyterlab: 3.3.2\n",
      "\n"
     ]
    }
   ],
   "source": [
    "%load_ext watermark\n",
    "%watermark -v -p numpy,pandas,bokeh,jupyterlab"
   ]
  }
 ],
 "metadata": {
  "kernelspec": {
   "display_name": "Python 3 (ipykernel)",
   "language": "python",
   "name": "python3"
  },
  "language_info": {
   "codemirror_mode": {
    "name": "ipython",
    "version": 3
   },
   "file_extension": ".py",
   "mimetype": "text/x-python",
   "name": "python",
   "nbconvert_exporter": "python",
   "pygments_lexer": "ipython3",
   "version": "3.8.13"
  },
  "toc": {
   "base_numbering": 1,
   "nav_menu": {},
   "number_sections": true,
   "sideBar": true,
   "skip_h1_title": false,
   "title_cell": "Table of Contents",
   "title_sidebar": "Contents",
   "toc_cell": false,
   "toc_position": {},
   "toc_section_display": true,
   "toc_window_display": false
  },
  "varInspector": {
   "cols": {
    "lenName": 16,
    "lenType": 16,
    "lenVar": 40
   },
   "kernels_config": {
    "python": {
     "delete_cmd_postfix": "",
     "delete_cmd_prefix": "del ",
     "library": "var_list.py",
     "varRefreshCmd": "print(var_dic_list())"
    },
    "r": {
     "delete_cmd_postfix": ") ",
     "delete_cmd_prefix": "rm(",
     "library": "var_list.r",
     "varRefreshCmd": "cat(var_dic_list()) "
    }
   },
   "types_to_exclude": [
    "module",
    "function",
    "builtin_function_or_method",
    "instance",
    "_Feature"
   ],
   "window_display": false
  }
 },
 "nbformat": 4,
 "nbformat_minor": 4
}
